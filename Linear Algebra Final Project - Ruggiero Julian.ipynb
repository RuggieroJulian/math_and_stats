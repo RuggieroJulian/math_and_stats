{
 "cells": [
  {
   "cell_type": "markdown",
   "metadata": {},
   "source": [
    "## Linear Algebra Final Project - Ruggiero Julian"
   ]
  },
  {
   "cell_type": "markdown",
   "metadata": {},
   "source": [
    "### Part 1: Solve a system of equations\n",
    "Set up a system of equations with 3 variables and 3 constraints and solve for x."
   ]
  },
  {
   "cell_type": "markdown",
   "metadata": {},
   "source": [
    "The function to solve will be the form __Ax = b__"
   ]
  },
  {
   "cell_type": "markdown",
   "metadata": {},
   "source": [
    "$$\\begin{array}{lrcrcrcr}\n",
    "        2x_{1} & + & 1x_{2} & + & 1x_{3} & = & 4 \\\\\n",
    "        1x_{1} & + & 3x_{2} & + & 0x_{3} & = & 5 \\\\\n",
    "        1x_{1} & + & 2x_{2} & + & 0x_{3} & = & 6\n",
    "\\end{array}$$"
   ]
  },
  {
   "cell_type": "code",
   "execution_count": 1,
   "metadata": {},
   "outputs": [],
   "source": [
    "import numpy as np\n",
    "# define matrix A\n",
    "A = np.array([[2, 1, 1], [1, 3, 2], [1, 0, 0]]) \n",
    "\n",
    "# define vector solution b\n",
    "b=[4, 5, 6]"
   ]
  },
  {
   "cell_type": "code",
   "execution_count": 2,
   "metadata": {},
   "outputs": [],
   "source": [
    "#transform b to get the same dimensions as A to concatenate\n",
    "B = np.array([b]) \n",
    "\n",
    "#transpose B and concatenate to A\n",
    "A=np.concatenate((A, B.T), axis=1)"
   ]
  },
  {
   "cell_type": "code",
   "execution_count": 3,
   "metadata": {},
   "outputs": [
    {
     "data": {
      "text/plain": [
       "array([[2, 1, 1, 4],\n",
       "       [1, 3, 2, 5],\n",
       "       [1, 0, 0, 6]])"
      ]
     },
     "execution_count": 3,
     "metadata": {},
     "output_type": "execute_result"
    }
   ],
   "source": [
    "A"
   ]
  },
  {
   "cell_type": "code",
   "execution_count": 4,
   "metadata": {},
   "outputs": [
    {
     "name": "stdout",
     "output_type": "stream",
     "text": [
      "Scalar:  -0.5\n",
      "New row 2  \n",
      " [0.  2.5 1.5 3. ]\n"
     ]
    }
   ],
   "source": [
    "#define row1, row2 and row3\n",
    "row1=A[0]\n",
    "row2=A[1]\n",
    "row3=A[2]\n",
    "\n",
    "#to work easier in the code, define the corresponding 'a' elements\n",
    "a11,a12,a13,a14=row1\n",
    "a21,a22,a23,a24=row2\n",
    "a31,a32,a33,a34=row3\n",
    "\n",
    "# start Gauss elimination\n",
    "# create scalar (-1/2) to multiply row1 and add to row2\n",
    "scalar_row2=-a21/a11\n",
    "row=row1 * scalar_row2\n",
    "row2=row+row2\n",
    "a21,a22,a23,a24=row2\n",
    "\n",
    "print('Scalar: ', scalar_row2)\n",
    "print('New row 2  \\n', row2)"
   ]
  },
  {
   "cell_type": "code",
   "execution_count": 5,
   "metadata": {},
   "outputs": [
    {
     "name": "stdout",
     "output_type": "stream",
     "text": [
      "Scalar:  -0.5\n",
      "New row 3  \n",
      " [ 0.  -0.5 -0.5  4. ]\n"
     ]
    }
   ],
   "source": [
    "# create scalar (-1/2) to multiply row1 and add to row3\n",
    "scalar_row3=-a31/a11\n",
    "row=row1 * scalar_row3\n",
    "row3=row+row3\n",
    "a31,a32,a33,a34=row3\n",
    "\n",
    "print('Scalar: ', scalar_row3)\n",
    "print('New row 3  \\n', row3)"
   ]
  },
  {
   "cell_type": "markdown",
   "metadata": {},
   "source": [
    "Up to now the system of equations looks like this:"
   ]
  },
  {
   "cell_type": "markdown",
   "metadata": {},
   "source": [
    "$$\\begin{array}{lrcrcrcr}\n",
    "        2x_{1} & + & 1x_{2} & + & 1x_{3} & = & 4 \\\\\n",
    "        0x_{1} & + & 2.5x_{2} & + & 1.5x_{3} & = & 3 \\\\\n",
    "        0x_{1} & - & 0.5x_{2} & - & 0.5x_{3} & = & 4\n",
    "\\end{array}$$"
   ]
  },
  {
   "cell_type": "markdown",
   "metadata": {},
   "source": [
    "Now we need to get a zero in the a32 element, so the scalar to multiply row2 is __1/5__ and add to row 3."
   ]
  },
  {
   "cell_type": "code",
   "execution_count": 6,
   "metadata": {},
   "outputs": [
    {
     "name": "stdout",
     "output_type": "stream",
     "text": [
      "Scalar:  0.2\n",
      "New row 3  \n",
      " [ 0.   0.  -0.2  4.6]\n"
     ]
    }
   ],
   "source": [
    "# create scalar to multiply row2 and add to row3\n",
    "scalar_row3=-a32/a22\n",
    "row=row2 * scalar_row3\n",
    "row3=row+row3\n",
    "a31,a32,a33,a34=row3\n",
    "\n",
    "print('Scalar: ', scalar_row3)\n",
    "print('New row 3  \\n', row3)"
   ]
  },
  {
   "cell_type": "markdown",
   "metadata": {},
   "source": [
    "The system looks like this now:"
   ]
  },
  {
   "cell_type": "markdown",
   "metadata": {},
   "source": [
    "$$\\begin{array}{lrcrcrcr}\n",
    "        2x_{1} & + & 1x_{2} & + & 1x_{3} & = & 4 \\\\\n",
    "        0x_{1} & + & 2.5x_{2} & + & 1.5x_{3} & = & 3 \\\\\n",
    "        0x_{1} & + & 0x_{2} & - & 0.2x_{3} & = & 4.6\n",
    "\\end{array}$$"
   ]
  },
  {
   "cell_type": "markdown",
   "metadata": {},
   "source": [
    "Using back substitution:"
   ]
  },
  {
   "cell_type": "code",
   "execution_count": 7,
   "metadata": {},
   "outputs": [
    {
     "name": "stdout",
     "output_type": "stream",
     "text": [
      "x1= 6.0 , x2= 15.0 , x3= -23.0\n"
     ]
    }
   ],
   "source": [
    "#get results, back substitution\n",
    "x3=a34/a33\n",
    "x2=(a24-(a23*x3))/a22\n",
    "x1=(a14-(a13*x3)-(a12*x2))/a11\n",
    "\n",
    "print('x1=', round(x1,2),', x2=', round(x2,2),', x3=', round(x3,2))"
   ]
  },
  {
   "cell_type": "markdown",
   "metadata": {},
   "source": [
    "### Part 2: Write a function and solve using elimination\n",
    "Write a function in python that will take two variables (matrix A & constraint vector b) and solve using elimination. Your function should produce the right answer for the system of equations for any 3-variable, 3-equation system.\n",
    "\n",
    "You don’t have to worry about degenerate cases and can safely assume that the function will only be tested with a system of equations that has a solution. Nor do you have to worry about zero pivots.\n",
    "\n",
    "Do not use the built-in function solver to solve this system or use matrix inverses. The approach that you should employ is to construct an Upper Triangular Matrix and then back-substitute to get the solution.  Alternatively, you can augment the matrix A with vector b and jointly apply the Gauss Jordan elimination procedure.\n",
    "\n",
    "Please then submit two test equations to show that your approach works."
   ]
  },
  {
   "cell_type": "code",
   "execution_count": 8,
   "metadata": {},
   "outputs": [],
   "source": [
    "def solve_3_x_3(A,b):\n",
    "    \"\"\"This function takes a 3x3 matrix and the solution vector b\n",
    "    and solve to find x1,x2,x3 using Gauss elimination and back substitution.\n",
    "    I make the assumption that the matrix received is a 3x3\"\"\"\n",
    "    \n",
    "    #transform b to get the same dimensions as A to concatenate\n",
    "    B = np.array([b]) \n",
    "    \n",
    "    #transpose B and concatenate to A\n",
    "    A=np.concatenate((A, B.T), axis=1)\n",
    "    \n",
    "    #check if swap rows is needed\n",
    "    if(A[0,0]==0):\n",
    "        A=swap_rows(A)\n",
    "    \n",
    "    #define row1, row2 and row3\n",
    "    row1=A[0]\n",
    "    row2=A[1]\n",
    "    row3=A[2]\n",
    "    \n",
    "    #to work easier in the code, define the corresponding 'a' elements\n",
    "    a11,a12,a13,a14=row1\n",
    "    a21,a22,a23,a24=row2\n",
    "    a31,a32,a33,a34=row3\n",
    "    \n",
    "    # start Gauss elimination, check if first element in row 3 is not zero\n",
    "    if(a21!=0):\n",
    "        \n",
    "        # create scalar to multiply row1 and add to row2\n",
    "        scalar_row2=-a21/a11\n",
    "        row=row1 * scalar_row2\n",
    "        row2=row+row2\n",
    "        a21,a22,a23,a24=row2\n",
    "        \n",
    "    #check if first element in row 3 is not zero\n",
    "    if(a31!=0):\n",
    "        \n",
    "        # create scalar to multiply row1 and add to row3\n",
    "        scalar_row3=-a31/a11\n",
    "        row=row1 * scalar_row3\n",
    "        row3=row+row3\n",
    "        a31,a32,a33,a34=row3\n",
    "        \n",
    "    #check if second element in row 3 is not zero\n",
    "    if(a32!=0):\n",
    "        \n",
    "        # create scalar to multiply row2 and add to row3\n",
    "        scalar_row3=-a32/a22\n",
    "        row=row2 * scalar_row3\n",
    "        row3=row+row3\n",
    "        a31,a32,a33,a34=row3\n",
    "    \n",
    "    #get results, back substitution\n",
    "    x3=a34/a33\n",
    "    x2=(a24-(a23*x3))/a22\n",
    "    x1=(a14-(a13*x3)-(a12*x2))/a11\n",
    "    \n",
    "    return np.array([x1, x2, x3])"
   ]
  },
  {
   "cell_type": "code",
   "execution_count": 9,
   "metadata": {},
   "outputs": [],
   "source": [
    "def swap_rows(A):\n",
    "    \n",
    "    \"\"\"Function that gets a matrix A that need a row swap \n",
    "    because of a zero in the first element\"\"\"\n",
    "    \n",
    "    row1=A[0]\n",
    "    row2=A[1]\n",
    "    row3=A[2]\n",
    "    \n",
    "    a11,a12,a13,a14=row1\n",
    "    a21,a22,a23,a24=row2\n",
    "    a31,a32,a33,a34=row3\n",
    "    \n",
    "    if(a12 != 0):\n",
    "        #swap row1 and row2\n",
    "        row1,row2=row2,row1\n",
    "        return np.array([row1, row2, row3])\n",
    "\n",
    "    if(a13 != 0):\n",
    "        #swap row1 and row3\n",
    "        row1,row3=row3,row1\n",
    "        return np.array([row1, row2, row3])"
   ]
  },
  {
   "cell_type": "markdown",
   "metadata": {},
   "source": [
    "__Test case 1__"
   ]
  },
  {
   "cell_type": "code",
   "execution_count": 10,
   "metadata": {},
   "outputs": [
    {
     "data": {
      "text/plain": [
       "array([  6.,  15., -23.])"
      ]
     },
     "execution_count": 10,
     "metadata": {},
     "output_type": "execute_result"
    }
   ],
   "source": [
    "A = np.array([[2, 1, 1], [1, 3, 2], [1, 0, 0]]) \n",
    "b=[4, 5, 6]\n",
    "solve_3_x_3(A,b)"
   ]
  },
  {
   "cell_type": "markdown",
   "metadata": {},
   "source": [
    "__Test case 2__"
   ]
  },
  {
   "cell_type": "code",
   "execution_count": 11,
   "metadata": {},
   "outputs": [
    {
     "data": {
      "text/plain": [
       "array([ 9., -7.,  2.])"
      ]
     },
     "execution_count": 11,
     "metadata": {},
     "output_type": "execute_result"
    }
   ],
   "source": [
    "A=np.array([[2,12,17],[-3,-7,-8],[1,4,6]])\n",
    "b=[-32, 6, -7]\n",
    "solve_3_x_3(A,b)"
   ]
  },
  {
   "cell_type": "code",
   "execution_count": 12,
   "metadata": {},
   "outputs": [
    {
     "data": {
      "text/plain": [
       "array([ 3.,  1., -0.])"
      ]
     },
     "execution_count": 12,
     "metadata": {},
     "output_type": "execute_result"
    }
   ],
   "source": [
    "A = np.array([[2,-3,0],[4,-5,1],[2,-1,-3]]) \n",
    "b=[3, 7, 5]\n",
    "solve_3_x_3(A,b)"
   ]
  },
  {
   "cell_type": "code",
   "execution_count": 13,
   "metadata": {},
   "outputs": [
    {
     "name": "stdout",
     "output_type": "stream",
     "text": [
      "Solutions:\n",
      " [  6.  15. -23.]\n"
     ]
    }
   ],
   "source": [
    "#checking with prebuilt functions\n",
    "A = np.array([[2, 1, 1], [1, 3, 2], [1, 0, 0]]) \n",
    "#define matrix B \n",
    "B = np.array([4, 5, 6]) \n",
    "# linalg.solve is the function of NumPy to solve a system of linear scalar equations \n",
    "print (\"Solutions:\\n\",np.linalg.solve(A, B ) )\n",
    "#Solutions: [ 6. 15. -23.]"
   ]
  },
  {
   "cell_type": "code",
   "execution_count": 14,
   "metadata": {},
   "outputs": [
    {
     "name": "stdout",
     "output_type": "stream",
     "text": [
      "Solutions:\n",
      " [ 9. -7.  2.]\n"
     ]
    }
   ],
   "source": [
    "A=np.array([[2,12,17],[-3,-7,-8],[1,4,6]])\n",
    "B = np.array([-32, 6, -7]) \n",
    "print (\"Solutions:\\n\",np.linalg.solve(A, B ) )"
   ]
  },
  {
   "cell_type": "markdown",
   "metadata": {},
   "source": [
    "### Part 3: Functions of matrices\n",
    "\n",
    "Show that $\\pmb A^TA$ does not equal $\\pmb AA^T$ in general\n",
    "\n",
    "For a special type of square matrix A, we get $\\pmb A^TA$ = $\\pmb AA^T$. Under what conditions could this be true? (Hint: The Identity matrix I is an example of such a matrix)."
   ]
  },
  {
   "cell_type": "markdown",
   "metadata": {},
   "source": [
    "I will have a function check_dot_prod_with_t() that verifies this condition."
   ]
  },
  {
   "cell_type": "code",
   "execution_count": 15,
   "metadata": {},
   "outputs": [],
   "source": [
    "def check_dot_prod_with_t(A):\n",
    "    \"\"\"Receives a square matrix as a parameter and checks if \n",
    "    if A dot product Transpose = Transpose dot product A\"\"\"\n",
    "    \n",
    "    #get the transpose\n",
    "    transpose=A.T\n",
    "    \n",
    "    #dot product between transpose and A\n",
    "    ATdotA=np.dot(transpose,A)\n",
    "    \n",
    "    #dot product between A and its transpose \n",
    "    AdotAT=np.dot(A,transpose)\n",
    "    \n",
    "    #if the 2 dot products are equal, return true, else false\n",
    "    return np.array_equal(ATdotA, AdotAT)"
   ]
  },
  {
   "cell_type": "code",
   "execution_count": 16,
   "metadata": {},
   "outputs": [
    {
     "data": {
      "text/plain": [
       "False"
      ]
     },
     "execution_count": 16,
     "metadata": {},
     "output_type": "execute_result"
    }
   ],
   "source": [
    "#check for a random 2x2 matrix\n",
    "A = np.array([[2, 8], [3, 4]]) \n",
    "check_dot_prod_with_t(A)"
   ]
  },
  {
   "cell_type": "code",
   "execution_count": 17,
   "metadata": {},
   "outputs": [
    {
     "data": {
      "text/plain": [
       "True"
      ]
     },
     "execution_count": 17,
     "metadata": {},
     "output_type": "execute_result"
    }
   ],
   "source": [
    "#check with identity matrix\n",
    "A = np.array([[1, 0], [0, 1]]) \n",
    "check_dot_prod_with_t(A)"
   ]
  },
  {
   "cell_type": "markdown",
   "metadata": {},
   "source": [
    "For this condition to apply, the square matrix has to be symetric. As mentioned above the Identity matrix is an example. "
   ]
  },
  {
   "cell_type": "code",
   "execution_count": 18,
   "metadata": {},
   "outputs": [
    {
     "data": {
      "text/plain": [
       "True"
      ]
     },
     "execution_count": 18,
     "metadata": {},
     "output_type": "execute_result"
    }
   ],
   "source": [
    "#check for a new 2x2\n",
    "A = np.array([[2, 8], [8, 2]]) \n",
    "check_dot_prod_with_t(A)"
   ]
  },
  {
   "cell_type": "code",
   "execution_count": 19,
   "metadata": {},
   "outputs": [
    {
     "data": {
      "text/plain": [
       "True"
      ]
     },
     "execution_count": 19,
     "metadata": {},
     "output_type": "execute_result"
    }
   ],
   "source": [
    "#define other square symetric matrix\n",
    "A = np.array([[3, -2, 4], [-2, 6, 2], [4, 2, 3]]) \n",
    "check_dot_prod_with_t(A)"
   ]
  },
  {
   "cell_type": "markdown",
   "metadata": {},
   "source": [
    "### Part 4: Matrix factorization\n",
    "\n",
    "Matrix factorization is a very important problem. There are supercomputers built just to do matrix factorizations. Every second you are on an airplane, matrices are being factorized. Radars that track ﬂights use a technique called Kalman ﬁltering. At the heart of Kalman Filtering is a Matrix Factorization operation. Kalman Filters are solving linear systems of equations when they track your ﬂight using radars.\n",
    "\n",
    "Write a python function to factorize a square matrix A into LU or LDU, whichever you prefer. Assume that the matrix size is less than 5 by 5."
   ]
  },
  {
   "cell_type": "markdown",
   "metadata": {},
   "source": [
    "##### Important note"
   ]
  },
  {
   "cell_type": "markdown",
   "metadata": {},
   "source": [
    "Solution for part 2 did not use any for loop and is fixed to a 3x3 matrix. Now I need to solve for 2x2 and 4x4, so I will create similar functions to handle these new cases and depending on the size of the incoming matrix the general function __get_LU_decomposition()__ will execute the one that applies to that matrix size."
   ]
  },
  {
   "cell_type": "code",
   "execution_count": 20,
   "metadata": {},
   "outputs": [],
   "source": [
    "def get_LU_decomposition(A):\n",
    "    \"\"\"Checks the matrix size and calls the corresponding function\"\"\"\n",
    "    \n",
    "    if len(A) == 2:\n",
    "        return get_U_decomposition_2_x_2(A)\n",
    "    \n",
    "    if len(A) == 3:\n",
    "        return get_U_decomposition_3_x_3(A)\n",
    "    \n",
    "    if len(A) == 4:\n",
    "        return get_U_decomposition_4_x_4(A)"
   ]
  },
  {
   "cell_type": "code",
   "execution_count": 21,
   "metadata": {},
   "outputs": [],
   "source": [
    "#THIS ONE RETURNS THE UPPER MATRIX \"U\", and the coefficients to place and create the L\n",
    "def get_U_decomposition_2_x_2(A):\n",
    "    \"\"\"THIS ONE RETURNS THE UPPER MATRIX 'U', and the coefficients to place and create the L\n",
    "    for a 2x2 matrix\"\"\"\n",
    "    \n",
    "    #define a list to collect the coefficients that helps in the Gauss elimination\n",
    "    scalars=[]\n",
    "    \n",
    "    #check if swap rows is needed\n",
    "    if(A[0,0]==0):\n",
    "        A=swap_rows(A)\n",
    "    \n",
    "    #define row1, row2 and row3\n",
    "    row1=A[0]\n",
    "    row2=A[1]\n",
    "    \n",
    "    #to work easier in the code and avoid confusion that python starts at zero position \n",
    "    #we define the corresponding 'a' elements\n",
    "    a11,a12=row1\n",
    "    a21,a22=row2\n",
    "    \n",
    "    # start Gauss elimination, check if first element in row 2 is not zero\n",
    "    if(a21!=0):\n",
    "        \n",
    "        # create scalar to multiply row1 and add to row2\n",
    "        scalar=-a21/a11\n",
    "        row=row1 * scalar\n",
    "        row2=row+row2\n",
    "        a21,a22=row2\n",
    "        scalars.append(scalar*-1)\n",
    "        print(scalar)\n",
    "      \n",
    "    #return upper matrix U and the coefficients to create lower matrix L\n",
    "    return np.array([row1, row2]), scalars"
   ]
  },
  {
   "cell_type": "code",
   "execution_count": 22,
   "metadata": {},
   "outputs": [
    {
     "name": "stdout",
     "output_type": "stream",
     "text": [
      "-0.5\n"
     ]
    },
    {
     "data": {
      "text/plain": [
       "(array([[2. , 1. ],\n",
       "        [0. , 2.5]]), [0.5])"
      ]
     },
     "execution_count": 22,
     "metadata": {},
     "output_type": "execute_result"
    }
   ],
   "source": [
    "A = np.array([[2, 1], [1, 3]]) \n",
    "result=get_LU_decomposition(A)\n",
    "result"
   ]
  },
  {
   "cell_type": "code",
   "execution_count": 23,
   "metadata": {},
   "outputs": [],
   "source": [
    "#THIS ONE RETURNS THE UPPER MATRIX \"U\", and the coefficients to place and create the L\n",
    "def get_U_decomposition_3_x_3(A):\n",
    "    \"\"\"THIS ONE RETURNS THE UPPER MATRIX 'U', and the coefficients to place and create the L\n",
    "    for a 3x3 matrix\"\"\"\n",
    "    \n",
    "    #define a list to collect the coefficients that helps in the Gauss elimination\n",
    "    scalars=[]\n",
    "    \n",
    "    #check if swap rows is needed\n",
    "    if(A[0,0]==0):\n",
    "        A=swap_rows(A)\n",
    "    \n",
    "    #define row1, row2 and row3\n",
    "    row1=A[0]\n",
    "    row2=A[1]\n",
    "    row3=A[2]\n",
    "    \n",
    "    #to work easier in the code and avoid confusion that python starts at zero position \n",
    "    #we define the corresponding 'a' elements\n",
    "    a11,a12,a13=row1\n",
    "    a21,a22,a23=row2\n",
    "    a31,a32,a33=row3\n",
    "    \n",
    "    # start Gauss elimination, check if first element in row 2 is not zero\n",
    "    if(a21!=0):\n",
    "        \n",
    "        # create scalar to multiply row1 and add to row2\n",
    "        scalar=-a21/a11\n",
    "        row=row1 * scalar\n",
    "        row2=row+row2\n",
    "        a21,a22,a23=row2\n",
    "        scalars.append(scalar*-1)\n",
    "        print(scalar)\n",
    "        \n",
    "    #check if first element in row 3 is not zero\n",
    "    if(a31!=0):\n",
    "        \n",
    "        # create scalar to multiply row1 and add to row3\n",
    "        scalar=-a31/a11\n",
    "        row=row1 * scalar\n",
    "        row3=row+row3\n",
    "        a31,a32,a33=row3\n",
    "        scalars.append(scalar*-1)\n",
    "        print(scalar)\n",
    "        \n",
    "    #check if second element in row 3 is not zero\n",
    "    if(a32!=0):\n",
    "        \n",
    "        # create scalar to multiply row2 and add to row3\n",
    "        scalar=-a32/a22\n",
    "        row=row2 * scalar\n",
    "        row3=row+row3\n",
    "        a31,a32,a33=row3\n",
    "        scalars.append(scalar*-1)\n",
    "        print(scalar)\n",
    "      \n",
    "    #return upper matrix U and the coefficients to create lower matrix L\n",
    "    return np.array([row1, row2, row3]), scalars"
   ]
  },
  {
   "cell_type": "markdown",
   "metadata": {},
   "source": [
    "Testing for function __get_U_decomposition_3_x_3(A)__"
   ]
  },
  {
   "cell_type": "code",
   "execution_count": 24,
   "metadata": {},
   "outputs": [
    {
     "name": "stdout",
     "output_type": "stream",
     "text": [
      "-0.5\n",
      "-0.5\n",
      "0.2\n"
     ]
    },
    {
     "data": {
      "text/plain": [
       "(array([[ 2. ,  1. ,  1. ],\n",
       "        [ 0. ,  2.5,  1.5],\n",
       "        [ 0. ,  0. , -0.2]]), [0.5, 0.5, -0.2])"
      ]
     },
     "execution_count": 24,
     "metadata": {},
     "output_type": "execute_result"
    }
   ],
   "source": [
    "A = np.array([[2, 1, 1], [1, 3, 2], [1, 0, 0]]) \n",
    "result=get_LU_decomposition(A)\n",
    "result"
   ]
  },
  {
   "cell_type": "code",
   "execution_count": 25,
   "metadata": {},
   "outputs": [
    {
     "data": {
      "text/plain": [
       "array([[ 2. ,  1. ,  1. ],\n",
       "       [ 0. ,  2.5,  1.5],\n",
       "       [ 0. ,  0. , -0.2]])"
      ]
     },
     "execution_count": 25,
     "metadata": {},
     "output_type": "execute_result"
    }
   ],
   "source": [
    "U=result[0]\n",
    "U"
   ]
  },
  {
   "cell_type": "code",
   "execution_count": 26,
   "metadata": {},
   "outputs": [
    {
     "data": {
      "text/plain": [
       "array([[ 1. ,  0. ,  0. ],\n",
       "       [ 0.5,  1. ,  0. ],\n",
       "       [ 0.5, -0.2,  1. ]])"
      ]
     },
     "execution_count": 26,
     "metadata": {},
     "output_type": "execute_result"
    }
   ],
   "source": [
    "#to create L we can start with an identity matrix\n",
    "L=np.eye(3)\n",
    "\n",
    "#fill the identity with the corresponding coefficients to get the lower matrix L\n",
    "L[1,0]=result[1][0]\n",
    "L[2,0]=result[1][1]\n",
    "L[2,1]=result[1][2]\n",
    "L"
   ]
  },
  {
   "cell_type": "code",
   "execution_count": 27,
   "metadata": {},
   "outputs": [
    {
     "data": {
      "text/plain": [
       "array([[ 2.00000000e+00,  1.00000000e+00,  1.00000000e+00],\n",
       "       [ 1.00000000e+00,  3.00000000e+00,  2.00000000e+00],\n",
       "       [ 1.00000000e+00, -2.77555756e-17,  2.77555756e-17]])"
      ]
     },
     "execution_count": 27,
     "metadata": {},
     "output_type": "execute_result"
    }
   ],
   "source": [
    "# verify with dot product that LU = A\n",
    "dot=np.dot(L,U)\n",
    "dot"
   ]
  },
  {
   "cell_type": "code",
   "execution_count": 28,
   "metadata": {},
   "outputs": [
    {
     "data": {
      "text/plain": [
       "array([[ 2. ,  1. ,  1. ],\n",
       "       [ 0. ,  2.5,  1.5],\n",
       "       [ 0. ,  0. , -0.2]])"
      ]
     },
     "execution_count": 28,
     "metadata": {},
     "output_type": "execute_result"
    }
   ],
   "source": [
    "# Verify same matrix A with python prebuilt library scipy.linalg\n",
    "import scipy.linalg as linalg\n",
    "A = np.array([[2, 1, 1], [1, 3, 2], [1, 0, 0]]) \n",
    "P, L, U = linalg.lu(A) \n",
    "U"
   ]
  },
  {
   "cell_type": "code",
   "execution_count": 29,
   "metadata": {},
   "outputs": [
    {
     "data": {
      "text/plain": [
       "array([[ 1. ,  0. ,  0. ],\n",
       "       [ 0.5,  1. ,  0. ],\n",
       "       [ 0.5, -0.2,  1. ]])"
      ]
     },
     "execution_count": 29,
     "metadata": {},
     "output_type": "execute_result"
    }
   ],
   "source": [
    "L"
   ]
  },
  {
   "cell_type": "code",
   "execution_count": 30,
   "metadata": {},
   "outputs": [
    {
     "data": {
      "text/plain": [
       "array([[ 2.00000000e+00,  1.00000000e+00,  1.00000000e+00],\n",
       "       [ 1.00000000e+00,  3.00000000e+00,  2.00000000e+00],\n",
       "       [ 1.00000000e+00, -2.77555756e-17,  0.00000000e+00]])"
      ]
     },
     "execution_count": 30,
     "metadata": {},
     "output_type": "execute_result"
    }
   ],
   "source": [
    "np.dot(L,U)"
   ]
  },
  {
   "cell_type": "markdown",
   "metadata": {},
   "source": [
    "__LU Decomposition for a 4x4__"
   ]
  },
  {
   "cell_type": "code",
   "execution_count": 31,
   "metadata": {},
   "outputs": [],
   "source": [
    "#THIS ONE RETURNS THE UPPER MATRIX \"U\", and the coefficients to place and create the L\n",
    "def get_U_decomposition_4_x_4(A):\n",
    "    \"\"\"THIS ONE RETURNS THE UPPER MATRIX 'U', and the coefficients to place and create the L\n",
    "    for a 4x4 matrix\"\"\"\n",
    "    \n",
    "    #define a list to collect the coefficients that helps in the Gauss elimination\n",
    "    scalars=[]\n",
    "     \n",
    "    #define row1, row2, row3 and row4\n",
    "    row1=A[0]\n",
    "    row2=A[1]\n",
    "    row3=A[2]\n",
    "    row4=A[3]\n",
    "    \n",
    "    #to work easier in the code, define the corresponding 'a' elements\n",
    "    a11,a12,a13,a14=row1\n",
    "    a21,a22,a23,a24=row2\n",
    "    a31,a32,a33,a34=row3\n",
    "    a41,a42,a43,a44=row4\n",
    "    \n",
    "    # start Gauss elimination\n",
    "    #check if first element in row 2 is not zero\n",
    "    if(a21!=0):\n",
    "        \n",
    "        # create scalar to multiply row1 and add to row2\n",
    "        scalar=-a21/a11\n",
    "        row=row1 * scalar\n",
    "        row2=row+row2\n",
    "        \n",
    "        #refresh new values \n",
    "        a21,a22,a23,a24=row2\n",
    "        \n",
    "        #append the scalar that was used as multiplier to create the lower matrix L\n",
    "        scalars.append(scalar*-1)\n",
    "    else:\n",
    "        #in case that the position is already zero, \n",
    "        #store a 0.0 to then place this in the correct position in the L matrix\n",
    "        scalars.append(0.0)\n",
    "        \n",
    "    #check if first element in row 3 is not zero\n",
    "    if(a31!=0):\n",
    "        \n",
    "        # create scalar to multiply row1 and add to row3\n",
    "        scalar=-a31/a11\n",
    "        row=row1 * scalar\n",
    "        row3=row+row3\n",
    "        a31,a32,a33,a34=row3\n",
    "        scalars.append(scalar*-1)\n",
    "    else:\n",
    "        scalars.append(0.0)\n",
    "        \n",
    "    #check if first element in row 4 is not zero\n",
    "    if(a41!=0):\n",
    "        \n",
    "        # create scalar to multiply row1 and add to row3\n",
    "        scalar=-a41/a11\n",
    "        row=row1 * scalar\n",
    "        row4=row+row4\n",
    "        a41,a42,a43,a44=row4\n",
    "        scalars.append(scalar*-1)\n",
    "    else:\n",
    "        scalars.append(0.0)\n",
    "        \n",
    "    #check if second element in row 3 is not zero\n",
    "    if(a32!=0):\n",
    "        \n",
    "        # create scalar to multiply row2 and add to row3\n",
    "        scalar=-a32/a22\n",
    "        row=row2 * scalar\n",
    "        row3=row+row3\n",
    "        a31,a32,a33=row3\n",
    "        scalars.append(scalar*-1)\n",
    "    else:\n",
    "        scalars.append(0.0)\n",
    "    \n",
    "    #check if second element in row 4 is not zero\n",
    "    if(a42!=0):\n",
    "        \n",
    "        # create scalar to multiply row2 and add to row3\n",
    "        scalar=-a42/a22\n",
    "        row=row2 * scalar\n",
    "        row4=row+row4\n",
    "        a41,a42,a43,a44=row4\n",
    "        scalars.append(scalar*-1)\n",
    "    else:\n",
    "        scalars.append(0.0)\n",
    "        \n",
    "    #check if third element in row 4 is not zero\n",
    "    if(a43!=0):\n",
    "        \n",
    "        # create scalar to multiply row2 and add to row3\n",
    "        scalar=-a43/a33\n",
    "        row=row3 * scalar\n",
    "        row4=row+row4\n",
    "        a41,a42,a43,a44=row4\n",
    "        scalars.append(scalar*-1)\n",
    "    else:\n",
    "        scalars.append(0.0)\n",
    "     \n",
    "    #return upper matrix U and the coefficients to create lower matrix L\n",
    "    return np.array([row1, row2, row3, row4]), scalars"
   ]
  },
  {
   "cell_type": "code",
   "execution_count": 32,
   "metadata": {},
   "outputs": [],
   "source": [
    "def swap_rows_4x4(A):\n",
    "    row1=A[0]\n",
    "    row2=A[1]\n",
    "    row3=A[2]\n",
    "    row4=A[3]\n",
    "    \n",
    "    a11,a12,a13,a14,a15=row1\n",
    "    a21,a22,a23,a24,a25=row2\n",
    "    a31,a32,a33,a34,a35=row3\n",
    "    a41,a42,a43,a44,a45=row4\n",
    "    \n",
    "    if(a12 != 0):\n",
    "        #swap row1 and row2\n",
    "        row1,row2=row2,row1\n",
    "        return np.array([row1, row2, row3])\n",
    "\n",
    "    if(a13 != 0):\n",
    "        #swap row1 and row3\n",
    "        row1,row3=row3,row1\n",
    "        return np.array([row1, row2, row3])"
   ]
  },
  {
   "cell_type": "markdown",
   "metadata": {},
   "source": [
    "Testing for function __get_U_decomposition_4_x_4(A)__"
   ]
  },
  {
   "cell_type": "code",
   "execution_count": 33,
   "metadata": {},
   "outputs": [
    {
     "data": {
      "text/plain": [
       "(array([[ 1., -2., -2., -3.],\n",
       "        [ 0., -3.,  6.,  0.],\n",
       "        [ 0.,  0.,  2.,  4.],\n",
       "        [ 0.,  0.,  0.,  1.]]), [3.0, -1.0, -3.0, 0.0, 4.0, -2.0])"
      ]
     },
     "execution_count": 33,
     "metadata": {},
     "output_type": "execute_result"
    }
   ],
   "source": [
    "A=np.array([[1,-2,-2,-3],[3,-9,0,-9],[-1,2,4,7],[-3,-6,26,2]])\n",
    "result=get_LU_decomposition(A)\n",
    "result"
   ]
  },
  {
   "cell_type": "code",
   "execution_count": 201,
   "metadata": {},
   "outputs": [
    {
     "data": {
      "text/plain": [
       "array([[ 1., -2., -2., -3.],\n",
       "       [ 0., -3.,  6.,  0.],\n",
       "       [ 0.,  0.,  2.,  4.],\n",
       "       [ 0.,  0.,  0.,  1.]])"
      ]
     },
     "execution_count": 201,
     "metadata": {},
     "output_type": "execute_result"
    }
   ],
   "source": [
    "U=result[0]\n",
    "U"
   ]
  },
  {
   "cell_type": "code",
   "execution_count": 202,
   "metadata": {},
   "outputs": [
    {
     "data": {
      "text/plain": [
       "array([[ 1.,  0.,  0.,  0.],\n",
       "       [ 3.,  1.,  0.,  0.],\n",
       "       [-1.,  0.,  1.,  0.],\n",
       "       [-3.,  4., -2.,  1.]])"
      ]
     },
     "execution_count": 202,
     "metadata": {},
     "output_type": "execute_result"
    }
   ],
   "source": [
    "#to create L we can start with an identity matrix\n",
    "L=np.eye(4)\n",
    "\n",
    "#fill the identity with the corresponding coefficients to get the lower matrix L\n",
    "L[1,0]=result[1][0]\n",
    "L[2,0]=result[1][1]\n",
    "L[3,0]=result[1][2]\n",
    "L[2,1]=result[1][3]\n",
    "L[3,1]=result[1][4]\n",
    "L[3,2]=result[1][5]\n",
    "L"
   ]
  },
  {
   "cell_type": "code",
   "execution_count": 203,
   "metadata": {},
   "outputs": [
    {
     "data": {
      "text/plain": [
       "array([[ 1., -2., -2., -3.],\n",
       "       [ 3., -9.,  0., -9.],\n",
       "       [-1.,  2.,  4.,  7.],\n",
       "       [-3., -6., 26.,  2.]])"
      ]
     },
     "execution_count": 203,
     "metadata": {},
     "output_type": "execute_result"
    }
   ],
   "source": [
    "#checking that LU = A\n",
    "np.dot(L,U)"
   ]
  },
  {
   "cell_type": "code",
   "execution_count": 204,
   "metadata": {},
   "outputs": [
    {
     "data": {
      "text/plain": [
       "array([[ 1, -2, -2, -3],\n",
       "       [ 3, -9,  0, -9],\n",
       "       [-1,  2,  4,  7],\n",
       "       [-3, -6, 26,  2]])"
      ]
     },
     "execution_count": 204,
     "metadata": {},
     "output_type": "execute_result"
    }
   ],
   "source": [
    "A"
   ]
  },
  {
   "cell_type": "markdown",
   "metadata": {},
   "source": [
    "### Part 5: Build your own function to solve a determinant for any matrix\n",
    "Please test it on one 2 by 2 matrix, one 3 by 3 matrix and one 4 by 4 matrix. Do not use any existing determinant functions"
   ]
  },
  {
   "cell_type": "markdown",
   "metadata": {},
   "source": [
    "I have two different logics for this exercise, the first one is a method that checks the matrix size and calls the corresponding function, 2x2, 3x3 and 4x4.\n",
    "\n",
    "The second logic uses recursion, as an ideal solution."
   ]
  },
  {
   "cell_type": "code",
   "execution_count": 205,
   "metadata": {},
   "outputs": [],
   "source": [
    "def solve_determinant(A):\n",
    "    \"\"\"Square matrix only 2x2, 3x3 or 4x4 and returns its determinant\"\"\"\n",
    "    if len(A) == 2:\n",
    "        return det_2x2(A)\n",
    "    elif len(A) == 3:\n",
    "        return det_3x3(A)\n",
    "    elif len(A) == 4:\n",
    "        return det_4x4(A)\n",
    "    else:\n",
    "        print(\"Please insert a 2x2, 3x3, or 4x4 matrix\")"
   ]
  },
  {
   "cell_type": "code",
   "execution_count": 206,
   "metadata": {},
   "outputs": [],
   "source": [
    "def det_2x2(A):\n",
    "    a1,a2=A[0]\n",
    "    a3,a4=A[1]\n",
    "    det=(a1*a4)-(a2*a3)\n",
    "    return det"
   ]
  },
  {
   "cell_type": "code",
   "execution_count": 207,
   "metadata": {},
   "outputs": [],
   "source": [
    "def det_3x3(A):\n",
    "    a11,a12,a13=A[0]\n",
    "    a21,a22,a23=A[1]\n",
    "    a31,a32,a33=A[2]\n",
    "    \n",
    "    det1=a11*(det_2x2(np.array([[a22,a23],[a32,a33]])))\n",
    "    det2=-a12*(det_2x2(np.array([[a21,a23],[a31,a33]])))\n",
    "    det3=a13*(det_2x2(np.array([[a21,a22],[a31,a32]])))\n",
    "    \n",
    "    return det1+det2+det3"
   ]
  },
  {
   "cell_type": "code",
   "execution_count": 208,
   "metadata": {},
   "outputs": [],
   "source": [
    "def det_4x4(A):\n",
    "    a11,a12,a13,a14=A[0]\n",
    "    a21,a22,a23,a24=A[1]\n",
    "    a31,a32,a33,a34=A[2]\n",
    "    a41,a42,a43,a44=A[3]\n",
    "    \n",
    "    det1=a11*(det_3x3(np.array([[a22,a23,a24],[a32,a33,a34],[a42,a43,a44]])))\n",
    "    det2=-a12*(det_3x3(np.array([[a21,a23,a24],[a31,a33,a34],[a41,a43,a44]])))\n",
    "    det3=a13*(det_3x3(np.array([[a21,a22,a24],[a31,a32,a34],[a41,a42,a44]])))\n",
    "    det4=-a14*(det_3x3(np.array([[a21,a22,a23],[a31,a32,a33],[a41,a42,a43]])))\n",
    "    \n",
    "    return det1+det2+det3+det4"
   ]
  },
  {
   "cell_type": "code",
   "execution_count": 209,
   "metadata": {},
   "outputs": [
    {
     "data": {
      "text/plain": [
       "-84"
      ]
     },
     "execution_count": 209,
     "metadata": {},
     "output_type": "execute_result"
    }
   ],
   "source": [
    "#test for a 2x2\n",
    "A=np.array([[12,0],[-3,-7]])\n",
    "solve_determinant(A)"
   ]
  },
  {
   "cell_type": "code",
   "execution_count": 210,
   "metadata": {
    "scrolled": true
   },
   "outputs": [
    {
     "data": {
      "text/plain": [
       "-84.0"
      ]
     },
     "execution_count": 210,
     "metadata": {},
     "output_type": "execute_result"
    }
   ],
   "source": [
    "#check with prebuilt package\n",
    "linalg.det(A)"
   ]
  },
  {
   "cell_type": "code",
   "execution_count": 211,
   "metadata": {},
   "outputs": [
    {
     "data": {
      "text/plain": [
       "16"
      ]
     },
     "execution_count": 211,
     "metadata": {},
     "output_type": "execute_result"
    }
   ],
   "source": [
    "#test for a 3x3\n",
    "A=np.array([[4,-1,1],[4,5,3],[-2,0,0]])\n",
    "solve_determinant(A)"
   ]
  },
  {
   "cell_type": "code",
   "execution_count": 212,
   "metadata": {},
   "outputs": [
    {
     "data": {
      "text/plain": [
       "16.0"
      ]
     },
     "execution_count": 212,
     "metadata": {},
     "output_type": "execute_result"
    }
   ],
   "source": [
    "#check with prebuilt package\n",
    "linalg.det(A)"
   ]
  },
  {
   "cell_type": "code",
   "execution_count": 213,
   "metadata": {},
   "outputs": [
    {
     "data": {
      "text/plain": [
       "-444"
      ]
     },
     "execution_count": 213,
     "metadata": {},
     "output_type": "execute_result"
    }
   ],
   "source": [
    "#test for a 4x4\n",
    "A=np.array([[4,-1,1,1],[4,5,3,2],[-2,0,0,3],[6,2,8,3]])\n",
    "solve_determinant(A)"
   ]
  },
  {
   "cell_type": "code",
   "execution_count": 214,
   "metadata": {},
   "outputs": [
    {
     "data": {
      "text/plain": [
       "-443.99999999999994"
      ]
     },
     "execution_count": 214,
     "metadata": {},
     "output_type": "execute_result"
    }
   ],
   "source": [
    "#check with prebuilt package\n",
    "linalg.det(A)"
   ]
  },
  {
   "cell_type": "markdown",
   "metadata": {},
   "source": [
    "Other approach: Ideally the solution should be flexible enough to be able to handle any matrix size. Below is a draft of a recursion function, but is not fully working."
   ]
  },
  {
   "cell_type": "code",
   "execution_count": 215,
   "metadata": {},
   "outputs": [],
   "source": [
    "def calc_recursive_determinant(A,det,scalar):\n",
    "    \"\"\"Recursive function that takes a MxN matrix and calculates its determinant.\n",
    "    Parameter meaning:\n",
    "    - A: matrix\n",
    "    - det: value of the determinant up to this point, initial execution parameter=0\n",
    "    - scalar: scalar to use to multiply the determinanat result\n",
    "    \"\"\"\n",
    "    #script\n",
    "    length=len(A)\n",
    "    if length==2:\n",
    "        det+=det_2x2(A)*scalar\n",
    "    else:\n",
    "        #get top row to use its scalars\n",
    "        top=A[0]\n",
    "        \n",
    "        #remaining of the matrix\n",
    "        remaining=A[1:]\n",
    "        \n",
    "        for i in range(len(A)):\n",
    "            \n",
    "            #get each element in the top row to use as a scalar\n",
    "            if i%2==0:\n",
    "                scalar=top[i]\n",
    "            else:\n",
    "                #multiply by -1 if it is an odd ocurrence\n",
    "                scalar=top[i]*-1\n",
    "            \n",
    "            #prepare a sliced matrix\n",
    "            matrix=[]\n",
    "            \n",
    "            #iterate through the transpose of the remaining to exclude the column in the i'th iteration\n",
    "            for j,value in enumerate(remaining.T):\n",
    "                if(i!=j):\n",
    "                    matrix.append(value)\n",
    "                    \n",
    "                    #transpose back to get the appropiate values\n",
    "                    final_slice = np.array(matrix).T\n",
    "                    \n",
    "                    #call the function recursively\n",
    "                    calc_recursive_determinant(final_slice,det,scalar)\n",
    "                    \n",
    "                    \n",
    "    return det"
   ]
  },
  {
   "cell_type": "code",
   "execution_count": 216,
   "metadata": {},
   "outputs": [
    {
     "data": {
      "text/plain": [
       "-84"
      ]
     },
     "execution_count": 216,
     "metadata": {},
     "output_type": "execute_result"
    }
   ],
   "source": [
    "#test for a 2x2\n",
    "A=np.array([[12,0],[-3,-7]])\n",
    "calc_recursive_determinant(A,0,1)"
   ]
  },
  {
   "cell_type": "code",
   "execution_count": 217,
   "metadata": {},
   "outputs": [],
   "source": [
    "#Recursion is still not working for 3x3\n",
    "#A=np.array([[4,-1,1],[4,5,3],[-2,0,0]])\n",
    "#calc_recursive_determinant(A,0,1)"
   ]
  },
  {
   "cell_type": "markdown",
   "metadata": {},
   "source": [
    "### Part 6: Build your own function from scratch to solve equations via Cramer’s rules.\n",
    "\n",
    "Please submit 3 examples including at least one 4 by 4 that demonstrates that it works, and do not use any existing shortcut functions. "
   ]
  },
  {
   "cell_type": "code",
   "execution_count": 218,
   "metadata": {},
   "outputs": [],
   "source": [
    "def solve_cramer(A,b):\n",
    "    \"\"\"Function that takes a matrix A and a solution vector b and solves for 'x'\n",
    "    computing determinants only based on Cramer's Rule \"\"\"\n",
    "    \n",
    "    #define a vector to store the 'x' elements\n",
    "    x_vector=[]\n",
    "\n",
    "    #make a copy of the matrix A\n",
    "    original_A=np.copy(A)\n",
    "    \n",
    "    #get original matrix determinant, using part 5 function\n",
    "    original_det=solve_determinant(original_A)\n",
    "    \n",
    "    #loop through elements in A\n",
    "    for i in range(len(A)):\n",
    "        \n",
    "        #make a new copy of the original matrix\n",
    "        A=np.copy(original_A)\n",
    "        \n",
    "        #substitute the i'th column with the b solution vector\n",
    "        A[:,i]=b\n",
    "        \n",
    "        #get the determinant for the modified matrix\n",
    "        sub_determinant=solve_determinant(A)\n",
    "        \n",
    "        #divide the sub_determinant by the original one and store the result\n",
    "        x_vector.append(sub_determinant/original_det)\n",
    "    \n",
    "    #return 'x' values\n",
    "    return x_vector"
   ]
  },
  {
   "cell_type": "code",
   "execution_count": 219,
   "metadata": {},
   "outputs": [
    {
     "data": {
      "text/plain": [
       "[0.8947368421052632, 0.3684210526315789]"
      ]
     },
     "execution_count": 219,
     "metadata": {},
     "output_type": "execute_result"
    }
   ],
   "source": [
    "#test for a 2x2\n",
    "A = np.array([[1,3],[-4,7]])\n",
    "b = np.array([2,-1])\n",
    "solve_cramer(A,b)"
   ]
  },
  {
   "cell_type": "code",
   "execution_count": 220,
   "metadata": {},
   "outputs": [
    {
     "name": "stdout",
     "output_type": "stream",
     "text": [
      "x:\n",
      " [[0.89473684]\n",
      " [0.36842105]]\n"
     ]
    }
   ],
   "source": [
    "#verify with prebuilt functions\n",
    "x = np.dot(linalg.inv(A),b)\n",
    "print(\"x:\\n\",x[:,None])"
   ]
  },
  {
   "cell_type": "code",
   "execution_count": 221,
   "metadata": {},
   "outputs": [
    {
     "data": {
      "text/plain": [
       "[6.0, 15.0, -23.0]"
      ]
     },
     "execution_count": 221,
     "metadata": {},
     "output_type": "execute_result"
    }
   ],
   "source": [
    "#test for a 3x3\n",
    "A = np.array([[2, 1, 1], [1, 3, 2], [1, 0, 0]]) \n",
    "b=np.array([4, 5, 6])\n",
    "solve_cramer(A,b)"
   ]
  },
  {
   "cell_type": "code",
   "execution_count": 222,
   "metadata": {},
   "outputs": [
    {
     "name": "stdout",
     "output_type": "stream",
     "text": [
      "x:\n",
      " [[  6.]\n",
      " [ 15.]\n",
      " [-23.]]\n"
     ]
    }
   ],
   "source": [
    "x = np.dot(linalg.inv(A),b)\n",
    "print(\"x:\\n\",x[:,None])"
   ]
  },
  {
   "cell_type": "code",
   "execution_count": 223,
   "metadata": {},
   "outputs": [
    {
     "data": {
      "text/plain": [
       "[0.6081081081081081,\n",
       " 1.9504504504504505,\n",
       " -3.220720720720721,\n",
       " -0.26126126126126126]"
      ]
     },
     "execution_count": 223,
     "metadata": {},
     "output_type": "execute_result"
    }
   ],
   "source": [
    "#test for a 4x4\n",
    "new_A=np.array([[4,-1,1,1],[4,5,3,2],[-2,0,0,3],[6,2,8,3]])\n",
    "new_b=np.array([-3, 2, -2, -19])\n",
    "solve_cramer(new_A,new_b)"
   ]
  },
  {
   "cell_type": "code",
   "execution_count": 224,
   "metadata": {},
   "outputs": [
    {
     "name": "stdout",
     "output_type": "stream",
     "text": [
      "x:\n",
      " [[ 0.60810811]\n",
      " [ 1.95045045]\n",
      " [-3.22072072]\n",
      " [-0.26126126]]\n"
     ]
    }
   ],
   "source": [
    "x = np.dot(linalg.inv(new_A),new_b)\n",
    "print(\"x:\\n\",x[:,None])"
   ]
  },
  {
   "cell_type": "code",
   "execution_count": null,
   "metadata": {},
   "outputs": [],
   "source": []
  }
 ],
 "metadata": {
  "kernelspec": {
   "display_name": "Python 3",
   "language": "python",
   "name": "python3"
  },
  "language_info": {
   "codemirror_mode": {
    "name": "ipython",
    "version": 3
   },
   "file_extension": ".py",
   "mimetype": "text/x-python",
   "name": "python",
   "nbconvert_exporter": "python",
   "pygments_lexer": "ipython3",
   "version": "3.7.3"
  }
 },
 "nbformat": 4,
 "nbformat_minor": 2
}
