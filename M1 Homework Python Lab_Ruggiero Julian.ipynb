{
 "cells": [
  {
   "cell_type": "markdown",
   "metadata": {},
   "source": [
    "### M1 Homework Python Lab - Ruggiero Julian"
   ]
  },
  {
   "cell_type": "markdown",
   "metadata": {},
   "source": [
    "This notebook contains the code in https://github.com/vaksakalli/stats_tutorials/blob/master/ch2_intro_to_data.ipynb, up to \"On Your Own\" section where I completed by myself the exercises."
   ]
  },
  {
   "cell_type": "markdown",
   "metadata": {},
   "source": [
    "# Introduction to data"
   ]
  },
  {
   "cell_type": "markdown",
   "metadata": {},
   "source": [
    "Some define **Statistics** as the field that focuses on turning information into knowledge. The first step in that process is to summarize and describe the raw information - the data. In this lab, you will gain insight into public health by generating simple graphical and numerical summaries of a data set collected by the Centers for Disease Control and Prevention (CDC). As this is a large data set, along the way you'll also learn the indispensable skills of data processing and subsetting."
   ]
  },
  {
   "cell_type": "markdown",
   "metadata": {},
   "source": [
    "## Getting started"
   ]
  },
  {
   "cell_type": "markdown",
   "metadata": {},
   "source": [
    "The Behavioral Risk Factor Surveillance System (BRFSS) is an annual telephone survey of 350,000 people in the United States. As its name implies, the BRFSS is designed to identify risk factors in the adult population and report emerging health trends. For example, respondents are asked about their diet and weekly physical activity, their HIV/AIDS status, possible tobacco use, and even their level of healthcare coverage. The BRFSS Web site (http://www.cdc.gov/brfss) contains a complete description of the survey, including the research questions that motivate the study and many interesting results derived from the data.\n",
    "\n",
    "We will focus on a random sample of 20,000 people from the BRFSS survey conducted in 2000. While there are over 200 variables in this data set, we will work with a small subset.\n",
    "\n",
    "We begin by importing the dataset of 20,000 observations from the Cloud."
   ]
  },
  {
   "cell_type": "code",
   "execution_count": 50,
   "metadata": {},
   "outputs": [
    {
     "data": {
      "text/html": [
       "<div>\n",
       "<style scoped>\n",
       "    .dataframe tbody tr th:only-of-type {\n",
       "        vertical-align: middle;\n",
       "    }\n",
       "\n",
       "    .dataframe tbody tr th {\n",
       "        vertical-align: top;\n",
       "    }\n",
       "\n",
       "    .dataframe thead th {\n",
       "        text-align: right;\n",
       "    }\n",
       "</style>\n",
       "<table border=\"1\" class=\"dataframe\">\n",
       "  <thead>\n",
       "    <tr style=\"text-align: right;\">\n",
       "      <th></th>\n",
       "      <th>genhlth</th>\n",
       "      <th>exerany</th>\n",
       "      <th>hlthplan</th>\n",
       "      <th>smoke100</th>\n",
       "      <th>height</th>\n",
       "      <th>weight</th>\n",
       "      <th>wtdesire</th>\n",
       "      <th>age</th>\n",
       "      <th>gender</th>\n",
       "    </tr>\n",
       "  </thead>\n",
       "  <tbody>\n",
       "    <tr>\n",
       "      <th>0</th>\n",
       "      <td>good</td>\n",
       "      <td>0</td>\n",
       "      <td>1</td>\n",
       "      <td>0</td>\n",
       "      <td>70</td>\n",
       "      <td>175</td>\n",
       "      <td>175</td>\n",
       "      <td>77</td>\n",
       "      <td>m</td>\n",
       "    </tr>\n",
       "    <tr>\n",
       "      <th>1</th>\n",
       "      <td>good</td>\n",
       "      <td>0</td>\n",
       "      <td>1</td>\n",
       "      <td>1</td>\n",
       "      <td>64</td>\n",
       "      <td>125</td>\n",
       "      <td>115</td>\n",
       "      <td>33</td>\n",
       "      <td>f</td>\n",
       "    </tr>\n",
       "    <tr>\n",
       "      <th>2</th>\n",
       "      <td>good</td>\n",
       "      <td>1</td>\n",
       "      <td>1</td>\n",
       "      <td>1</td>\n",
       "      <td>60</td>\n",
       "      <td>105</td>\n",
       "      <td>105</td>\n",
       "      <td>49</td>\n",
       "      <td>f</td>\n",
       "    </tr>\n",
       "    <tr>\n",
       "      <th>3</th>\n",
       "      <td>good</td>\n",
       "      <td>1</td>\n",
       "      <td>1</td>\n",
       "      <td>0</td>\n",
       "      <td>66</td>\n",
       "      <td>132</td>\n",
       "      <td>124</td>\n",
       "      <td>42</td>\n",
       "      <td>f</td>\n",
       "    </tr>\n",
       "    <tr>\n",
       "      <th>4</th>\n",
       "      <td>very good</td>\n",
       "      <td>0</td>\n",
       "      <td>1</td>\n",
       "      <td>0</td>\n",
       "      <td>61</td>\n",
       "      <td>150</td>\n",
       "      <td>130</td>\n",
       "      <td>55</td>\n",
       "      <td>f</td>\n",
       "    </tr>\n",
       "    <tr>\n",
       "      <th>5</th>\n",
       "      <td>very good</td>\n",
       "      <td>1</td>\n",
       "      <td>1</td>\n",
       "      <td>0</td>\n",
       "      <td>64</td>\n",
       "      <td>114</td>\n",
       "      <td>114</td>\n",
       "      <td>55</td>\n",
       "      <td>f</td>\n",
       "    </tr>\n",
       "    <tr>\n",
       "      <th>6</th>\n",
       "      <td>very good</td>\n",
       "      <td>1</td>\n",
       "      <td>1</td>\n",
       "      <td>0</td>\n",
       "      <td>71</td>\n",
       "      <td>194</td>\n",
       "      <td>185</td>\n",
       "      <td>31</td>\n",
       "      <td>m</td>\n",
       "    </tr>\n",
       "    <tr>\n",
       "      <th>7</th>\n",
       "      <td>very good</td>\n",
       "      <td>0</td>\n",
       "      <td>1</td>\n",
       "      <td>0</td>\n",
       "      <td>67</td>\n",
       "      <td>170</td>\n",
       "      <td>160</td>\n",
       "      <td>45</td>\n",
       "      <td>m</td>\n",
       "    </tr>\n",
       "    <tr>\n",
       "      <th>8</th>\n",
       "      <td>good</td>\n",
       "      <td>0</td>\n",
       "      <td>1</td>\n",
       "      <td>1</td>\n",
       "      <td>65</td>\n",
       "      <td>150</td>\n",
       "      <td>130</td>\n",
       "      <td>27</td>\n",
       "      <td>f</td>\n",
       "    </tr>\n",
       "    <tr>\n",
       "      <th>9</th>\n",
       "      <td>good</td>\n",
       "      <td>1</td>\n",
       "      <td>1</td>\n",
       "      <td>0</td>\n",
       "      <td>70</td>\n",
       "      <td>180</td>\n",
       "      <td>170</td>\n",
       "      <td>44</td>\n",
       "      <td>m</td>\n",
       "    </tr>\n",
       "    <tr>\n",
       "      <th>10</th>\n",
       "      <td>excellent</td>\n",
       "      <td>1</td>\n",
       "      <td>1</td>\n",
       "      <td>1</td>\n",
       "      <td>69</td>\n",
       "      <td>186</td>\n",
       "      <td>175</td>\n",
       "      <td>46</td>\n",
       "      <td>m</td>\n",
       "    </tr>\n",
       "    <tr>\n",
       "      <th>11</th>\n",
       "      <td>fair</td>\n",
       "      <td>1</td>\n",
       "      <td>1</td>\n",
       "      <td>1</td>\n",
       "      <td>69</td>\n",
       "      <td>168</td>\n",
       "      <td>148</td>\n",
       "      <td>62</td>\n",
       "      <td>m</td>\n",
       "    </tr>\n",
       "    <tr>\n",
       "      <th>12</th>\n",
       "      <td>excellent</td>\n",
       "      <td>1</td>\n",
       "      <td>0</td>\n",
       "      <td>1</td>\n",
       "      <td>66</td>\n",
       "      <td>185</td>\n",
       "      <td>220</td>\n",
       "      <td>21</td>\n",
       "      <td>m</td>\n",
       "    </tr>\n",
       "    <tr>\n",
       "      <th>13</th>\n",
       "      <td>excellent</td>\n",
       "      <td>1</td>\n",
       "      <td>1</td>\n",
       "      <td>1</td>\n",
       "      <td>70</td>\n",
       "      <td>170</td>\n",
       "      <td>170</td>\n",
       "      <td>69</td>\n",
       "      <td>m</td>\n",
       "    </tr>\n",
       "    <tr>\n",
       "      <th>14</th>\n",
       "      <td>fair</td>\n",
       "      <td>1</td>\n",
       "      <td>0</td>\n",
       "      <td>0</td>\n",
       "      <td>69</td>\n",
       "      <td>170</td>\n",
       "      <td>170</td>\n",
       "      <td>23</td>\n",
       "      <td>m</td>\n",
       "    </tr>\n",
       "    <tr>\n",
       "      <th>15</th>\n",
       "      <td>good</td>\n",
       "      <td>1</td>\n",
       "      <td>1</td>\n",
       "      <td>1</td>\n",
       "      <td>73</td>\n",
       "      <td>185</td>\n",
       "      <td>175</td>\n",
       "      <td>79</td>\n",
       "      <td>m</td>\n",
       "    </tr>\n",
       "    <tr>\n",
       "      <th>16</th>\n",
       "      <td>good</td>\n",
       "      <td>0</td>\n",
       "      <td>0</td>\n",
       "      <td>1</td>\n",
       "      <td>67</td>\n",
       "      <td>156</td>\n",
       "      <td>150</td>\n",
       "      <td>47</td>\n",
       "      <td>m</td>\n",
       "    </tr>\n",
       "    <tr>\n",
       "      <th>17</th>\n",
       "      <td>fair</td>\n",
       "      <td>0</td>\n",
       "      <td>1</td>\n",
       "      <td>1</td>\n",
       "      <td>71</td>\n",
       "      <td>185</td>\n",
       "      <td>185</td>\n",
       "      <td>76</td>\n",
       "      <td>m</td>\n",
       "    </tr>\n",
       "    <tr>\n",
       "      <th>18</th>\n",
       "      <td>good</td>\n",
       "      <td>1</td>\n",
       "      <td>1</td>\n",
       "      <td>1</td>\n",
       "      <td>75</td>\n",
       "      <td>200</td>\n",
       "      <td>190</td>\n",
       "      <td>43</td>\n",
       "      <td>m</td>\n",
       "    </tr>\n",
       "    <tr>\n",
       "      <th>19</th>\n",
       "      <td>very good</td>\n",
       "      <td>1</td>\n",
       "      <td>1</td>\n",
       "      <td>0</td>\n",
       "      <td>67</td>\n",
       "      <td>125</td>\n",
       "      <td>120</td>\n",
       "      <td>33</td>\n",
       "      <td>f</td>\n",
       "    </tr>\n",
       "    <tr>\n",
       "      <th>20</th>\n",
       "      <td>very good</td>\n",
       "      <td>1</td>\n",
       "      <td>1</td>\n",
       "      <td>0</td>\n",
       "      <td>69</td>\n",
       "      <td>200</td>\n",
       "      <td>150</td>\n",
       "      <td>48</td>\n",
       "      <td>f</td>\n",
       "    </tr>\n",
       "    <tr>\n",
       "      <th>21</th>\n",
       "      <td>good</td>\n",
       "      <td>1</td>\n",
       "      <td>1</td>\n",
       "      <td>1</td>\n",
       "      <td>65</td>\n",
       "      <td>160</td>\n",
       "      <td>140</td>\n",
       "      <td>54</td>\n",
       "      <td>f</td>\n",
       "    </tr>\n",
       "    <tr>\n",
       "      <th>22</th>\n",
       "      <td>very good</td>\n",
       "      <td>0</td>\n",
       "      <td>1</td>\n",
       "      <td>1</td>\n",
       "      <td>73</td>\n",
       "      <td>160</td>\n",
       "      <td>160</td>\n",
       "      <td>43</td>\n",
       "      <td>m</td>\n",
       "    </tr>\n",
       "    <tr>\n",
       "      <th>23</th>\n",
       "      <td>good</td>\n",
       "      <td>1</td>\n",
       "      <td>1</td>\n",
       "      <td>1</td>\n",
       "      <td>67</td>\n",
       "      <td>165</td>\n",
       "      <td>158</td>\n",
       "      <td>30</td>\n",
       "      <td>m</td>\n",
       "    </tr>\n",
       "    <tr>\n",
       "      <th>24</th>\n",
       "      <td>very good</td>\n",
       "      <td>0</td>\n",
       "      <td>0</td>\n",
       "      <td>1</td>\n",
       "      <td>64</td>\n",
       "      <td>105</td>\n",
       "      <td>120</td>\n",
       "      <td>27</td>\n",
       "      <td>f</td>\n",
       "    </tr>\n",
       "    <tr>\n",
       "      <th>25</th>\n",
       "      <td>good</td>\n",
       "      <td>0</td>\n",
       "      <td>1</td>\n",
       "      <td>0</td>\n",
       "      <td>68</td>\n",
       "      <td>190</td>\n",
       "      <td>150</td>\n",
       "      <td>33</td>\n",
       "      <td>f</td>\n",
       "    </tr>\n",
       "    <tr>\n",
       "      <th>26</th>\n",
       "      <td>excellent</td>\n",
       "      <td>1</td>\n",
       "      <td>0</td>\n",
       "      <td>1</td>\n",
       "      <td>67</td>\n",
       "      <td>190</td>\n",
       "      <td>165</td>\n",
       "      <td>44</td>\n",
       "      <td>f</td>\n",
       "    </tr>\n",
       "    <tr>\n",
       "      <th>27</th>\n",
       "      <td>excellent</td>\n",
       "      <td>1</td>\n",
       "      <td>0</td>\n",
       "      <td>1</td>\n",
       "      <td>69</td>\n",
       "      <td>160</td>\n",
       "      <td>150</td>\n",
       "      <td>42</td>\n",
       "      <td>f</td>\n",
       "    </tr>\n",
       "    <tr>\n",
       "      <th>28</th>\n",
       "      <td>very good</td>\n",
       "      <td>1</td>\n",
       "      <td>1</td>\n",
       "      <td>0</td>\n",
       "      <td>61</td>\n",
       "      <td>115</td>\n",
       "      <td>105</td>\n",
       "      <td>32</td>\n",
       "      <td>f</td>\n",
       "    </tr>\n",
       "    <tr>\n",
       "      <th>29</th>\n",
       "      <td>excellent</td>\n",
       "      <td>1</td>\n",
       "      <td>1</td>\n",
       "      <td>1</td>\n",
       "      <td>74</td>\n",
       "      <td>185</td>\n",
       "      <td>175</td>\n",
       "      <td>63</td>\n",
       "      <td>m</td>\n",
       "    </tr>\n",
       "    <tr>\n",
       "      <th>...</th>\n",
       "      <td>...</td>\n",
       "      <td>...</td>\n",
       "      <td>...</td>\n",
       "      <td>...</td>\n",
       "      <td>...</td>\n",
       "      <td>...</td>\n",
       "      <td>...</td>\n",
       "      <td>...</td>\n",
       "      <td>...</td>\n",
       "    </tr>\n",
       "    <tr>\n",
       "      <th>19970</th>\n",
       "      <td>excellent</td>\n",
       "      <td>1</td>\n",
       "      <td>1</td>\n",
       "      <td>0</td>\n",
       "      <td>73</td>\n",
       "      <td>168</td>\n",
       "      <td>178</td>\n",
       "      <td>19</td>\n",
       "      <td>m</td>\n",
       "    </tr>\n",
       "    <tr>\n",
       "      <th>19971</th>\n",
       "      <td>very good</td>\n",
       "      <td>1</td>\n",
       "      <td>0</td>\n",
       "      <td>1</td>\n",
       "      <td>59</td>\n",
       "      <td>85</td>\n",
       "      <td>100</td>\n",
       "      <td>36</td>\n",
       "      <td>f</td>\n",
       "    </tr>\n",
       "    <tr>\n",
       "      <th>19972</th>\n",
       "      <td>excellent</td>\n",
       "      <td>1</td>\n",
       "      <td>1</td>\n",
       "      <td>1</td>\n",
       "      <td>65</td>\n",
       "      <td>145</td>\n",
       "      <td>135</td>\n",
       "      <td>42</td>\n",
       "      <td>f</td>\n",
       "    </tr>\n",
       "    <tr>\n",
       "      <th>19973</th>\n",
       "      <td>fair</td>\n",
       "      <td>1</td>\n",
       "      <td>1</td>\n",
       "      <td>0</td>\n",
       "      <td>67</td>\n",
       "      <td>110</td>\n",
       "      <td>120</td>\n",
       "      <td>35</td>\n",
       "      <td>f</td>\n",
       "    </tr>\n",
       "    <tr>\n",
       "      <th>19974</th>\n",
       "      <td>good</td>\n",
       "      <td>0</td>\n",
       "      <td>1</td>\n",
       "      <td>0</td>\n",
       "      <td>66</td>\n",
       "      <td>156</td>\n",
       "      <td>150</td>\n",
       "      <td>79</td>\n",
       "      <td>f</td>\n",
       "    </tr>\n",
       "    <tr>\n",
       "      <th>19975</th>\n",
       "      <td>fair</td>\n",
       "      <td>1</td>\n",
       "      <td>1</td>\n",
       "      <td>0</td>\n",
       "      <td>65</td>\n",
       "      <td>230</td>\n",
       "      <td>190</td>\n",
       "      <td>45</td>\n",
       "      <td>m</td>\n",
       "    </tr>\n",
       "    <tr>\n",
       "      <th>19976</th>\n",
       "      <td>good</td>\n",
       "      <td>1</td>\n",
       "      <td>1</td>\n",
       "      <td>0</td>\n",
       "      <td>67</td>\n",
       "      <td>198</td>\n",
       "      <td>140</td>\n",
       "      <td>39</td>\n",
       "      <td>f</td>\n",
       "    </tr>\n",
       "    <tr>\n",
       "      <th>19977</th>\n",
       "      <td>very good</td>\n",
       "      <td>0</td>\n",
       "      <td>1</td>\n",
       "      <td>1</td>\n",
       "      <td>65</td>\n",
       "      <td>180</td>\n",
       "      <td>150</td>\n",
       "      <td>87</td>\n",
       "      <td>f</td>\n",
       "    </tr>\n",
       "    <tr>\n",
       "      <th>19978</th>\n",
       "      <td>good</td>\n",
       "      <td>0</td>\n",
       "      <td>1</td>\n",
       "      <td>1</td>\n",
       "      <td>64</td>\n",
       "      <td>135</td>\n",
       "      <td>135</td>\n",
       "      <td>39</td>\n",
       "      <td>m</td>\n",
       "    </tr>\n",
       "    <tr>\n",
       "      <th>19979</th>\n",
       "      <td>good</td>\n",
       "      <td>1</td>\n",
       "      <td>1</td>\n",
       "      <td>0</td>\n",
       "      <td>69</td>\n",
       "      <td>265</td>\n",
       "      <td>200</td>\n",
       "      <td>28</td>\n",
       "      <td>m</td>\n",
       "    </tr>\n",
       "    <tr>\n",
       "      <th>19980</th>\n",
       "      <td>excellent</td>\n",
       "      <td>1</td>\n",
       "      <td>1</td>\n",
       "      <td>1</td>\n",
       "      <td>75</td>\n",
       "      <td>195</td>\n",
       "      <td>195</td>\n",
       "      <td>36</td>\n",
       "      <td>m</td>\n",
       "    </tr>\n",
       "    <tr>\n",
       "      <th>19981</th>\n",
       "      <td>very good</td>\n",
       "      <td>0</td>\n",
       "      <td>1</td>\n",
       "      <td>1</td>\n",
       "      <td>74</td>\n",
       "      <td>210</td>\n",
       "      <td>210</td>\n",
       "      <td>40</td>\n",
       "      <td>m</td>\n",
       "    </tr>\n",
       "    <tr>\n",
       "      <th>19982</th>\n",
       "      <td>very good</td>\n",
       "      <td>1</td>\n",
       "      <td>0</td>\n",
       "      <td>1</td>\n",
       "      <td>63</td>\n",
       "      <td>171</td>\n",
       "      <td>130</td>\n",
       "      <td>31</td>\n",
       "      <td>f</td>\n",
       "    </tr>\n",
       "    <tr>\n",
       "      <th>19983</th>\n",
       "      <td>very good</td>\n",
       "      <td>1</td>\n",
       "      <td>1</td>\n",
       "      <td>1</td>\n",
       "      <td>71</td>\n",
       "      <td>190</td>\n",
       "      <td>180</td>\n",
       "      <td>41</td>\n",
       "      <td>m</td>\n",
       "    </tr>\n",
       "    <tr>\n",
       "      <th>19984</th>\n",
       "      <td>good</td>\n",
       "      <td>1</td>\n",
       "      <td>1</td>\n",
       "      <td>1</td>\n",
       "      <td>69</td>\n",
       "      <td>180</td>\n",
       "      <td>160</td>\n",
       "      <td>57</td>\n",
       "      <td>m</td>\n",
       "    </tr>\n",
       "    <tr>\n",
       "      <th>19985</th>\n",
       "      <td>very good</td>\n",
       "      <td>1</td>\n",
       "      <td>1</td>\n",
       "      <td>1</td>\n",
       "      <td>64</td>\n",
       "      <td>120</td>\n",
       "      <td>115</td>\n",
       "      <td>71</td>\n",
       "      <td>f</td>\n",
       "    </tr>\n",
       "    <tr>\n",
       "      <th>19986</th>\n",
       "      <td>excellent</td>\n",
       "      <td>1</td>\n",
       "      <td>1</td>\n",
       "      <td>1</td>\n",
       "      <td>63</td>\n",
       "      <td>140</td>\n",
       "      <td>115</td>\n",
       "      <td>38</td>\n",
       "      <td>f</td>\n",
       "    </tr>\n",
       "    <tr>\n",
       "      <th>19987</th>\n",
       "      <td>good</td>\n",
       "      <td>1</td>\n",
       "      <td>1</td>\n",
       "      <td>0</td>\n",
       "      <td>72</td>\n",
       "      <td>200</td>\n",
       "      <td>195</td>\n",
       "      <td>40</td>\n",
       "      <td>m</td>\n",
       "    </tr>\n",
       "    <tr>\n",
       "      <th>19988</th>\n",
       "      <td>very good</td>\n",
       "      <td>1</td>\n",
       "      <td>1</td>\n",
       "      <td>1</td>\n",
       "      <td>74</td>\n",
       "      <td>230</td>\n",
       "      <td>190</td>\n",
       "      <td>53</td>\n",
       "      <td>m</td>\n",
       "    </tr>\n",
       "    <tr>\n",
       "      <th>19989</th>\n",
       "      <td>good</td>\n",
       "      <td>1</td>\n",
       "      <td>1</td>\n",
       "      <td>0</td>\n",
       "      <td>73</td>\n",
       "      <td>230</td>\n",
       "      <td>200</td>\n",
       "      <td>38</td>\n",
       "      <td>m</td>\n",
       "    </tr>\n",
       "    <tr>\n",
       "      <th>19990</th>\n",
       "      <td>excellent</td>\n",
       "      <td>1</td>\n",
       "      <td>1</td>\n",
       "      <td>0</td>\n",
       "      <td>71</td>\n",
       "      <td>195</td>\n",
       "      <td>190</td>\n",
       "      <td>43</td>\n",
       "      <td>m</td>\n",
       "    </tr>\n",
       "    <tr>\n",
       "      <th>19991</th>\n",
       "      <td>very good</td>\n",
       "      <td>1</td>\n",
       "      <td>1</td>\n",
       "      <td>1</td>\n",
       "      <td>72</td>\n",
       "      <td>210</td>\n",
       "      <td>175</td>\n",
       "      <td>52</td>\n",
       "      <td>m</td>\n",
       "    </tr>\n",
       "    <tr>\n",
       "      <th>19992</th>\n",
       "      <td>very good</td>\n",
       "      <td>1</td>\n",
       "      <td>1</td>\n",
       "      <td>0</td>\n",
       "      <td>71</td>\n",
       "      <td>180</td>\n",
       "      <td>180</td>\n",
       "      <td>36</td>\n",
       "      <td>m</td>\n",
       "    </tr>\n",
       "    <tr>\n",
       "      <th>19993</th>\n",
       "      <td>very good</td>\n",
       "      <td>0</td>\n",
       "      <td>1</td>\n",
       "      <td>1</td>\n",
       "      <td>63</td>\n",
       "      <td>165</td>\n",
       "      <td>120</td>\n",
       "      <td>31</td>\n",
       "      <td>f</td>\n",
       "    </tr>\n",
       "    <tr>\n",
       "      <th>19994</th>\n",
       "      <td>good</td>\n",
       "      <td>0</td>\n",
       "      <td>1</td>\n",
       "      <td>1</td>\n",
       "      <td>69</td>\n",
       "      <td>224</td>\n",
       "      <td>224</td>\n",
       "      <td>73</td>\n",
       "      <td>m</td>\n",
       "    </tr>\n",
       "    <tr>\n",
       "      <th>19995</th>\n",
       "      <td>good</td>\n",
       "      <td>1</td>\n",
       "      <td>1</td>\n",
       "      <td>0</td>\n",
       "      <td>66</td>\n",
       "      <td>215</td>\n",
       "      <td>140</td>\n",
       "      <td>23</td>\n",
       "      <td>f</td>\n",
       "    </tr>\n",
       "    <tr>\n",
       "      <th>19996</th>\n",
       "      <td>excellent</td>\n",
       "      <td>0</td>\n",
       "      <td>1</td>\n",
       "      <td>0</td>\n",
       "      <td>73</td>\n",
       "      <td>200</td>\n",
       "      <td>185</td>\n",
       "      <td>35</td>\n",
       "      <td>m</td>\n",
       "    </tr>\n",
       "    <tr>\n",
       "      <th>19997</th>\n",
       "      <td>poor</td>\n",
       "      <td>0</td>\n",
       "      <td>1</td>\n",
       "      <td>0</td>\n",
       "      <td>65</td>\n",
       "      <td>216</td>\n",
       "      <td>150</td>\n",
       "      <td>57</td>\n",
       "      <td>f</td>\n",
       "    </tr>\n",
       "    <tr>\n",
       "      <th>19998</th>\n",
       "      <td>good</td>\n",
       "      <td>1</td>\n",
       "      <td>1</td>\n",
       "      <td>0</td>\n",
       "      <td>67</td>\n",
       "      <td>165</td>\n",
       "      <td>165</td>\n",
       "      <td>81</td>\n",
       "      <td>f</td>\n",
       "    </tr>\n",
       "    <tr>\n",
       "      <th>19999</th>\n",
       "      <td>good</td>\n",
       "      <td>1</td>\n",
       "      <td>1</td>\n",
       "      <td>1</td>\n",
       "      <td>69</td>\n",
       "      <td>170</td>\n",
       "      <td>165</td>\n",
       "      <td>83</td>\n",
       "      <td>m</td>\n",
       "    </tr>\n",
       "  </tbody>\n",
       "</table>\n",
       "<p>20000 rows × 9 columns</p>\n",
       "</div>"
      ],
      "text/plain": [
       "         genhlth  exerany  hlthplan  smoke100  height  weight  wtdesire  age  \\\n",
       "0           good        0         1         0      70     175       175   77   \n",
       "1           good        0         1         1      64     125       115   33   \n",
       "2           good        1         1         1      60     105       105   49   \n",
       "3           good        1         1         0      66     132       124   42   \n",
       "4      very good        0         1         0      61     150       130   55   \n",
       "5      very good        1         1         0      64     114       114   55   \n",
       "6      very good        1         1         0      71     194       185   31   \n",
       "7      very good        0         1         0      67     170       160   45   \n",
       "8           good        0         1         1      65     150       130   27   \n",
       "9           good        1         1         0      70     180       170   44   \n",
       "10     excellent        1         1         1      69     186       175   46   \n",
       "11          fair        1         1         1      69     168       148   62   \n",
       "12     excellent        1         0         1      66     185       220   21   \n",
       "13     excellent        1         1         1      70     170       170   69   \n",
       "14          fair        1         0         0      69     170       170   23   \n",
       "15          good        1         1         1      73     185       175   79   \n",
       "16          good        0         0         1      67     156       150   47   \n",
       "17          fair        0         1         1      71     185       185   76   \n",
       "18          good        1         1         1      75     200       190   43   \n",
       "19     very good        1         1         0      67     125       120   33   \n",
       "20     very good        1         1         0      69     200       150   48   \n",
       "21          good        1         1         1      65     160       140   54   \n",
       "22     very good        0         1         1      73     160       160   43   \n",
       "23          good        1         1         1      67     165       158   30   \n",
       "24     very good        0         0         1      64     105       120   27   \n",
       "25          good        0         1         0      68     190       150   33   \n",
       "26     excellent        1         0         1      67     190       165   44   \n",
       "27     excellent        1         0         1      69     160       150   42   \n",
       "28     very good        1         1         0      61     115       105   32   \n",
       "29     excellent        1         1         1      74     185       175   63   \n",
       "...          ...      ...       ...       ...     ...     ...       ...  ...   \n",
       "19970  excellent        1         1         0      73     168       178   19   \n",
       "19971  very good        1         0         1      59      85       100   36   \n",
       "19972  excellent        1         1         1      65     145       135   42   \n",
       "19973       fair        1         1         0      67     110       120   35   \n",
       "19974       good        0         1         0      66     156       150   79   \n",
       "19975       fair        1         1         0      65     230       190   45   \n",
       "19976       good        1         1         0      67     198       140   39   \n",
       "19977  very good        0         1         1      65     180       150   87   \n",
       "19978       good        0         1         1      64     135       135   39   \n",
       "19979       good        1         1         0      69     265       200   28   \n",
       "19980  excellent        1         1         1      75     195       195   36   \n",
       "19981  very good        0         1         1      74     210       210   40   \n",
       "19982  very good        1         0         1      63     171       130   31   \n",
       "19983  very good        1         1         1      71     190       180   41   \n",
       "19984       good        1         1         1      69     180       160   57   \n",
       "19985  very good        1         1         1      64     120       115   71   \n",
       "19986  excellent        1         1         1      63     140       115   38   \n",
       "19987       good        1         1         0      72     200       195   40   \n",
       "19988  very good        1         1         1      74     230       190   53   \n",
       "19989       good        1         1         0      73     230       200   38   \n",
       "19990  excellent        1         1         0      71     195       190   43   \n",
       "19991  very good        1         1         1      72     210       175   52   \n",
       "19992  very good        1         1         0      71     180       180   36   \n",
       "19993  very good        0         1         1      63     165       120   31   \n",
       "19994       good        0         1         1      69     224       224   73   \n",
       "19995       good        1         1         0      66     215       140   23   \n",
       "19996  excellent        0         1         0      73     200       185   35   \n",
       "19997       poor        0         1         0      65     216       150   57   \n",
       "19998       good        1         1         0      67     165       165   81   \n",
       "19999       good        1         1         1      69     170       165   83   \n",
       "\n",
       "      gender  \n",
       "0          m  \n",
       "1          f  \n",
       "2          f  \n",
       "3          f  \n",
       "4          f  \n",
       "5          f  \n",
       "6          m  \n",
       "7          m  \n",
       "8          f  \n",
       "9          m  \n",
       "10         m  \n",
       "11         m  \n",
       "12         m  \n",
       "13         m  \n",
       "14         m  \n",
       "15         m  \n",
       "16         m  \n",
       "17         m  \n",
       "18         m  \n",
       "19         f  \n",
       "20         f  \n",
       "21         f  \n",
       "22         m  \n",
       "23         m  \n",
       "24         f  \n",
       "25         f  \n",
       "26         f  \n",
       "27         f  \n",
       "28         f  \n",
       "29         m  \n",
       "...      ...  \n",
       "19970      m  \n",
       "19971      f  \n",
       "19972      f  \n",
       "19973      f  \n",
       "19974      f  \n",
       "19975      m  \n",
       "19976      f  \n",
       "19977      f  \n",
       "19978      m  \n",
       "19979      m  \n",
       "19980      m  \n",
       "19981      m  \n",
       "19982      f  \n",
       "19983      m  \n",
       "19984      m  \n",
       "19985      f  \n",
       "19986      f  \n",
       "19987      m  \n",
       "19988      m  \n",
       "19989      m  \n",
       "19990      m  \n",
       "19991      m  \n",
       "19992      m  \n",
       "19993      f  \n",
       "19994      m  \n",
       "19995      f  \n",
       "19996      m  \n",
       "19997      f  \n",
       "19998      f  \n",
       "19999      m  \n",
       "\n",
       "[20000 rows x 9 columns]"
      ]
     },
     "execution_count": 50,
     "metadata": {},
     "output_type": "execute_result"
    }
   ],
   "source": [
    "import pandas as pd\n",
    "\n",
    "cdc = pd.read_csv('https://www.openintro.org/stat/data/cdc.csv')\n",
    "cdc"
   ]
  },
  {
   "cell_type": "markdown",
   "metadata": {},
   "source": [
    "The data set `cdc` that shows up is a data matrix, with each row representing a case and each column representing a variable. These kind of data format are called data frame, which is a term that will be used throughout the labs.\n",
    "\n",
    "To view the names of the variables, use `columns.values`"
   ]
  },
  {
   "cell_type": "code",
   "execution_count": 51,
   "metadata": {},
   "outputs": [
    {
     "data": {
      "text/plain": [
       "array(['genhlth', 'exerany', 'hlthplan', 'smoke100', 'height', 'weight',\n",
       "       'wtdesire', 'age', 'gender'], dtype=object)"
      ]
     },
     "execution_count": 51,
     "metadata": {},
     "output_type": "execute_result"
    }
   ],
   "source": [
    "cdc.columns.values"
   ]
  },
  {
   "cell_type": "markdown",
   "metadata": {},
   "source": [
    "This returns the names `genhlth`, `exerany`, `hlthplan`, `smoke100`, `height`, `weight`, `wtdesire`, `age`, and `gender`. Each one of these variables corresponds to a question that was asked in the survey. For example, for `genhlth`, respondents were asked to evaluate their general health, responding either excellent, very good, good, fair or poor. The `exerany` variable indicates whether the respondent exercised in the past month (1) or did not (0). Likewise, `hlthplan` indicates whether the respondent had some form of health coverage (1) or did not (0). The `smoke100` variable indicates whether the respondent had smoked at least 100 cigarettes in her lifetime. The other variables record the respondent’s `height` in inches, `weight` in pounds as well as their desired weight, `wtdesire`, `age` in years, and `gender`."
   ]
  },
  {
   "cell_type": "markdown",
   "metadata": {},
   "source": [
    "<div class = 'exercise'>\n",
    "<h4>Exercise 1</h4>\n",
    "How many cases are there in this data set? How many variables? For each variable, identify its data type (e.g. categorical, discrete).\n",
    "</div>"
   ]
  },
  {
   "cell_type": "markdown",
   "metadata": {},
   "source": [
    "We can have a look at the first few entries (rows) of our data with the command"
   ]
  },
  {
   "cell_type": "code",
   "execution_count": 52,
   "metadata": {},
   "outputs": [
    {
     "data": {
      "text/html": [
       "<div>\n",
       "<style scoped>\n",
       "    .dataframe tbody tr th:only-of-type {\n",
       "        vertical-align: middle;\n",
       "    }\n",
       "\n",
       "    .dataframe tbody tr th {\n",
       "        vertical-align: top;\n",
       "    }\n",
       "\n",
       "    .dataframe thead th {\n",
       "        text-align: right;\n",
       "    }\n",
       "</style>\n",
       "<table border=\"1\" class=\"dataframe\">\n",
       "  <thead>\n",
       "    <tr style=\"text-align: right;\">\n",
       "      <th></th>\n",
       "      <th>genhlth</th>\n",
       "      <th>exerany</th>\n",
       "      <th>hlthplan</th>\n",
       "      <th>smoke100</th>\n",
       "      <th>height</th>\n",
       "      <th>weight</th>\n",
       "      <th>wtdesire</th>\n",
       "      <th>age</th>\n",
       "      <th>gender</th>\n",
       "    </tr>\n",
       "  </thead>\n",
       "  <tbody>\n",
       "    <tr>\n",
       "      <th>0</th>\n",
       "      <td>good</td>\n",
       "      <td>0</td>\n",
       "      <td>1</td>\n",
       "      <td>0</td>\n",
       "      <td>70</td>\n",
       "      <td>175</td>\n",
       "      <td>175</td>\n",
       "      <td>77</td>\n",
       "      <td>m</td>\n",
       "    </tr>\n",
       "    <tr>\n",
       "      <th>1</th>\n",
       "      <td>good</td>\n",
       "      <td>0</td>\n",
       "      <td>1</td>\n",
       "      <td>1</td>\n",
       "      <td>64</td>\n",
       "      <td>125</td>\n",
       "      <td>115</td>\n",
       "      <td>33</td>\n",
       "      <td>f</td>\n",
       "    </tr>\n",
       "    <tr>\n",
       "      <th>2</th>\n",
       "      <td>good</td>\n",
       "      <td>1</td>\n",
       "      <td>1</td>\n",
       "      <td>1</td>\n",
       "      <td>60</td>\n",
       "      <td>105</td>\n",
       "      <td>105</td>\n",
       "      <td>49</td>\n",
       "      <td>f</td>\n",
       "    </tr>\n",
       "    <tr>\n",
       "      <th>3</th>\n",
       "      <td>good</td>\n",
       "      <td>1</td>\n",
       "      <td>1</td>\n",
       "      <td>0</td>\n",
       "      <td>66</td>\n",
       "      <td>132</td>\n",
       "      <td>124</td>\n",
       "      <td>42</td>\n",
       "      <td>f</td>\n",
       "    </tr>\n",
       "    <tr>\n",
       "      <th>4</th>\n",
       "      <td>very good</td>\n",
       "      <td>0</td>\n",
       "      <td>1</td>\n",
       "      <td>0</td>\n",
       "      <td>61</td>\n",
       "      <td>150</td>\n",
       "      <td>130</td>\n",
       "      <td>55</td>\n",
       "      <td>f</td>\n",
       "    </tr>\n",
       "  </tbody>\n",
       "</table>\n",
       "</div>"
      ],
      "text/plain": [
       "     genhlth  exerany  hlthplan  smoke100  height  weight  wtdesire  age  \\\n",
       "0       good        0         1         0      70     175       175   77   \n",
       "1       good        0         1         1      64     125       115   33   \n",
       "2       good        1         1         1      60     105       105   49   \n",
       "3       good        1         1         0      66     132       124   42   \n",
       "4  very good        0         1         0      61     150       130   55   \n",
       "\n",
       "  gender  \n",
       "0      m  \n",
       "1      f  \n",
       "2      f  \n",
       "3      f  \n",
       "4      f  "
      ]
     },
     "execution_count": 52,
     "metadata": {},
     "output_type": "execute_result"
    }
   ],
   "source": [
    "cdc.head()"
   ]
  },
  {
   "cell_type": "markdown",
   "metadata": {},
   "source": [
    "and similarly we can look at the last few by typing."
   ]
  },
  {
   "cell_type": "code",
   "execution_count": 53,
   "metadata": {},
   "outputs": [
    {
     "data": {
      "text/html": [
       "<div>\n",
       "<style scoped>\n",
       "    .dataframe tbody tr th:only-of-type {\n",
       "        vertical-align: middle;\n",
       "    }\n",
       "\n",
       "    .dataframe tbody tr th {\n",
       "        vertical-align: top;\n",
       "    }\n",
       "\n",
       "    .dataframe thead th {\n",
       "        text-align: right;\n",
       "    }\n",
       "</style>\n",
       "<table border=\"1\" class=\"dataframe\">\n",
       "  <thead>\n",
       "    <tr style=\"text-align: right;\">\n",
       "      <th></th>\n",
       "      <th>genhlth</th>\n",
       "      <th>exerany</th>\n",
       "      <th>hlthplan</th>\n",
       "      <th>smoke100</th>\n",
       "      <th>height</th>\n",
       "      <th>weight</th>\n",
       "      <th>wtdesire</th>\n",
       "      <th>age</th>\n",
       "      <th>gender</th>\n",
       "    </tr>\n",
       "  </thead>\n",
       "  <tbody>\n",
       "    <tr>\n",
       "      <th>19995</th>\n",
       "      <td>good</td>\n",
       "      <td>1</td>\n",
       "      <td>1</td>\n",
       "      <td>0</td>\n",
       "      <td>66</td>\n",
       "      <td>215</td>\n",
       "      <td>140</td>\n",
       "      <td>23</td>\n",
       "      <td>f</td>\n",
       "    </tr>\n",
       "    <tr>\n",
       "      <th>19996</th>\n",
       "      <td>excellent</td>\n",
       "      <td>0</td>\n",
       "      <td>1</td>\n",
       "      <td>0</td>\n",
       "      <td>73</td>\n",
       "      <td>200</td>\n",
       "      <td>185</td>\n",
       "      <td>35</td>\n",
       "      <td>m</td>\n",
       "    </tr>\n",
       "    <tr>\n",
       "      <th>19997</th>\n",
       "      <td>poor</td>\n",
       "      <td>0</td>\n",
       "      <td>1</td>\n",
       "      <td>0</td>\n",
       "      <td>65</td>\n",
       "      <td>216</td>\n",
       "      <td>150</td>\n",
       "      <td>57</td>\n",
       "      <td>f</td>\n",
       "    </tr>\n",
       "    <tr>\n",
       "      <th>19998</th>\n",
       "      <td>good</td>\n",
       "      <td>1</td>\n",
       "      <td>1</td>\n",
       "      <td>0</td>\n",
       "      <td>67</td>\n",
       "      <td>165</td>\n",
       "      <td>165</td>\n",
       "      <td>81</td>\n",
       "      <td>f</td>\n",
       "    </tr>\n",
       "    <tr>\n",
       "      <th>19999</th>\n",
       "      <td>good</td>\n",
       "      <td>1</td>\n",
       "      <td>1</td>\n",
       "      <td>1</td>\n",
       "      <td>69</td>\n",
       "      <td>170</td>\n",
       "      <td>165</td>\n",
       "      <td>83</td>\n",
       "      <td>m</td>\n",
       "    </tr>\n",
       "  </tbody>\n",
       "</table>\n",
       "</div>"
      ],
      "text/plain": [
       "         genhlth  exerany  hlthplan  smoke100  height  weight  wtdesire  age  \\\n",
       "19995       good        1         1         0      66     215       140   23   \n",
       "19996  excellent        0         1         0      73     200       185   35   \n",
       "19997       poor        0         1         0      65     216       150   57   \n",
       "19998       good        1         1         0      67     165       165   81   \n",
       "19999       good        1         1         1      69     170       165   83   \n",
       "\n",
       "      gender  \n",
       "19995      f  \n",
       "19996      m  \n",
       "19997      f  \n",
       "19998      f  \n",
       "19999      m  "
      ]
     },
     "execution_count": 53,
     "metadata": {},
     "output_type": "execute_result"
    }
   ],
   "source": [
    "cdc.tail()"
   ]
  },
  {
   "cell_type": "markdown",
   "metadata": {},
   "source": [
    "You could also look at all of the data frame at once by typing its name into the console, but that might be unwise here. We know `cdc` has 20,000 rows, so viewing the entire data set would mean flooding your screen. It’s better to take small peeks at the data with `head`, `tail` or the subsetting techniques that you’ll learn in a moment."
   ]
  },
  {
   "cell_type": "markdown",
   "metadata": {},
   "source": [
    "## Summaries and tables"
   ]
  },
  {
   "cell_type": "markdown",
   "metadata": {},
   "source": [
    "The BRFSS questionnaire is a massive trove of information. A good first step in any analysis is to distill all of that information into a few summary statistics and graphics. As a simple example, the function `describe` returns a numerical summary: count, mean, standard deviation, minimum, first quartile, median, second quartile, and maximum. For `weight` this is"
   ]
  },
  {
   "cell_type": "code",
   "execution_count": 54,
   "metadata": {},
   "outputs": [
    {
     "data": {
      "text/plain": [
       "count    20000.00000\n",
       "mean       169.68295\n",
       "std         40.08097\n",
       "min         68.00000\n",
       "25%        140.00000\n",
       "50%        165.00000\n",
       "75%        190.00000\n",
       "max        500.00000\n",
       "Name: weight, dtype: float64"
      ]
     },
     "execution_count": 54,
     "metadata": {},
     "output_type": "execute_result"
    }
   ],
   "source": [
    "cdc['weight'].describe()"
   ]
  },
  {
   "cell_type": "markdown",
   "metadata": {},
   "source": [
    "If you wanted to compute the interquartile range for the respondents’ weight, you would look at the output from the summary command above and then enter"
   ]
  },
  {
   "cell_type": "code",
   "execution_count": 55,
   "metadata": {},
   "outputs": [
    {
     "data": {
      "text/plain": [
       "50"
      ]
     },
     "execution_count": 55,
     "metadata": {},
     "output_type": "execute_result"
    }
   ],
   "source": [
    "190 - 140"
   ]
  },
  {
   "cell_type": "markdown",
   "metadata": {},
   "source": [
    "Python also has built-in functions to compute summary statistics one by one. For instance, to calculate the mean, median, and variance of weight, type"
   ]
  },
  {
   "cell_type": "code",
   "execution_count": 56,
   "metadata": {},
   "outputs": [
    {
     "data": {
      "text/plain": [
       "165.0"
      ]
     },
     "execution_count": 56,
     "metadata": {},
     "output_type": "execute_result"
    }
   ],
   "source": [
    "cdc['weight'].mean()\n",
    "cdc['weight'].var()\n",
    "cdc['weight'].median()"
   ]
  },
  {
   "cell_type": "markdown",
   "metadata": {},
   "source": [
    "While it makes sense to describe a quantitative variable like `weight` in terms of these statistics, what about categorical data? We would instead consider the sample frequency or relative frequency distribution. The function `value_counts` does this for you by counting the number of times each kind of response was given. For example, to see the number of people who have smoked 100 cigarettes in their lifetime, type"
   ]
  },
  {
   "cell_type": "code",
   "execution_count": 57,
   "metadata": {},
   "outputs": [
    {
     "data": {
      "text/plain": [
       "0    10559\n",
       "1     9441\n",
       "Name: smoke100, dtype: int64"
      ]
     },
     "execution_count": 57,
     "metadata": {},
     "output_type": "execute_result"
    }
   ],
   "source": [
    "cdc['smoke100'].value_counts()"
   ]
  },
  {
   "cell_type": "markdown",
   "metadata": {},
   "source": [
    "or instead look at the relative frequency distribution by typing"
   ]
  },
  {
   "cell_type": "code",
   "execution_count": 58,
   "metadata": {},
   "outputs": [
    {
     "data": {
      "text/plain": [
       "0    0.52795\n",
       "1    0.47205\n",
       "Name: smoke100, dtype: float64"
      ]
     },
     "execution_count": 58,
     "metadata": {},
     "output_type": "execute_result"
    }
   ],
   "source": [
    "cdc['smoke100'].value_counts(normalize = True)"
   ]
  },
  {
   "cell_type": "markdown",
   "metadata": {},
   "source": [
    "Notice how Python automatically shows the relative frequency distributions by setting the parameter `normalize` as `True`.\n",
    "\n",
    "Now let's import `matplotlib` library to create plots. When running Python using the command line, the graphs are typically shown in a separate window. In a Jupyter Notebook, you can simply output the graphs within the notebook itself by running the `%matplotlib` inline magic command."
   ]
  },
  {
   "cell_type": "code",
   "execution_count": 59,
   "metadata": {},
   "outputs": [],
   "source": [
    "import matplotlib.pyplot as plt\n",
    "%matplotlib inline"
   ]
  },
  {
   "cell_type": "markdown",
   "metadata": {},
   "source": [
    "You can change the format to svg for better quality figures. You can also try the retina format and see which one looks better on your computer's screen."
   ]
  },
  {
   "cell_type": "code",
   "execution_count": 60,
   "metadata": {},
   "outputs": [],
   "source": [
    "%config InlineBackend.figure_format = 'retina'"
   ]
  },
  {
   "cell_type": "markdown",
   "metadata": {},
   "source": [
    "You can also change the default style of plots. Let's go for our favourite style, `ggplot` from R."
   ]
  },
  {
   "cell_type": "code",
   "execution_count": 61,
   "metadata": {},
   "outputs": [],
   "source": [
    "plt.style.use('ggplot')"
   ]
  },
  {
   "cell_type": "markdown",
   "metadata": {},
   "source": [
    "Let's also make the size of plots bigger."
   ]
  },
  {
   "cell_type": "code",
   "execution_count": 62,
   "metadata": {},
   "outputs": [],
   "source": [
    "plt.rcParams['figure.figsize'] = (10,5)"
   ]
  },
  {
   "cell_type": "markdown",
   "metadata": {},
   "source": [
    "Now we can make a bar plot of the entries in the table by putting the table inside the barplot command."
   ]
  },
  {
   "cell_type": "code",
   "execution_count": 63,
   "metadata": {},
   "outputs": [
    {
     "data": {
      "image/png": "[encoded data removed]",
      "text/plain": [
       "<Figure size 720x360 with 1 Axes>"
      ]
     },
     "metadata": {
      "image/png": {
       "height": 301,
       "width": 613
      }
     },
     "output_type": "display_data"
    }
   ],
   "source": [
    "cdc['smoke100'].value_counts().plot(kind = 'bar')\n",
    "plt.show(); "
   ]
  },
  {
   "cell_type": "markdown",
   "metadata": {},
   "source": [
    "Notice what we’ve done here! We created the bar plot using `kind = bar`. You could also break this into two steps by typing the following:"
   ]
  },
  {
   "cell_type": "code",
   "execution_count": 64,
   "metadata": {},
   "outputs": [
    {
     "data": {
      "image/png": "[encoded data removed]",
      "text/plain": [
       "<Figure size 720x360 with 1 Axes>"
      ]
     },
     "metadata": {
      "image/png": {
       "height": 301,
       "width": 613
      }
     },
     "output_type": "display_data"
    }
   ],
   "source": [
    "smoke = cdc['smoke100'].value_counts()\n",
    "smoke.plot(kind = 'bar')\n",
    "plt.show(); "
   ]
  },
  {
   "cell_type": "markdown",
   "metadata": {},
   "source": [
    "Here, we’ve made a new object, called `smoke` (the contents of which we can see by typing `smoke` into the console) and then used it in as the input for `plot`."
   ]
  },
  {
   "cell_type": "markdown",
   "metadata": {},
   "source": [
    "<div class = 'exercise'>\n",
    "<h4>Exercise 2</h4>\n",
    "Create a numerical summary for `height` and `age`, and compute the interquartile range for each. Compute the relative frequency distribution for `gender` and `exerany`. How many males are in the sample? What proportion of the sample reports being in excellent health?\n",
    "</div>"
   ]
  },
  {
   "cell_type": "markdown",
   "metadata": {},
   "source": [
    "The `value_counts()` with `groupby` command can be used to tabulate any number of variables that you provide. For example, to examine which participants have smoked across each gender, we could use the following."
   ]
  },
  {
   "cell_type": "code",
   "execution_count": 65,
   "metadata": {},
   "outputs": [
    {
     "data": {
      "text/html": [
       "<div>\n",
       "<style scoped>\n",
       "    .dataframe tbody tr th:only-of-type {\n",
       "        vertical-align: middle;\n",
       "    }\n",
       "\n",
       "    .dataframe tbody tr th {\n",
       "        vertical-align: top;\n",
       "    }\n",
       "\n",
       "    .dataframe thead th {\n",
       "        text-align: right;\n",
       "    }\n",
       "</style>\n",
       "<table border=\"1\" class=\"dataframe\">\n",
       "  <thead>\n",
       "    <tr style=\"text-align: right;\">\n",
       "      <th>smoke100</th>\n",
       "      <th>0</th>\n",
       "      <th>1</th>\n",
       "    </tr>\n",
       "    <tr>\n",
       "      <th>gender</th>\n",
       "      <th></th>\n",
       "      <th></th>\n",
       "    </tr>\n",
       "  </thead>\n",
       "  <tbody>\n",
       "    <tr>\n",
       "      <th>f</th>\n",
       "      <td>6012</td>\n",
       "      <td>4419</td>\n",
       "    </tr>\n",
       "    <tr>\n",
       "      <th>m</th>\n",
       "      <td>4547</td>\n",
       "      <td>5022</td>\n",
       "    </tr>\n",
       "  </tbody>\n",
       "</table>\n",
       "</div>"
      ],
      "text/plain": [
       "smoke100     0     1\n",
       "gender              \n",
       "f         6012  4419\n",
       "m         4547  5022"
      ]
     },
     "execution_count": 65,
     "metadata": {},
     "output_type": "execute_result"
    }
   ],
   "source": [
    "cdc.groupby('gender')['smoke100'].value_counts().unstack() #  By doing unstack we are transforming the last level of the index to the columns. "
   ]
  },
  {
   "cell_type": "markdown",
   "metadata": {},
   "source": [
    "Here, we see column labels of 0 and 1. Recall that 1 indicates a respondent has smoked at least 100 cigarettes. The rows refer to gender. To create a mosaic plot of this table, we would enter the following command."
   ]
  },
  {
   "cell_type": "code",
   "execution_count": 66,
   "metadata": {},
   "outputs": [
    {
     "data": {
      "image/png": "[encoded data removed]",
      "text/plain": [
       "<Figure size 720x360 with 3 Axes>"
      ]
     },
     "metadata": {
      "image/png": {
       "height": 304,
       "width": 587
      }
     },
     "output_type": "display_data"
    }
   ],
   "source": [
    "from statsmodels.graphics.mosaicplot import mosaic\n",
    "mosaic(cdc, ['gender', 'smoke100'])\n",
    "plt.show();"
   ]
  },
  {
   "cell_type": "markdown",
   "metadata": {},
   "source": [
    "<div class = 'exercise'>\n",
    "<h4>Exercise 3</h4>\n",
    "What does the mosaic plot reveal about smoking habits and gender?\n",
    "</div>"
   ]
  },
  {
   "cell_type": "markdown",
   "metadata": {},
   "source": [
    "## Interlude: How Python thinks about data"
   ]
  },
  {
   "cell_type": "markdown",
   "metadata": {},
   "source": [
    "DataFrames are like a type of spreadsheet. Each row is a different observation (a different respondent) and each column is a different variable (the first is `genhlth`, the second `exerany` and so on). We can see the size of the DataFrame by typing"
   ]
  },
  {
   "cell_type": "code",
   "execution_count": 67,
   "metadata": {},
   "outputs": [
    {
     "data": {
      "text/plain": [
       "(20000, 9)"
      ]
     },
     "execution_count": 67,
     "metadata": {},
     "output_type": "execute_result"
    }
   ],
   "source": [
    "cdc.shape"
   ]
  },
  {
   "cell_type": "markdown",
   "metadata": {},
   "source": [
    "which will return the number of rows and columns. Now, if we want to access a subset of the full DataFrame, we can use row-and-column notation. For example, to see the sixth variable of the 567th respondent, use the format"
   ]
  },
  {
   "cell_type": "code",
   "execution_count": 68,
   "metadata": {},
   "outputs": [
    {
     "data": {
      "text/plain": [
       "160"
      ]
     },
     "execution_count": 68,
     "metadata": {},
     "output_type": "execute_result"
    }
   ],
   "source": [
    "cdc.iloc[566,5] # This is the equivalent of cdc[567,6] in R."
   ]
  },
  {
   "cell_type": "markdown",
   "metadata": {},
   "source": [
    "which gives us the weight of the 567th person (or observation). Remember that, in Python indexing starts at 0, so the first element of a list or DataFrame is selected by the 0-th index.\n",
    "\n",
    "To see the weights for the first 10 respondents we can type"
   ]
  },
  {
   "cell_type": "code",
   "execution_count": 69,
   "metadata": {},
   "outputs": [
    {
     "data": {
      "text/plain": [
       "0    175\n",
       "1    125\n",
       "2    105\n",
       "3    132\n",
       "4    150\n",
       "5    114\n",
       "6    194\n",
       "7    170\n",
       "8    150\n",
       "9    180\n",
       "Name: weight, dtype: int64"
      ]
     },
     "execution_count": 69,
     "metadata": {},
     "output_type": "execute_result"
    }
   ],
   "source": [
    "cdc.iloc[0:10, 5] # Keep in mind that the ending index is excluded in Python."
   ]
  },
  {
   "cell_type": "markdown",
   "metadata": {},
   "source": [
    "Finally, if we want all of the data for the first 10 respondents, type"
   ]
  },
  {
   "cell_type": "code",
   "execution_count": 70,
   "metadata": {},
   "outputs": [
    {
     "data": {
      "text/html": [
       "<div>\n",
       "<style scoped>\n",
       "    .dataframe tbody tr th:only-of-type {\n",
       "        vertical-align: middle;\n",
       "    }\n",
       "\n",
       "    .dataframe tbody tr th {\n",
       "        vertical-align: top;\n",
       "    }\n",
       "\n",
       "    .dataframe thead th {\n",
       "        text-align: right;\n",
       "    }\n",
       "</style>\n",
       "<table border=\"1\" class=\"dataframe\">\n",
       "  <thead>\n",
       "    <tr style=\"text-align: right;\">\n",
       "      <th></th>\n",
       "      <th>genhlth</th>\n",
       "      <th>exerany</th>\n",
       "      <th>hlthplan</th>\n",
       "      <th>smoke100</th>\n",
       "      <th>height</th>\n",
       "      <th>weight</th>\n",
       "      <th>wtdesire</th>\n",
       "      <th>age</th>\n",
       "      <th>gender</th>\n",
       "    </tr>\n",
       "  </thead>\n",
       "  <tbody>\n",
       "    <tr>\n",
       "      <th>0</th>\n",
       "      <td>good</td>\n",
       "      <td>0</td>\n",
       "      <td>1</td>\n",
       "      <td>0</td>\n",
       "      <td>70</td>\n",
       "      <td>175</td>\n",
       "      <td>175</td>\n",
       "      <td>77</td>\n",
       "      <td>m</td>\n",
       "    </tr>\n",
       "    <tr>\n",
       "      <th>1</th>\n",
       "      <td>good</td>\n",
       "      <td>0</td>\n",
       "      <td>1</td>\n",
       "      <td>1</td>\n",
       "      <td>64</td>\n",
       "      <td>125</td>\n",
       "      <td>115</td>\n",
       "      <td>33</td>\n",
       "      <td>f</td>\n",
       "    </tr>\n",
       "    <tr>\n",
       "      <th>2</th>\n",
       "      <td>good</td>\n",
       "      <td>1</td>\n",
       "      <td>1</td>\n",
       "      <td>1</td>\n",
       "      <td>60</td>\n",
       "      <td>105</td>\n",
       "      <td>105</td>\n",
       "      <td>49</td>\n",
       "      <td>f</td>\n",
       "    </tr>\n",
       "    <tr>\n",
       "      <th>3</th>\n",
       "      <td>good</td>\n",
       "      <td>1</td>\n",
       "      <td>1</td>\n",
       "      <td>0</td>\n",
       "      <td>66</td>\n",
       "      <td>132</td>\n",
       "      <td>124</td>\n",
       "      <td>42</td>\n",
       "      <td>f</td>\n",
       "    </tr>\n",
       "    <tr>\n",
       "      <th>4</th>\n",
       "      <td>very good</td>\n",
       "      <td>0</td>\n",
       "      <td>1</td>\n",
       "      <td>0</td>\n",
       "      <td>61</td>\n",
       "      <td>150</td>\n",
       "      <td>130</td>\n",
       "      <td>55</td>\n",
       "      <td>f</td>\n",
       "    </tr>\n",
       "    <tr>\n",
       "      <th>5</th>\n",
       "      <td>very good</td>\n",
       "      <td>1</td>\n",
       "      <td>1</td>\n",
       "      <td>0</td>\n",
       "      <td>64</td>\n",
       "      <td>114</td>\n",
       "      <td>114</td>\n",
       "      <td>55</td>\n",
       "      <td>f</td>\n",
       "    </tr>\n",
       "    <tr>\n",
       "      <th>6</th>\n",
       "      <td>very good</td>\n",
       "      <td>1</td>\n",
       "      <td>1</td>\n",
       "      <td>0</td>\n",
       "      <td>71</td>\n",
       "      <td>194</td>\n",
       "      <td>185</td>\n",
       "      <td>31</td>\n",
       "      <td>m</td>\n",
       "    </tr>\n",
       "    <tr>\n",
       "      <th>7</th>\n",
       "      <td>very good</td>\n",
       "      <td>0</td>\n",
       "      <td>1</td>\n",
       "      <td>0</td>\n",
       "      <td>67</td>\n",
       "      <td>170</td>\n",
       "      <td>160</td>\n",
       "      <td>45</td>\n",
       "      <td>m</td>\n",
       "    </tr>\n",
       "    <tr>\n",
       "      <th>8</th>\n",
       "      <td>good</td>\n",
       "      <td>0</td>\n",
       "      <td>1</td>\n",
       "      <td>1</td>\n",
       "      <td>65</td>\n",
       "      <td>150</td>\n",
       "      <td>130</td>\n",
       "      <td>27</td>\n",
       "      <td>f</td>\n",
       "    </tr>\n",
       "    <tr>\n",
       "      <th>9</th>\n",
       "      <td>good</td>\n",
       "      <td>1</td>\n",
       "      <td>1</td>\n",
       "      <td>0</td>\n",
       "      <td>70</td>\n",
       "      <td>180</td>\n",
       "      <td>170</td>\n",
       "      <td>44</td>\n",
       "      <td>m</td>\n",
       "    </tr>\n",
       "  </tbody>\n",
       "</table>\n",
       "</div>"
      ],
      "text/plain": [
       "     genhlth  exerany  hlthplan  smoke100  height  weight  wtdesire  age  \\\n",
       "0       good        0         1         0      70     175       175   77   \n",
       "1       good        0         1         1      64     125       115   33   \n",
       "2       good        1         1         1      60     105       105   49   \n",
       "3       good        1         1         0      66     132       124   42   \n",
       "4  very good        0         1         0      61     150       130   55   \n",
       "5  very good        1         1         0      64     114       114   55   \n",
       "6  very good        1         1         0      71     194       185   31   \n",
       "7  very good        0         1         0      67     170       160   45   \n",
       "8       good        0         1         1      65     150       130   27   \n",
       "9       good        1         1         0      70     180       170   44   \n",
       "\n",
       "  gender  \n",
       "0      m  \n",
       "1      f  \n",
       "2      f  \n",
       "3      f  \n",
       "4      f  \n",
       "5      f  \n",
       "6      m  \n",
       "7      m  \n",
       "8      f  \n",
       "9      m  "
      ]
     },
     "execution_count": 70,
     "metadata": {},
     "output_type": "execute_result"
    }
   ],
   "source": [
    "cdc.iloc[0:10,]"
   ]
  },
  {
   "cell_type": "markdown",
   "metadata": {},
   "source": [
    "By leaving out an index or a range (we didn’t type anything between the comma and the square bracket), we get all the columns. As a rule, we omit the column number to see all columns in a DataFrame. To access all the observations, just leave a colon inside of the bracket. Try the following to see the weights for all 20,000 respondents fly by on your screen"
   ]
  },
  {
   "cell_type": "code",
   "execution_count": 71,
   "metadata": {},
   "outputs": [
    {
     "data": {
      "text/plain": [
       "0        175\n",
       "1        125\n",
       "2        105\n",
       "3        132\n",
       "4        150\n",
       "5        114\n",
       "6        194\n",
       "7        170\n",
       "8        150\n",
       "9        180\n",
       "10       186\n",
       "11       168\n",
       "12       185\n",
       "13       170\n",
       "14       170\n",
       "15       185\n",
       "16       156\n",
       "17       185\n",
       "18       200\n",
       "19       125\n",
       "20       200\n",
       "21       160\n",
       "22       160\n",
       "23       165\n",
       "24       105\n",
       "25       190\n",
       "26       190\n",
       "27       160\n",
       "28       115\n",
       "29       185\n",
       "        ... \n",
       "19970    168\n",
       "19971     85\n",
       "19972    145\n",
       "19973    110\n",
       "19974    156\n",
       "19975    230\n",
       "19976    198\n",
       "19977    180\n",
       "19978    135\n",
       "19979    265\n",
       "19980    195\n",
       "19981    210\n",
       "19982    171\n",
       "19983    190\n",
       "19984    180\n",
       "19985    120\n",
       "19986    140\n",
       "19987    200\n",
       "19988    230\n",
       "19989    230\n",
       "19990    195\n",
       "19991    210\n",
       "19992    180\n",
       "19993    165\n",
       "19994    224\n",
       "19995    215\n",
       "19996    200\n",
       "19997    216\n",
       "19998    165\n",
       "19999    170\n",
       "Name: weight, Length: 20000, dtype: int64"
      ]
     },
     "execution_count": 71,
     "metadata": {},
     "output_type": "execute_result"
    }
   ],
   "source": [
    "cdc.iloc[:, 5]"
   ]
  },
  {
   "cell_type": "markdown",
   "metadata": {},
   "source": [
    "Recall that column 6 represents respondents’ weight, so the command above reported all of the weights in the data set. An alternative method to access the weight data is by referring to the name. Previously, we typed `list(cdc)` to see all the variables contained in the cdc data set. We can use any of the variable names to select items in our data set."
   ]
  },
  {
   "cell_type": "code",
   "execution_count": 72,
   "metadata": {},
   "outputs": [
    {
     "data": {
      "text/plain": [
       "0        175\n",
       "1        125\n",
       "2        105\n",
       "3        132\n",
       "4        150\n",
       "5        114\n",
       "6        194\n",
       "7        170\n",
       "8        150\n",
       "9        180\n",
       "10       186\n",
       "11       168\n",
       "12       185\n",
       "13       170\n",
       "14       170\n",
       "15       185\n",
       "16       156\n",
       "17       185\n",
       "18       200\n",
       "19       125\n",
       "20       200\n",
       "21       160\n",
       "22       160\n",
       "23       165\n",
       "24       105\n",
       "25       190\n",
       "26       190\n",
       "27       160\n",
       "28       115\n",
       "29       185\n",
       "        ... \n",
       "19970    168\n",
       "19971     85\n",
       "19972    145\n",
       "19973    110\n",
       "19974    156\n",
       "19975    230\n",
       "19976    198\n",
       "19977    180\n",
       "19978    135\n",
       "19979    265\n",
       "19980    195\n",
       "19981    210\n",
       "19982    171\n",
       "19983    190\n",
       "19984    180\n",
       "19985    120\n",
       "19986    140\n",
       "19987    200\n",
       "19988    230\n",
       "19989    230\n",
       "19990    195\n",
       "19991    210\n",
       "19992    180\n",
       "19993    165\n",
       "19994    224\n",
       "19995    215\n",
       "19996    200\n",
       "19997    216\n",
       "19998    165\n",
       "19999    170\n",
       "Name: weight, Length: 20000, dtype: int64"
      ]
     },
     "execution_count": 72,
     "metadata": {},
     "output_type": "execute_result"
    }
   ],
   "source": [
    "cdc['weight']"
   ]
  },
  {
   "cell_type": "markdown",
   "metadata": {},
   "source": [
    "This tells Python to look in DataFrame cdc for the column called weight. Since that’s a single vector, we can subset it by just adding another single index inside square brackets. We see the weight for the 567th respondent by typing"
   ]
  },
  {
   "cell_type": "code",
   "execution_count": 73,
   "metadata": {},
   "outputs": [
    {
     "data": {
      "text/plain": [
       "160"
      ]
     },
     "execution_count": 73,
     "metadata": {},
     "output_type": "execute_result"
    }
   ],
   "source": [
    "cdc['weight'][566]"
   ]
  },
  {
   "cell_type": "markdown",
   "metadata": {},
   "source": [
    "Similarly, for just the first 10 respondents"
   ]
  },
  {
   "cell_type": "code",
   "execution_count": 74,
   "metadata": {},
   "outputs": [
    {
     "data": {
      "text/plain": [
       "0    175\n",
       "1    125\n",
       "2    105\n",
       "3    132\n",
       "4    150\n",
       "5    114\n",
       "6    194\n",
       "7    170\n",
       "8    150\n",
       "9    180\n",
       "Name: weight, dtype: int64"
      ]
     },
     "execution_count": 74,
     "metadata": {},
     "output_type": "execute_result"
    }
   ],
   "source": [
    "cdc['weight'][0:10]"
   ]
  },
  {
   "cell_type": "markdown",
   "metadata": {},
   "source": [
    "The command above returns the same result as the `cdc.iloc[0:10, 5]` command."
   ]
  },
  {
   "cell_type": "markdown",
   "metadata": {},
   "source": [
    "## A little more on subsetting"
   ]
  },
  {
   "cell_type": "markdown",
   "metadata": {},
   "source": [
    "It’s often useful to extract all individuals (cases) in a data set that have specific characteristics. We accomplish this through conditioning commands. First, consider expressions like"
   ]
  },
  {
   "cell_type": "code",
   "execution_count": 75,
   "metadata": {},
   "outputs": [
    {
     "data": {
      "text/plain": [
       "0         True\n",
       "1        False\n",
       "2        False\n",
       "3        False\n",
       "4        False\n",
       "5        False\n",
       "6         True\n",
       "7         True\n",
       "8        False\n",
       "9         True\n",
       "10        True\n",
       "11        True\n",
       "12        True\n",
       "13        True\n",
       "14        True\n",
       "15        True\n",
       "16        True\n",
       "17        True\n",
       "18        True\n",
       "19       False\n",
       "20       False\n",
       "21       False\n",
       "22        True\n",
       "23        True\n",
       "24       False\n",
       "25       False\n",
       "26       False\n",
       "27       False\n",
       "28       False\n",
       "29        True\n",
       "         ...  \n",
       "19970     True\n",
       "19971    False\n",
       "19972    False\n",
       "19973    False\n",
       "19974    False\n",
       "19975     True\n",
       "19976    False\n",
       "19977    False\n",
       "19978     True\n",
       "19979     True\n",
       "19980     True\n",
       "19981     True\n",
       "19982    False\n",
       "19983     True\n",
       "19984     True\n",
       "19985    False\n",
       "19986    False\n",
       "19987     True\n",
       "19988     True\n",
       "19989     True\n",
       "19990     True\n",
       "19991     True\n",
       "19992     True\n",
       "19993    False\n",
       "19994     True\n",
       "19995    False\n",
       "19996     True\n",
       "19997    False\n",
       "19998    False\n",
       "19999     True\n",
       "Name: gender, Length: 20000, dtype: bool"
      ]
     },
     "execution_count": 75,
     "metadata": {},
     "output_type": "execute_result"
    }
   ],
   "source": [
    "cdc['gender'] == 'm'"
   ]
  },
  {
   "cell_type": "markdown",
   "metadata": {},
   "source": [
    "or"
   ]
  },
  {
   "cell_type": "code",
   "execution_count": 76,
   "metadata": {},
   "outputs": [
    {
     "data": {
      "text/plain": [
       "0         True\n",
       "1         True\n",
       "2         True\n",
       "3         True\n",
       "4         True\n",
       "5         True\n",
       "6         True\n",
       "7         True\n",
       "8        False\n",
       "9         True\n",
       "10        True\n",
       "11        True\n",
       "12       False\n",
       "13        True\n",
       "14       False\n",
       "15        True\n",
       "16        True\n",
       "17        True\n",
       "18        True\n",
       "19        True\n",
       "20        True\n",
       "21        True\n",
       "22        True\n",
       "23       False\n",
       "24       False\n",
       "25        True\n",
       "26        True\n",
       "27        True\n",
       "28        True\n",
       "29        True\n",
       "         ...  \n",
       "19970    False\n",
       "19971     True\n",
       "19972     True\n",
       "19973     True\n",
       "19974     True\n",
       "19975     True\n",
       "19976     True\n",
       "19977     True\n",
       "19978     True\n",
       "19979    False\n",
       "19980     True\n",
       "19981     True\n",
       "19982     True\n",
       "19983     True\n",
       "19984     True\n",
       "19985     True\n",
       "19986     True\n",
       "19987     True\n",
       "19988     True\n",
       "19989     True\n",
       "19990     True\n",
       "19991     True\n",
       "19992     True\n",
       "19993     True\n",
       "19994     True\n",
       "19995    False\n",
       "19996     True\n",
       "19997     True\n",
       "19998     True\n",
       "19999     True\n",
       "Name: age, Length: 20000, dtype: bool"
      ]
     },
     "execution_count": 76,
     "metadata": {},
     "output_type": "execute_result"
    }
   ],
   "source": [
    "cdc['age'] > 30"
   ]
  },
  {
   "cell_type": "markdown",
   "metadata": {},
   "source": [
    "These commands produce a series of `TRUE` and `FALSE` values. There is one value for each respondent, where `TRUE` indicates that the person was male (via the first command) or older than 30 (second command).\n",
    "\n",
    "Suppose we want to extract just the data for the men in the sample, or just for those over 30. For example, the command"
   ]
  },
  {
   "cell_type": "code",
   "execution_count": 77,
   "metadata": {},
   "outputs": [],
   "source": [
    "mdata = cdc[cdc['gender'] == 'm']"
   ]
  },
  {
   "cell_type": "markdown",
   "metadata": {},
   "source": [
    "will create a new data set called `mdata` that contains only the men from the `cdc` data set. In addition to finding it in your workspace alongside its dimensions, you can take a peek at the first several rows as usual"
   ]
  },
  {
   "cell_type": "code",
   "execution_count": 78,
   "metadata": {},
   "outputs": [
    {
     "data": {
      "text/html": [
       "<div>\n",
       "<style scoped>\n",
       "    .dataframe tbody tr th:only-of-type {\n",
       "        vertical-align: middle;\n",
       "    }\n",
       "\n",
       "    .dataframe tbody tr th {\n",
       "        vertical-align: top;\n",
       "    }\n",
       "\n",
       "    .dataframe thead th {\n",
       "        text-align: right;\n",
       "    }\n",
       "</style>\n",
       "<table border=\"1\" class=\"dataframe\">\n",
       "  <thead>\n",
       "    <tr style=\"text-align: right;\">\n",
       "      <th></th>\n",
       "      <th>genhlth</th>\n",
       "      <th>exerany</th>\n",
       "      <th>hlthplan</th>\n",
       "      <th>smoke100</th>\n",
       "      <th>height</th>\n",
       "      <th>weight</th>\n",
       "      <th>wtdesire</th>\n",
       "      <th>age</th>\n",
       "      <th>gender</th>\n",
       "    </tr>\n",
       "  </thead>\n",
       "  <tbody>\n",
       "    <tr>\n",
       "      <th>0</th>\n",
       "      <td>good</td>\n",
       "      <td>0</td>\n",
       "      <td>1</td>\n",
       "      <td>0</td>\n",
       "      <td>70</td>\n",
       "      <td>175</td>\n",
       "      <td>175</td>\n",
       "      <td>77</td>\n",
       "      <td>m</td>\n",
       "    </tr>\n",
       "    <tr>\n",
       "      <th>6</th>\n",
       "      <td>very good</td>\n",
       "      <td>1</td>\n",
       "      <td>1</td>\n",
       "      <td>0</td>\n",
       "      <td>71</td>\n",
       "      <td>194</td>\n",
       "      <td>185</td>\n",
       "      <td>31</td>\n",
       "      <td>m</td>\n",
       "    </tr>\n",
       "    <tr>\n",
       "      <th>7</th>\n",
       "      <td>very good</td>\n",
       "      <td>0</td>\n",
       "      <td>1</td>\n",
       "      <td>0</td>\n",
       "      <td>67</td>\n",
       "      <td>170</td>\n",
       "      <td>160</td>\n",
       "      <td>45</td>\n",
       "      <td>m</td>\n",
       "    </tr>\n",
       "    <tr>\n",
       "      <th>9</th>\n",
       "      <td>good</td>\n",
       "      <td>1</td>\n",
       "      <td>1</td>\n",
       "      <td>0</td>\n",
       "      <td>70</td>\n",
       "      <td>180</td>\n",
       "      <td>170</td>\n",
       "      <td>44</td>\n",
       "      <td>m</td>\n",
       "    </tr>\n",
       "    <tr>\n",
       "      <th>10</th>\n",
       "      <td>excellent</td>\n",
       "      <td>1</td>\n",
       "      <td>1</td>\n",
       "      <td>1</td>\n",
       "      <td>69</td>\n",
       "      <td>186</td>\n",
       "      <td>175</td>\n",
       "      <td>46</td>\n",
       "      <td>m</td>\n",
       "    </tr>\n",
       "  </tbody>\n",
       "</table>\n",
       "</div>"
      ],
      "text/plain": [
       "      genhlth  exerany  hlthplan  smoke100  height  weight  wtdesire  age  \\\n",
       "0        good        0         1         0      70     175       175   77   \n",
       "6   very good        1         1         0      71     194       185   31   \n",
       "7   very good        0         1         0      67     170       160   45   \n",
       "9        good        1         1         0      70     180       170   44   \n",
       "10  excellent        1         1         1      69     186       175   46   \n",
       "\n",
       "   gender  \n",
       "0       m  \n",
       "6       m  \n",
       "7       m  \n",
       "9       m  \n",
       "10      m  "
      ]
     },
     "execution_count": 78,
     "metadata": {},
     "output_type": "execute_result"
    }
   ],
   "source": [
    "mdata.head()"
   ]
  },
  {
   "cell_type": "markdown",
   "metadata": {},
   "source": [
    "This new data set contains all the same variables but just under half the rows. It is also possible to tell R to keep only specific variables, which is a topic we’ll discuss in a future lab. For now, the important thing is that we can carve up the data based on values of one or more variables.\n",
    "\n",
    "As an aside, you can use several of these conditions together with `&` and `|`. The `&` is read “and” so that"
   ]
  },
  {
   "cell_type": "code",
   "execution_count": 79,
   "metadata": {},
   "outputs": [
    {
     "data": {
      "text/html": [
       "<div>\n",
       "<style scoped>\n",
       "    .dataframe tbody tr th:only-of-type {\n",
       "        vertical-align: middle;\n",
       "    }\n",
       "\n",
       "    .dataframe tbody tr th {\n",
       "        vertical-align: top;\n",
       "    }\n",
       "\n",
       "    .dataframe thead th {\n",
       "        text-align: right;\n",
       "    }\n",
       "</style>\n",
       "<table border=\"1\" class=\"dataframe\">\n",
       "  <thead>\n",
       "    <tr style=\"text-align: right;\">\n",
       "      <th></th>\n",
       "      <th>genhlth</th>\n",
       "      <th>exerany</th>\n",
       "      <th>hlthplan</th>\n",
       "      <th>smoke100</th>\n",
       "      <th>height</th>\n",
       "      <th>weight</th>\n",
       "      <th>wtdesire</th>\n",
       "      <th>age</th>\n",
       "      <th>gender</th>\n",
       "    </tr>\n",
       "  </thead>\n",
       "  <tbody>\n",
       "    <tr>\n",
       "      <th>0</th>\n",
       "      <td>good</td>\n",
       "      <td>0</td>\n",
       "      <td>1</td>\n",
       "      <td>0</td>\n",
       "      <td>70</td>\n",
       "      <td>175</td>\n",
       "      <td>175</td>\n",
       "      <td>77</td>\n",
       "      <td>m</td>\n",
       "    </tr>\n",
       "    <tr>\n",
       "      <th>6</th>\n",
       "      <td>very good</td>\n",
       "      <td>1</td>\n",
       "      <td>1</td>\n",
       "      <td>0</td>\n",
       "      <td>71</td>\n",
       "      <td>194</td>\n",
       "      <td>185</td>\n",
       "      <td>31</td>\n",
       "      <td>m</td>\n",
       "    </tr>\n",
       "    <tr>\n",
       "      <th>7</th>\n",
       "      <td>very good</td>\n",
       "      <td>0</td>\n",
       "      <td>1</td>\n",
       "      <td>0</td>\n",
       "      <td>67</td>\n",
       "      <td>170</td>\n",
       "      <td>160</td>\n",
       "      <td>45</td>\n",
       "      <td>m</td>\n",
       "    </tr>\n",
       "    <tr>\n",
       "      <th>9</th>\n",
       "      <td>good</td>\n",
       "      <td>1</td>\n",
       "      <td>1</td>\n",
       "      <td>0</td>\n",
       "      <td>70</td>\n",
       "      <td>180</td>\n",
       "      <td>170</td>\n",
       "      <td>44</td>\n",
       "      <td>m</td>\n",
       "    </tr>\n",
       "    <tr>\n",
       "      <th>10</th>\n",
       "      <td>excellent</td>\n",
       "      <td>1</td>\n",
       "      <td>1</td>\n",
       "      <td>1</td>\n",
       "      <td>69</td>\n",
       "      <td>186</td>\n",
       "      <td>175</td>\n",
       "      <td>46</td>\n",
       "      <td>m</td>\n",
       "    </tr>\n",
       "  </tbody>\n",
       "</table>\n",
       "</div>"
      ],
      "text/plain": [
       "      genhlth  exerany  hlthplan  smoke100  height  weight  wtdesire  age  \\\n",
       "0        good        0         1         0      70     175       175   77   \n",
       "6   very good        1         1         0      71     194       185   31   \n",
       "7   very good        0         1         0      67     170       160   45   \n",
       "9        good        1         1         0      70     180       170   44   \n",
       "10  excellent        1         1         1      69     186       175   46   \n",
       "\n",
       "   gender  \n",
       "0       m  \n",
       "6       m  \n",
       "7       m  \n",
       "9       m  \n",
       "10      m  "
      ]
     },
     "execution_count": 79,
     "metadata": {},
     "output_type": "execute_result"
    }
   ],
   "source": [
    "m_and_over30 = cdc[(cdc['gender'] == 'm') & (cdc['age'] > 30)]\n",
    "m_and_over30.head()"
   ]
  },
  {
   "cell_type": "markdown",
   "metadata": {},
   "source": [
    "will give you the data for men over the age of 30. The `|` character is read “or” so that"
   ]
  },
  {
   "cell_type": "code",
   "execution_count": 80,
   "metadata": {},
   "outputs": [
    {
     "data": {
      "text/html": [
       "<div>\n",
       "<style scoped>\n",
       "    .dataframe tbody tr th:only-of-type {\n",
       "        vertical-align: middle;\n",
       "    }\n",
       "\n",
       "    .dataframe tbody tr th {\n",
       "        vertical-align: top;\n",
       "    }\n",
       "\n",
       "    .dataframe thead th {\n",
       "        text-align: right;\n",
       "    }\n",
       "</style>\n",
       "<table border=\"1\" class=\"dataframe\">\n",
       "  <thead>\n",
       "    <tr style=\"text-align: right;\">\n",
       "      <th></th>\n",
       "      <th>genhlth</th>\n",
       "      <th>exerany</th>\n",
       "      <th>hlthplan</th>\n",
       "      <th>smoke100</th>\n",
       "      <th>height</th>\n",
       "      <th>weight</th>\n",
       "      <th>wtdesire</th>\n",
       "      <th>age</th>\n",
       "      <th>gender</th>\n",
       "    </tr>\n",
       "  </thead>\n",
       "  <tbody>\n",
       "    <tr>\n",
       "      <th>0</th>\n",
       "      <td>good</td>\n",
       "      <td>0</td>\n",
       "      <td>1</td>\n",
       "      <td>0</td>\n",
       "      <td>70</td>\n",
       "      <td>175</td>\n",
       "      <td>175</td>\n",
       "      <td>77</td>\n",
       "      <td>m</td>\n",
       "    </tr>\n",
       "    <tr>\n",
       "      <th>1</th>\n",
       "      <td>good</td>\n",
       "      <td>0</td>\n",
       "      <td>1</td>\n",
       "      <td>1</td>\n",
       "      <td>64</td>\n",
       "      <td>125</td>\n",
       "      <td>115</td>\n",
       "      <td>33</td>\n",
       "      <td>f</td>\n",
       "    </tr>\n",
       "    <tr>\n",
       "      <th>2</th>\n",
       "      <td>good</td>\n",
       "      <td>1</td>\n",
       "      <td>1</td>\n",
       "      <td>1</td>\n",
       "      <td>60</td>\n",
       "      <td>105</td>\n",
       "      <td>105</td>\n",
       "      <td>49</td>\n",
       "      <td>f</td>\n",
       "    </tr>\n",
       "    <tr>\n",
       "      <th>3</th>\n",
       "      <td>good</td>\n",
       "      <td>1</td>\n",
       "      <td>1</td>\n",
       "      <td>0</td>\n",
       "      <td>66</td>\n",
       "      <td>132</td>\n",
       "      <td>124</td>\n",
       "      <td>42</td>\n",
       "      <td>f</td>\n",
       "    </tr>\n",
       "    <tr>\n",
       "      <th>4</th>\n",
       "      <td>very good</td>\n",
       "      <td>0</td>\n",
       "      <td>1</td>\n",
       "      <td>0</td>\n",
       "      <td>61</td>\n",
       "      <td>150</td>\n",
       "      <td>130</td>\n",
       "      <td>55</td>\n",
       "      <td>f</td>\n",
       "    </tr>\n",
       "  </tbody>\n",
       "</table>\n",
       "</div>"
      ],
      "text/plain": [
       "     genhlth  exerany  hlthplan  smoke100  height  weight  wtdesire  age  \\\n",
       "0       good        0         1         0      70     175       175   77   \n",
       "1       good        0         1         1      64     125       115   33   \n",
       "2       good        1         1         1      60     105       105   49   \n",
       "3       good        1         1         0      66     132       124   42   \n",
       "4  very good        0         1         0      61     150       130   55   \n",
       "\n",
       "  gender  \n",
       "0      m  \n",
       "1      f  \n",
       "2      f  \n",
       "3      f  \n",
       "4      f  "
      ]
     },
     "execution_count": 80,
     "metadata": {},
     "output_type": "execute_result"
    }
   ],
   "source": [
    "m_and_over30 = cdc[(cdc['gender'] == 'm') | (cdc['age'] > 30)]\n",
    "m_and_over30.head()"
   ]
  },
  {
   "cell_type": "markdown",
   "metadata": {},
   "source": [
    "will take people who are men or over the age of 30 (why that’s an interesting group is hard to say, but right now the mechanics of this are the important thing). In principle, you may use as many “and” and “or” clauses as you like when forming a subset."
   ]
  },
  {
   "cell_type": "markdown",
   "metadata": {},
   "source": [
    "<div class = 'exercise'>\n",
    "<h4>Exercise 4</h4>\n",
    "Create a new object called <code>under23_and_smoke</code> that contains all observations of respondents under the age of 23 that have smoked 100 cigarettes in their lifetime. Write the command you used to create the new object as the answer to this exercise.</div>"
   ]
  },
  {
   "cell_type": "markdown",
   "metadata": {},
   "source": [
    "## Quantitative data"
   ]
  },
  {
   "cell_type": "markdown",
   "metadata": {},
   "source": [
    "With our subsetting tools in hand, we’ll now return to the task of the day: making basic summaries of the BRFSS questionnaire. We’ve already looked at categorical data such as `smoke` and `gender` so now let’s turn our attention to quantitative data. Two common ways to visualize quantitative data are with box plots and histograms. We can construct a box plot for a single variable with the following command."
   ]
  },
  {
   "cell_type": "code",
   "execution_count": 81,
   "metadata": {},
   "outputs": [
    {
     "data": {
      "image/png": "[encoded data removed]",
      "text/plain": [
       "<Figure size 720x360 with 1 Axes>"
      ]
     },
     "metadata": {
      "image/png": {
       "height": 304,
       "width": 593
      }
     },
     "output_type": "display_data"
    }
   ],
   "source": [
    "cdc['height'].plot(kind='box')\n",
    "plt.show(); "
   ]
  },
  {
   "cell_type": "markdown",
   "metadata": {},
   "source": [
    "You can compare the locations of the components of the box by examining the summary statistics."
   ]
  },
  {
   "cell_type": "code",
   "execution_count": 82,
   "metadata": {},
   "outputs": [
    {
     "data": {
      "text/plain": [
       "count    20000.000000\n",
       "mean        67.182900\n",
       "std          4.125954\n",
       "min         48.000000\n",
       "25%         64.000000\n",
       "50%         67.000000\n",
       "75%         70.000000\n",
       "max         93.000000\n",
       "Name: height, dtype: float64"
      ]
     },
     "execution_count": 82,
     "metadata": {},
     "output_type": "execute_result"
    }
   ],
   "source": [
    "cdc['height'].describe()"
   ]
  },
  {
   "cell_type": "markdown",
   "metadata": {},
   "source": [
    "Confirm that the median and upper and lower quartiles reported in the numerical summary match those in the graph. The purpose of a boxplot is to provide a thumbnail sketch of a variable for the purpose of comparing across several categories. So we can, for example, compare the heights of men and women with"
   ]
  },
  {
   "cell_type": "code",
   "execution_count": 83,
   "metadata": {},
   "outputs": [
    {
     "data": {
      "image/png": "[encoded data removed]",
      "text/plain": [
       "<Figure size 720x360 with 1 Axes>"
      ]
     },
     "metadata": {
      "image/png": {
       "height": 345,
       "width": 611
      }
     },
     "output_type": "display_data"
    }
   ],
   "source": [
    "cdc.boxplot(column = 'height', by = 'gender')\n",
    "plt.show(); "
   ]
  },
  {
   "cell_type": "markdown",
   "metadata": {},
   "source": [
    "Instead using matplotlib.pyplot, we can use pandas' `boxplot()` to give us a box plots of heights where the groups are defined by gender.\n",
    "\n",
    "Next let’s consider a new variable that doesn’t show up directly in this data set: Body Mass Index ([BMI](http://en.wikipedia.org/wiki/Body_mass_index)). BMI is a weight to height ratio and can be calculated as:"
   ]
  },
  {
   "cell_type": "code",
   "execution_count": 84,
   "metadata": {},
   "outputs": [
    {
     "data": {
      "text/html": [
       "<img src=\"https://wikimedia.org/api/rest_v1/media/math/render/svg/a25f48e7bcb8270653f7b027e6dce80f0b6fcd90\"/>"
      ],
      "text/plain": [
       "<IPython.core.display.Image object>"
      ]
     },
     "execution_count": 84,
     "metadata": {},
     "output_type": "execute_result"
    }
   ],
   "source": [
    "from IPython.display import Image\n",
    "Image(url= 'https://wikimedia.org/api/rest_v1/media/math/render/svg/a25f48e7bcb8270653f7b027e6dce80f0b6fcd90')"
   ]
  },
  {
   "cell_type": "markdown",
   "metadata": {},
   "source": [
    "703 is the approximate conversion factor to change units from metric (meters and kilograms) to imperial (inches and pounds).\n",
    "\n",
    "The following two lines first make a new object called `bmi` and then creates box plots of these values using `seaborn` library, defining groups by the variable `genhlth`."
   ]
  },
  {
   "cell_type": "code",
   "execution_count": 85,
   "metadata": {},
   "outputs": [],
   "source": [
    "bmi = (cdc['weight'] / (cdc['height'])**2) * 703"
   ]
  },
  {
   "cell_type": "code",
   "execution_count": 86,
   "metadata": {},
   "outputs": [
    {
     "data": {
      "image/png": "[encoded data removed]",
      "text/plain": [
       "<Figure size 720x360 with 1 Axes>"
      ]
     },
     "metadata": {
      "image/png": {
       "height": 320,
       "width": 593
      }
     },
     "output_type": "display_data"
    }
   ],
   "source": [
    "import seaborn as sns\n",
    "sns.boxplot(x = cdc['genhlth'], y = bmi)\n",
    "plt.show(); "
   ]
  },
  {
   "cell_type": "markdown",
   "metadata": {},
   "source": [
    "Notice that the first line above is just some arithmetic, but it’s applied to all 20,000 numbers in the `cdc` data set. That is, for each of the 20,000 participants, we take their weight, divide by their height-squared and then multiply by 703. The result is 20,000 BMI values, one for each respondent."
   ]
  },
  {
   "cell_type": "markdown",
   "metadata": {},
   "source": [
    "<div class = 'exercise'>\n",
    "<h4>Exercise 5</h4>\n",
    "What does this box plot show? Pick another categorical variable from the data set and see how it relates to BMI. List the variable you chose, why you might think it would have a relationship to BMI, and indicate what the figure seems to suggest.\n",
    "</div>"
   ]
  },
  {
   "cell_type": "markdown",
   "metadata": {},
   "source": [
    "Finally, let's make some histograms. We can look at the histogram for the age of our respondents with the command"
   ]
  },
  {
   "cell_type": "code",
   "execution_count": 87,
   "metadata": {},
   "outputs": [
    {
     "data": {
      "image/png": "[encoded data removed]",
      "text/plain": [
       "<Figure size 720x360 with 1 Axes>"
      ]
     },
     "metadata": {
      "image/png": {
       "height": 304,
       "width": 622
      }
     },
     "output_type": "display_data"
    }
   ],
   "source": [
    "cdc['age'].plot(kind = 'hist', edgecolor = 'black', linewidth = 1.2)\n",
    "plt.show(); "
   ]
  },
  {
   "cell_type": "markdown",
   "metadata": {},
   "source": [
    "Histograms are generally a very good way to see the shape of a single distribution, but that shape can change depending on how the data is split between the different bins. You can control the number of bins by adding an argument to the command. In the next two lines, we first make a default histogram of `bmi` and then one with the bin size of 50."
   ]
  },
  {
   "cell_type": "code",
   "execution_count": 88,
   "metadata": {},
   "outputs": [
    {
     "data": {
      "image/png": "[encoded data removed]",
      "text/plain": [
       "<Figure size 720x360 with 1 Axes>"
      ]
     },
     "metadata": {
      "image/png": {
       "height": 304,
       "width": 622
      }
     },
     "output_type": "display_data"
    },
    {
     "data": {
      "image/png": "[encoded data removed]",
      "text/plain": [
       "<Figure size 720x360 with 1 Axes>"
      ]
     },
     "metadata": {
      "image/png": {
       "height": 304,
       "width": 622
      }
     },
     "output_type": "display_data"
    }
   ],
   "source": [
    "bmi.plot(kind = 'hist', color = 'yellow', edgecolor = 'black', linewidth = 1.2)\n",
    "plt.show(); \n",
    "bmi.plot(kind = 'hist', color = 'purple', edgecolor = 'black', linewidth = 1.2, bins = 50)\n",
    "plt.show(); "
   ]
  },
  {
   "cell_type": "markdown",
   "metadata": {},
   "source": [
    "How do these two histograms compare?\n",
    "\n",
    "At this point, we've done a good first pass at analyzing the information in the BRFSS questionnaire. We've found an interesting association between smoking and gender, and we can say something about the relationship between people's assessment of their general health and their own BMI. We've also picked up essential computing tools – summary statistics, subsetting, and plots – that will serve us well throughout this course."
   ]
  },
  {
   "cell_type": "markdown",
   "metadata": {},
   "source": [
    "---\n",
    "## On Your Own\n",
    "\n",
    "__1.__ Make a scatterplot of weight versus desired weight. Describe the relationship between these two variables."
   ]
  },
  {
   "cell_type": "markdown",
   "metadata": {},
   "source": [
    "To create the scatterplot I will use the seaborn library, with 'weight' in the 'x' axis and 'wtdesire' in the 'y' axis."
   ]
  },
  {
   "cell_type": "code",
   "execution_count": 89,
   "metadata": {},
   "outputs": [
    {
     "data": {
      "image/png": "[encoded data removed]",
      "text/plain": [
       "<Figure size 720x360 with 1 Axes>"
      ]
     },
     "metadata": {
      "image/png": {
       "height": 320,
       "width": 616
      }
     },
     "output_type": "display_data"
    }
   ],
   "source": [
    "import seaborn as sns\n",
    "sns.scatterplot(x=\"weight\", y=\"wtdesire\", data=cdc);"
   ]
  },
  {
   "cell_type": "markdown",
   "metadata": {},
   "source": [
    "The graph illustrates an association between the 2 variables where each point in the plot represents one individual and the intersection between both answers in the questionnaire. The scatterplot shows some sort of linear relationship with a higher slope at the beginning and then it starts to decrease as the weight gets bigger. It shows that, in general, for individuals with weight between 50 and 200 they are likely to be comfortable with it. On the other hand, with values greater than 200 pounds, in general, they are more likely to purse a lower weight. There are also some extreme values, with weight around 500 pounds."
   ]
  },
  {
   "cell_type": "markdown",
   "metadata": {},
   "source": [
    "__2.__ Let’s consider a new variable: the difference between desired weight (<code>wtdesire</code>) and current weight (<code>weight</code>). Create this new variable by subtracting the two columns in the DataFrame and assigning them to a new object called <code>wdiff</code>."
   ]
  },
  {
   "cell_type": "code",
   "execution_count": 90,
   "metadata": {},
   "outputs": [],
   "source": [
    "# creates a new column, with the difference between desired weight (wtdesire) and current weight (weight)\n",
    "cdc['wdiff']=cdc['weight']-cdc['wtdesire']"
   ]
  },
  {
   "cell_type": "code",
   "execution_count": 91,
   "metadata": {},
   "outputs": [
    {
     "data": {
      "text/html": [
       "<div>\n",
       "<style scoped>\n",
       "    .dataframe tbody tr th:only-of-type {\n",
       "        vertical-align: middle;\n",
       "    }\n",
       "\n",
       "    .dataframe tbody tr th {\n",
       "        vertical-align: top;\n",
       "    }\n",
       "\n",
       "    .dataframe thead th {\n",
       "        text-align: right;\n",
       "    }\n",
       "</style>\n",
       "<table border=\"1\" class=\"dataframe\">\n",
       "  <thead>\n",
       "    <tr style=\"text-align: right;\">\n",
       "      <th></th>\n",
       "      <th>genhlth</th>\n",
       "      <th>exerany</th>\n",
       "      <th>hlthplan</th>\n",
       "      <th>smoke100</th>\n",
       "      <th>height</th>\n",
       "      <th>weight</th>\n",
       "      <th>wtdesire</th>\n",
       "      <th>age</th>\n",
       "      <th>gender</th>\n",
       "      <th>wdiff</th>\n",
       "    </tr>\n",
       "  </thead>\n",
       "  <tbody>\n",
       "    <tr>\n",
       "      <th>0</th>\n",
       "      <td>good</td>\n",
       "      <td>0</td>\n",
       "      <td>1</td>\n",
       "      <td>0</td>\n",
       "      <td>70</td>\n",
       "      <td>175</td>\n",
       "      <td>175</td>\n",
       "      <td>77</td>\n",
       "      <td>m</td>\n",
       "      <td>0</td>\n",
       "    </tr>\n",
       "    <tr>\n",
       "      <th>1</th>\n",
       "      <td>good</td>\n",
       "      <td>0</td>\n",
       "      <td>1</td>\n",
       "      <td>1</td>\n",
       "      <td>64</td>\n",
       "      <td>125</td>\n",
       "      <td>115</td>\n",
       "      <td>33</td>\n",
       "      <td>f</td>\n",
       "      <td>10</td>\n",
       "    </tr>\n",
       "    <tr>\n",
       "      <th>2</th>\n",
       "      <td>good</td>\n",
       "      <td>1</td>\n",
       "      <td>1</td>\n",
       "      <td>1</td>\n",
       "      <td>60</td>\n",
       "      <td>105</td>\n",
       "      <td>105</td>\n",
       "      <td>49</td>\n",
       "      <td>f</td>\n",
       "      <td>0</td>\n",
       "    </tr>\n",
       "    <tr>\n",
       "      <th>3</th>\n",
       "      <td>good</td>\n",
       "      <td>1</td>\n",
       "      <td>1</td>\n",
       "      <td>0</td>\n",
       "      <td>66</td>\n",
       "      <td>132</td>\n",
       "      <td>124</td>\n",
       "      <td>42</td>\n",
       "      <td>f</td>\n",
       "      <td>8</td>\n",
       "    </tr>\n",
       "    <tr>\n",
       "      <th>4</th>\n",
       "      <td>very good</td>\n",
       "      <td>0</td>\n",
       "      <td>1</td>\n",
       "      <td>0</td>\n",
       "      <td>61</td>\n",
       "      <td>150</td>\n",
       "      <td>130</td>\n",
       "      <td>55</td>\n",
       "      <td>f</td>\n",
       "      <td>20</td>\n",
       "    </tr>\n",
       "  </tbody>\n",
       "</table>\n",
       "</div>"
      ],
      "text/plain": [
       "     genhlth  exerany  hlthplan  smoke100  height  weight  wtdesire  age  \\\n",
       "0       good        0         1         0      70     175       175   77   \n",
       "1       good        0         1         1      64     125       115   33   \n",
       "2       good        1         1         1      60     105       105   49   \n",
       "3       good        1         1         0      66     132       124   42   \n",
       "4  very good        0         1         0      61     150       130   55   \n",
       "\n",
       "  gender  wdiff  \n",
       "0      m      0  \n",
       "1      f     10  \n",
       "2      f      0  \n",
       "3      f      8  \n",
       "4      f     20  "
      ]
     },
     "execution_count": 91,
     "metadata": {},
     "output_type": "execute_result"
    }
   ],
   "source": [
    "# chequing first 5 records to see that the column was created\n",
    "cdc.head()"
   ]
  },
  {
   "cell_type": "markdown",
   "metadata": {},
   "source": [
    "The new column wdiff was sucessfully created"
   ]
  },
  {
   "cell_type": "markdown",
   "metadata": {},
   "source": [
    "__3.__ What type of data is <code>wdiff</code>? If an observation <code>wdiff</code> is 0, what does this mean about the person's weight and desired weight. What if <code>wdiff</code> is positive or negative?"
   ]
  },
  {
   "cell_type": "code",
   "execution_count": 92,
   "metadata": {},
   "outputs": [
    {
     "data": {
      "text/plain": [
       "dtype('int64')"
      ]
     },
     "execution_count": 92,
     "metadata": {},
     "output_type": "execute_result"
    }
   ],
   "source": [
    "# chequing column type\n",
    "cdc.wdiff.dtypes"
   ]
  },
  {
   "cell_type": "markdown",
   "metadata": {},
   "source": [
    "<code>wdiff</code> is a numerical variable, and since we don't have any floating point is discrete. It can take a range of numerical values and operations like add, substract or average can be performed on it. Within an observation the wdiff can be: \n",
    "- 0 means that the individual feels comfortable with his/her weight, and does not desire to have either more or less pounds.\n",
    "- Negative, means that he/she wants to gain pounds.\n",
    "- Positive, means that he/she pursue a lower weight value than currents."
   ]
  },
  {
   "cell_type": "markdown",
   "metadata": {},
   "source": [
    "__4.__ Describe the distribution of <code>wdiff</code> in terms of its center, shape, and spread, including any plots you use. What does this tell us about how people feel about their current weight?"
   ]
  },
  {
   "cell_type": "code",
   "execution_count": 85,
   "metadata": {},
   "outputs": [
    {
     "data": {
      "text/plain": [
       "count    20000.000000\n",
       "mean        14.589100\n",
       "std         24.045856\n",
       "min       -500.000000\n",
       "25%          0.000000\n",
       "50%         10.000000\n",
       "75%         21.000000\n",
       "max        300.000000\n",
       "Name: wdiff, dtype: float64"
      ]
     },
     "execution_count": 85,
     "metadata": {},
     "output_type": "execute_result"
    }
   ],
   "source": [
    "# using describe function to get summary statistics.\n",
    "cdc['wdiff'].describe()"
   ]
  },
  {
   "cell_type": "code",
   "execution_count": 87,
   "metadata": {},
   "outputs": [
    {
     "data": {
      "image/png": "[encoded data removed]",
      "text/plain": [
       "<Figure size 720x360 with 1 Axes>"
      ]
     },
     "metadata": {
      "image/png": {
       "height": 304,
       "width": 622
      }
     },
     "output_type": "display_data"
    }
   ],
   "source": [
    "# creating a histogram to see wdiff distribution\n",
    "cdc['wdiff'].plot(kind = 'hist', edgecolor = 'black', linewidth = 1.2, bins = 90)\n",
    "plt.show(); "
   ]
  },
  {
   "cell_type": "markdown",
   "metadata": {},
   "source": [
    "The summary statistics show that over the 20000 records, the wdiff attribute shows a median of 10 as the center of the distribution, splitting the data into the bottom 50% and the top 50%. The distribution of wdiff counts is unimodal and is right skewed with a standard deviation of 24."
   ]
  },
  {
   "cell_type": "code",
   "execution_count": 78,
   "metadata": {},
   "outputs": [
    {
     "data": {
      "image/png": "[encoded data removed]",
      "text/plain": [
       "<Figure size 720x360 with 1 Axes>"
      ]
     },
     "metadata": {
      "image/png": {
       "height": 320,
       "width": 575
      }
     },
     "output_type": "display_data"
    }
   ],
   "source": [
    "# boxplot for further analysis on distribution\n",
    "sns.boxplot(x=cdc[\"wdiff\"]);"
   ]
  },
  {
   "cell_type": "markdown",
   "metadata": {},
   "source": [
    "The wdiff boxplot allows to identify the IQR in red representing a rectangle with the middle 50% of the data between 0 and 21 pounds, which means that in general, people are either comfortable with their weight or looking to lose no more than 21 pounds.\n",
    "The lower and upper whiskers show some individuals looking to earn more than 21 pounds and those who want to lose some of them. There are also outliers with values above Q3 + 1.5 times the IQR (people interested in reducing more than 50 pounds) and below -30 pounds (individuals looking to gain more than 30 pounds). There are some extreme values below -300 and around 300 pounds, which might indicate individuals with potential health problems or could represent an entry error."
   ]
  },
  {
   "cell_type": "markdown",
   "metadata": {},
   "source": [
    "__5.__ Using numerical summaries and a side-by-side box plot, determine if men tend to view their weight differently than women."
   ]
  },
  {
   "cell_type": "markdown",
   "metadata": {},
   "source": [
    "I will create summary statistics by adding a new column that will represent the 3 possible range of values of the wdiff. If we recall it can be:\n",
    "- 0 means that the individual feels comfortable with his/her weight, and does not desire to either more or less pounds.\n",
    "- Negative, means that he/she wants to gain that number of pounds.\n",
    "- Positive, means that he/she pursue a lower weight value than currents.\n",
    "\n",
    "I will define a list of elements, representing this result, to be able to use it in the next step for a group by to create a table with ratios by gender."
   ]
  },
  {
   "cell_type": "code",
   "execution_count": 95,
   "metadata": {},
   "outputs": [],
   "source": [
    "# empty list\n",
    "sign=[]\n",
    "\n",
    "# iterates throw the dataframe to get the correspoding value for the new column\n",
    "for i, record in cdc.iterrows():\n",
    "    if record['wdiff']<0:\n",
    "        sign.append('win_pounds')\n",
    "        continue\n",
    "    elif record['wdiff']==0:\n",
    "        sign.append('comfortable')\n",
    "        continue\n",
    "    elif record['wdiff']>0:\n",
    "        sign.append('lose_pounds')\n",
    "        continue\n",
    "        \n",
    "#add the resulting list as a new column in the cdc dataframe\n",
    "cdc['wdiff_sign']=sign"
   ]
  },
  {
   "cell_type": "code",
   "execution_count": 96,
   "metadata": {},
   "outputs": [
    {
     "data": {
      "text/html": [
       "<div>\n",
       "<style scoped>\n",
       "    .dataframe tbody tr th:only-of-type {\n",
       "        vertical-align: middle;\n",
       "    }\n",
       "\n",
       "    .dataframe tbody tr th {\n",
       "        vertical-align: top;\n",
       "    }\n",
       "\n",
       "    .dataframe thead th {\n",
       "        text-align: right;\n",
       "    }\n",
       "</style>\n",
       "<table border=\"1\" class=\"dataframe\">\n",
       "  <thead>\n",
       "    <tr style=\"text-align: right;\">\n",
       "      <th>wdiff_sign</th>\n",
       "      <th>comfortable</th>\n",
       "      <th>lose_pounds</th>\n",
       "      <th>win_pounds</th>\n",
       "    </tr>\n",
       "    <tr>\n",
       "      <th>gender</th>\n",
       "      <th></th>\n",
       "      <th></th>\n",
       "      <th></th>\n",
       "    </tr>\n",
       "  </thead>\n",
       "  <tbody>\n",
       "    <tr>\n",
       "      <th>f</th>\n",
       "      <td>0.236411</td>\n",
       "      <td>0.720545</td>\n",
       "      <td>0.043045</td>\n",
       "    </tr>\n",
       "    <tr>\n",
       "      <th>m</th>\n",
       "      <td>0.329188</td>\n",
       "      <td>0.548438</td>\n",
       "      <td>0.122374</td>\n",
       "    </tr>\n",
       "  </tbody>\n",
       "</table>\n",
       "</div>"
      ],
      "text/plain": [
       "wdiff_sign  comfortable  lose_pounds  win_pounds\n",
       "gender                                          \n",
       "f              0.236411     0.720545    0.043045\n",
       "m              0.329188     0.548438    0.122374"
      ]
     },
     "execution_count": 96,
     "metadata": {},
     "output_type": "execute_result"
    }
   ],
   "source": [
    "# chequing the female and male distributions\n",
    "cdc.groupby('gender')['wdiff_sign'].value_counts(normalize=True).unstack() "
   ]
  },
  {
   "cell_type": "markdown",
   "metadata": {},
   "source": [
    "The table above shows that around 55% of men would like to lose pounds, and 33% of them feel comfortable with their weight. On the other hand, there is only a 23% of women that feels ok with her body, and 72% of them wants to lose weight. Almost no woman wants to win pounds and arounds 12% of men do."
   ]
  },
  {
   "cell_type": "code",
   "execution_count": 97,
   "metadata": {},
   "outputs": [
    {
     "data": {
      "text/plain": [
       "count    9569.000000\n",
       "mean       10.706134\n",
       "std        23.492624\n",
       "min      -500.000000\n",
       "25%         0.000000\n",
       "50%         5.000000\n",
       "75%        20.000000\n",
       "max       300.000000\n",
       "Name: wdiff, dtype: float64"
      ]
     },
     "execution_count": 97,
     "metadata": {},
     "output_type": "execute_result"
    }
   ],
   "source": [
    "# summary stats for men wdiff\n",
    "cdc[cdc['gender']=='m']['wdiff'].describe()"
   ]
  },
  {
   "cell_type": "code",
   "execution_count": 98,
   "metadata": {},
   "outputs": [
    {
     "data": {
      "text/plain": [
       "count    10431.000000\n",
       "mean        18.151184\n",
       "std         23.997133\n",
       "min        -83.000000\n",
       "25%          0.000000\n",
       "50%         10.000000\n",
       "75%         27.000000\n",
       "max        300.000000\n",
       "Name: wdiff, dtype: float64"
      ]
     },
     "execution_count": 98,
     "metadata": {},
     "output_type": "execute_result"
    }
   ],
   "source": [
    "# summary stats for woman wdiff\n",
    "cdc[cdc['gender']=='f']['wdiff'].describe()"
   ]
  },
  {
   "cell_type": "markdown",
   "metadata": {},
   "source": [
    "We can see that both distributions have the same std but for men the mean is nearly 11 and 18 in woman, which suggest that females like to reduce more pounds than men do."
   ]
  },
  {
   "cell_type": "markdown",
   "metadata": {},
   "source": [
    "Considering the previous boxplot, I will create a side by side classified by gender, excluding the extreme outliers that are values greater than 200 or smaller than -200."
   ]
  },
  {
   "cell_type": "code",
   "execution_count": 99,
   "metadata": {},
   "outputs": [],
   "source": [
    "#creating custom palette\n",
    "gender_palette={'m':'#0080ff', 'f':'#ff00ff'}"
   ]
  },
  {
   "cell_type": "code",
   "execution_count": 100,
   "metadata": {},
   "outputs": [
    {
     "data": {
      "image/png": "[encoded data removed]",
      "text/plain": [
       "<Figure size 720x360 with 1 Axes>"
      ]
     },
     "metadata": {
      "image/png": {
       "height": 320,
       "width": 624
      }
     },
     "output_type": "display_data"
    }
   ],
   "source": [
    "# side by side boxplot excluding extreme negative and positive values.\n",
    "sns.boxplot(x=\"gender\", y=\"wdiff\", palette=gender_palette, data=cdc[(cdc['wdiff'] < 200) & (cdc['wdiff'] > -200)]);"
   ]
  },
  {
   "cell_type": "markdown",
   "metadata": {},
   "source": [
    "In these boxplots we can see also that for woman there is more variability in the data distribution as the IQR is bigger and the whiskers also extends more, so there is a wider range of answers that woman provide in terms of desired weight."
   ]
  },
  {
   "cell_type": "markdown",
   "metadata": {},
   "source": [
    "__6.__ Now it’s time to get creative. Find the mean and standard deviation of <code>weight</code> and determine what proportion of the weights are within one standard deviation of the mean."
   ]
  },
  {
   "cell_type": "code",
   "execution_count": 103,
   "metadata": {},
   "outputs": [
    {
     "data": {
      "text/plain": [
       "count    20000.00000\n",
       "mean       169.68295\n",
       "std         40.08097\n",
       "min         68.00000\n",
       "25%        140.00000\n",
       "50%        165.00000\n",
       "75%        190.00000\n",
       "max        500.00000\n",
       "Name: weight, dtype: float64"
      ]
     },
     "execution_count": 103,
     "metadata": {},
     "output_type": "execute_result"
    }
   ],
   "source": [
    "# checking summary statistics for the weight column\n",
    "cdc['weight'].describe()"
   ]
  },
  {
   "cell_type": "code",
   "execution_count": 105,
   "metadata": {},
   "outputs": [],
   "source": [
    "#saving the std and the mean\n",
    "weight_std=cdc['weight'].std() \n",
    "weight_mean=cdc['weight'].mean()\n",
    "\n",
    "#getting the range of values\n",
    "value_1_std_positive=weight_mean+weight_std\n",
    "value_1_std_negative=weight_mean-weight_std"
   ]
  },
  {
   "cell_type": "code",
   "execution_count": 106,
   "metadata": {},
   "outputs": [],
   "source": [
    "# adding a new column with a True if the weight is within 1 std\n",
    "cdc['weight_in_1_std']=((cdc['weight']<=value_1_std_positive) & (cdc['weight']>=value_1_std_negative))"
   ]
  },
  {
   "cell_type": "code",
   "execution_count": 107,
   "metadata": {},
   "outputs": [
    {
     "data": {
      "text/html": [
       "<div>\n",
       "<style scoped>\n",
       "    .dataframe tbody tr th:only-of-type {\n",
       "        vertical-align: middle;\n",
       "    }\n",
       "\n",
       "    .dataframe tbody tr th {\n",
       "        vertical-align: top;\n",
       "    }\n",
       "\n",
       "    .dataframe thead th {\n",
       "        text-align: right;\n",
       "    }\n",
       "</style>\n",
       "<table border=\"1\" class=\"dataframe\">\n",
       "  <thead>\n",
       "    <tr style=\"text-align: right;\">\n",
       "      <th></th>\n",
       "      <th>genhlth</th>\n",
       "      <th>exerany</th>\n",
       "      <th>hlthplan</th>\n",
       "      <th>smoke100</th>\n",
       "      <th>height</th>\n",
       "      <th>weight</th>\n",
       "      <th>wtdesire</th>\n",
       "      <th>age</th>\n",
       "      <th>gender</th>\n",
       "      <th>wdiff</th>\n",
       "      <th>wdiff_sign</th>\n",
       "      <th>weight_in_1_std</th>\n",
       "    </tr>\n",
       "  </thead>\n",
       "  <tbody>\n",
       "    <tr>\n",
       "      <th>0</th>\n",
       "      <td>good</td>\n",
       "      <td>0</td>\n",
       "      <td>1</td>\n",
       "      <td>0</td>\n",
       "      <td>70</td>\n",
       "      <td>175</td>\n",
       "      <td>175</td>\n",
       "      <td>77</td>\n",
       "      <td>m</td>\n",
       "      <td>0</td>\n",
       "      <td>comfortable</td>\n",
       "      <td>True</td>\n",
       "    </tr>\n",
       "    <tr>\n",
       "      <th>1</th>\n",
       "      <td>good</td>\n",
       "      <td>0</td>\n",
       "      <td>1</td>\n",
       "      <td>1</td>\n",
       "      <td>64</td>\n",
       "      <td>125</td>\n",
       "      <td>115</td>\n",
       "      <td>33</td>\n",
       "      <td>f</td>\n",
       "      <td>10</td>\n",
       "      <td>lose_pounds</td>\n",
       "      <td>False</td>\n",
       "    </tr>\n",
       "    <tr>\n",
       "      <th>2</th>\n",
       "      <td>good</td>\n",
       "      <td>1</td>\n",
       "      <td>1</td>\n",
       "      <td>1</td>\n",
       "      <td>60</td>\n",
       "      <td>105</td>\n",
       "      <td>105</td>\n",
       "      <td>49</td>\n",
       "      <td>f</td>\n",
       "      <td>0</td>\n",
       "      <td>comfortable</td>\n",
       "      <td>False</td>\n",
       "    </tr>\n",
       "    <tr>\n",
       "      <th>3</th>\n",
       "      <td>good</td>\n",
       "      <td>1</td>\n",
       "      <td>1</td>\n",
       "      <td>0</td>\n",
       "      <td>66</td>\n",
       "      <td>132</td>\n",
       "      <td>124</td>\n",
       "      <td>42</td>\n",
       "      <td>f</td>\n",
       "      <td>8</td>\n",
       "      <td>lose_pounds</td>\n",
       "      <td>True</td>\n",
       "    </tr>\n",
       "    <tr>\n",
       "      <th>4</th>\n",
       "      <td>very good</td>\n",
       "      <td>0</td>\n",
       "      <td>1</td>\n",
       "      <td>0</td>\n",
       "      <td>61</td>\n",
       "      <td>150</td>\n",
       "      <td>130</td>\n",
       "      <td>55</td>\n",
       "      <td>f</td>\n",
       "      <td>20</td>\n",
       "      <td>lose_pounds</td>\n",
       "      <td>True</td>\n",
       "    </tr>\n",
       "  </tbody>\n",
       "</table>\n",
       "</div>"
      ],
      "text/plain": [
       "     genhlth  exerany  hlthplan  smoke100  height  weight  wtdesire  age  \\\n",
       "0       good        0         1         0      70     175       175   77   \n",
       "1       good        0         1         1      64     125       115   33   \n",
       "2       good        1         1         1      60     105       105   49   \n",
       "3       good        1         1         0      66     132       124   42   \n",
       "4  very good        0         1         0      61     150       130   55   \n",
       "\n",
       "  gender  wdiff   wdiff_sign  weight_in_1_std  \n",
       "0      m      0  comfortable             True  \n",
       "1      f     10  lose_pounds            False  \n",
       "2      f      0  comfortable            False  \n",
       "3      f      8  lose_pounds             True  \n",
       "4      f     20  lose_pounds             True  "
      ]
     },
     "execution_count": 107,
     "metadata": {},
     "output_type": "execute_result"
    }
   ],
   "source": [
    "#chequing first 5 records\n",
    "cdc.head()"
   ]
  },
  {
   "cell_type": "code",
   "execution_count": 107,
   "metadata": {},
   "outputs": [
    {
     "data": {
      "text/plain": [
       "True     0.7076\n",
       "False    0.2924\n",
       "Name: weight_in_1_std, dtype: float64"
      ]
     },
     "execution_count": 107,
     "metadata": {},
     "output_type": "execute_result"
    }
   ],
   "source": [
    "#chequing the ratios of the records that falls inside 1 std and the ones that don't\n",
    "cdc['weight_in_1_std'].value_counts(normalize=True)"
   ]
  },
  {
   "cell_type": "markdown",
   "metadata": {},
   "source": [
    "The ratios show that almost 71% of individials weight are within 1 standard deviation of the mean."
   ]
  },
  {
   "cell_type": "markdown",
   "metadata": {},
   "source": [
    "<div class = \"license\">\n",
    "This lab was adapted by Vural Aksakalli and Imran Ture from OpenIntro by Andrew Bray and Mine Çetinkaya-Rundel.\n",
    "</div>"
   ]
  },
  {
   "cell_type": "markdown",
   "metadata": {},
   "source": [
    "***\n",
    "www.featureranking.com"
   ]
  }
 ],
 "metadata": {
  "kernelspec": {
   "display_name": "Python 3",
   "language": "python",
   "name": "python3"
  },
  "language_info": {
   "codemirror_mode": {
    "name": "ipython",
    "version": 3
   },
   "file_extension": ".py",
   "mimetype": "text/x-python",
   "name": "python",
   "nbconvert_exporter": "python",
   "pygments_lexer": "ipython3",
   "version": "3.7.3"
  }
 },
 "nbformat": 4,
 "nbformat_minor": 4
}
