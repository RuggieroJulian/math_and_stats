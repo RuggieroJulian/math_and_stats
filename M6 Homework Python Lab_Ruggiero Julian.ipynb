{
 "cells": [
  {
   "cell_type": "markdown",
   "metadata": {},
   "source": [
    "# Inference for categorical data"
   ]
  },
  {
   "cell_type": "markdown",
   "metadata": {},
   "source": [
    "In August of 2012, news outlets ranging from the [Washington Post](https://www.washingtonpost.com/national/on-faith/poll-shows-atheism-on-the-rise-in-the-us/2012/08/13/90020fd6-e57d-11e1-9739-eef99c5fb285_story.html) to the [Huffington Post](https://www.huffpost.com/entry/atheism-rise-religiosity-decline-in-america_n_1777031) ran a story about the rise of atheism in America. The source for the story was a poll that asked people, \"Irrespective of whether you attend a place of worship or not, would you say you are a religious person, not a religious person or a convinced atheist?\" This type of question, which asks people to classify themselves in one way or another, is common in polling and generates categorical data. In this lab we take a look at the atheism survey and explore what’s at play when making inference about population proportions using categorical data."
   ]
  },
  {
   "cell_type": "markdown",
   "metadata": {},
   "source": [
    "## The survey"
   ]
  },
  {
   "cell_type": "markdown",
   "metadata": {},
   "source": [
    "To access the press release for the poll, conducted by WIN-Gallup International: [GLOBAL INDEX OF\n",
    "RELIGION AND ATHEISM ](https://sidmennt.is/wp-content/uploads/Gallup-International-um-tr%C3%BA-og-tr%C3%BAleysi-2012.pdf)\n",
    "\n",
    "Take a moment to review the report then address the following questions."
   ]
  },
  {
   "cell_type": "markdown",
   "metadata": {},
   "source": [
    "<div class = 'exercise'>\n",
    "<h4>Exercise 1</h4>\n",
    "In the first paragraph, several key findings are reported. Do these percentages appear to be <i>sample statistics</i> (derived from the data sample) or <i>population parameters</i>?\n",
    "</div>"
   ]
  },
  {
   "cell_type": "markdown",
   "metadata": {},
   "source": [
    "The percentages appear to be sample statistics made from the sample of 51,927 people"
   ]
  },
  {
   "cell_type": "markdown",
   "metadata": {},
   "source": [
    "<div class = \"exercise\">\n",
    "<h4>Exercise 2</h4>\n",
    "The title of the report is \"Global Index of Religiosity and Atheism\". To generalize the report's findings to the global human population, what must we assume about the sampling method? Does that seem like a reasonable assumption?</div>"
   ]
  },
  {
   "cell_type": "markdown",
   "metadata": {},
   "source": [
    "We must assume that:\n",
    "\n",
    " - The sample observations are independent.\n",
    " - There are at least 10 successess and 10 failures in the sample.\n",
    " \n",
    "This seem like a reasonable assumption considering the high number of men and women selected (50000) in this survey. "
   ]
  },
  {
   "cell_type": "markdown",
   "metadata": {},
   "source": [
    "## The data"
   ]
  },
  {
   "cell_type": "markdown",
   "metadata": {},
   "source": [
    "Turn your attention to Table 6 (pages 14 and 15), which reports the sample size and response percentages for all 57 countries. While this is a useful format to summarize the data, we will base our analysis on the original data set of individual responses to the survey."
   ]
  },
  {
   "cell_type": "code",
   "execution_count": 3,
   "metadata": {},
   "outputs": [],
   "source": [
    "# for Mac OS users only!\n",
    "# if you run into any SSL certification issues, \n",
    "# you may need to run the following command for a Mac OS installation.\n",
    "# $/Applications/Python 3.x/Install Certificates.command\n",
    "# if this does not fix the issue, run this command instead.\n",
    "import os, ssl\n",
    "if (not os.environ.get('PYTHONHTTPSVERIFY', '') and\n",
    "    getattr(ssl, '_create_unverified_context', None)): \n",
    "    ssl._create_default_https_context = ssl._create_unverified_context\n",
    "    \n",
    "import pandas as pd\n",
    "import io\n",
    "import requests\n",
    "# how to read a csv file from a github account\n",
    "df_url = 'https://raw.githubusercontent.com/vaksakalli/stats_tutorials/master/atheism.csv'\n",
    "url_content = requests.get(df_url).content\n",
    "# print(url_content)\n",
    "atheism = pd.read_csv(io.StringIO(url_content.decode('utf-8')))"
   ]
  },
  {
   "cell_type": "code",
   "execution_count": 4,
   "metadata": {},
   "outputs": [
    {
     "data": {
      "text/plain": [
       "response     year\n",
       "atheist      2005     10\n",
       "             2012     50\n",
       "non-atheist  2005    992\n",
       "             2012    952\n",
       "dtype: int64"
      ]
     },
     "execution_count": 4,
     "metadata": {},
     "output_type": "execute_result"
    }
   ],
   "source": [
    "atheism[atheism.nationality == \"United States\"].groupby([\"response\",\"year\"]).size()"
   ]
  },
  {
   "cell_type": "markdown",
   "metadata": {},
   "source": [
    "<div class = 'exercise'>\n",
    "<h4>Exercise 3</h4>\n",
    "    What does each row of Table 6 correspond to? What does each row of <code>atheism</code> correspond to?\n",
    "</div>"
   ]
  },
  {
   "cell_type": "markdown",
   "metadata": {},
   "source": [
    "To investigate the link between these two ways of organizing this data, take a look at the estimated proportion of atheists in the United States. Towards the bottom of Table 6, we see that this is 5%. We should be able to come to the same number using the `atheism` data."
   ]
  },
  {
   "cell_type": "markdown",
   "metadata": {},
   "source": [
    "Each row in Table 6 represents the summary statistics about a sample proportion from the United States resident answers, whereas \"atheism\" provides all individual responses. We can see the code below filters by nationality and then groups by response and year to then calculate a proportion."
   ]
  },
  {
   "cell_type": "code",
   "execution_count": 5,
   "metadata": {},
   "outputs": [
    {
     "data": {
      "text/plain": [
       "response     year\n",
       "atheist      2005     10\n",
       "             2012     50\n",
       "non-atheist  2005    992\n",
       "             2012    952\n",
       "dtype: int64"
      ]
     },
     "execution_count": 5,
     "metadata": {},
     "output_type": "execute_result"
    }
   ],
   "source": [
    "atheism[atheism.nationality == \"United States\"].groupby([\"response\",\"year\"]).size()"
   ]
  },
  {
   "cell_type": "markdown",
   "metadata": {},
   "source": [
    "For 2012 there are 50/1002 = 0.0499 answers that correspond to atheist."
   ]
  },
  {
   "cell_type": "markdown",
   "metadata": {},
   "source": [
    "<div class = 'exercise'>\n",
    "<h4>Exercise 4</h4>\n",
    "    Using the command below, create a new dataframe called <code>us12</code> that contains only the rows in <code>atheism</code> associated with respondents to the 2012 survey from the United States. Next, calculate the proportion of atheist responses. Does it agree with the percentage in Table 6? If not, why?\n",
    "</div>"
   ]
  },
  {
   "cell_type": "code",
   "execution_count": 6,
   "metadata": {},
   "outputs": [
    {
     "data": {
      "text/plain": [
       "(1002, 3)"
      ]
     },
     "execution_count": 6,
     "metadata": {},
     "output_type": "execute_result"
    }
   ],
   "source": [
    "us12 = atheism[(atheism.nationality == 'United States') & (atheism.year == 2012)]\n",
    "us12.shape"
   ]
  },
  {
   "cell_type": "code",
   "execution_count": 7,
   "metadata": {},
   "outputs": [
    {
     "data": {
      "text/plain": [
       "(50, 3)"
      ]
     },
     "execution_count": 7,
     "metadata": {},
     "output_type": "execute_result"
    }
   ],
   "source": [
    "#filter atheist responses\n",
    "us12_atheism = us12[us12.response == 'atheist']\n",
    "us12_atheism.shape"
   ]
  },
  {
   "cell_type": "code",
   "execution_count": 8,
   "metadata": {},
   "outputs": [
    {
     "data": {
      "text/plain": [
       "0.0499001996007984"
      ]
     },
     "execution_count": 8,
     "metadata": {},
     "output_type": "execute_result"
    }
   ],
   "source": [
    "#getting the proportion of atheist answers\n",
    "proportion=us12_atheism.shape[0]/us12.shape[0]\n",
    "proportion"
   ]
  },
  {
   "cell_type": "markdown",
   "metadata": {},
   "source": [
    "The number matches with the percentage in table 6. If the first line of code would have included year 2005 then the results would have been different."
   ]
  },
  {
   "cell_type": "markdown",
   "metadata": {},
   "source": [
    "## Inference on proportions"
   ]
  },
  {
   "cell_type": "markdown",
   "metadata": {},
   "source": [
    "As was hinted at in Exercise 1, Table 6 provides statistics, that is, calculations made from the sample of 51,927 people. What we'd like, though, is insight into the population parameters. You answer the question, \"What proportion of people in your sample reported being atheists?\" with a statistic; while the question \"What proportion of people on earth would report being atheists\" is answered with an estimate of the parameter.\n",
    "\n",
    "The inferential tools for estimating population proportion are analogous to those used for means in the last chapter: the confidence interval and the hypothesis test."
   ]
  },
  {
   "cell_type": "markdown",
   "metadata": {},
   "source": [
    "<div class = 'exercise'>\n",
    "<h4>Exercise 5</h4>\n",
    "Write out the conditions for inference to construct a 95% confidence interval for the proportion of atheists in the United States in 2012. Are you confident all conditions are met?</div>"
   ]
  },
  {
   "cell_type": "markdown",
   "metadata": {},
   "source": [
    "- observations are independent, it is met since the survey represents less than 10% of the world population.\n",
    "- success-failure condition, the sample size be sufficiently large, with both failure and sucess greater than 10 observations. This one is also met"
   ]
  },
  {
   "cell_type": "markdown",
   "metadata": {},
   "source": [
    "If the conditions for inference are reasonable, we can either calculate the standard error and construct the interval by hand, or we can use [`scipy.stats`](https://docs.scipy.org/doc/scipy/reference/stats.html), a Python library of useful statistical functions offered by `SciPy`."
   ]
  },
  {
   "cell_type": "code",
   "execution_count": 10,
   "metadata": {},
   "outputs": [
    {
     "name": "stdout",
     "output_type": "stream",
     "text": [
      "Number of successes (atheist) = 50.0\n",
      "Number of failures (non-atheist) = 952.0\n",
      "Standard error = 0.006878629122390021\n",
      "95% confidence interval = (0.0364183342579056, 0.0633820649436912)\n"
     ]
    }
   ],
   "source": [
    "import numpy as np\n",
    "from scipy.stats import norm\n",
    "\n",
    "conf_lvl = 0.95\n",
    "z_value = norm.ppf((1-(1-conf_lvl)/2))  # the Z value for the specified confidence level\n",
    "prbs = us12.response.value_counts(normalize = True)  # the probabilities for the response of atheist and non-atheist\n",
    "se = np.sqrt(prbs.prod()/len(us12))  # the standard error\n",
    "\n",
    "# construct a 95% confidence interval for the proportion of atheists in the United States in 2012\n",
    "ci1 = prbs['atheist'] - z_value * se\n",
    "ci2 = prbs['atheist'] + z_value * se\n",
    "\n",
    "# print the results\n",
    "print(f'Number of successes (atheist) = {len(us12)*prbs[1]}')\n",
    "print(f'Number of failures (non-atheist) = {len(us12)*prbs[0]}')\n",
    "print(f'Standard error = {se}')\n",
    "print(f'{int(conf_lvl*100)}% confidence interval = {ci1, ci2}')"
   ]
  },
  {
   "cell_type": "markdown",
   "metadata": {},
   "source": [
    "Although formal confidence intervals and hypothesis tests don't show up in the report, suggestions of inference appear at the bottom of page 6: \"In general, the error margin for surveys of this kind is ± 3-5% at 95% confidence\"."
   ]
  },
  {
   "cell_type": "markdown",
   "metadata": {},
   "source": [
    "<div class = 'exercise'>\n",
    "<h4>Exercise 6</h4>\n",
    "Based on the output, what is the margin of error for the estimate of the proportion of the proportion of atheists in US in 2012?\n",
    "</div>"
   ]
  },
  {
   "cell_type": "code",
   "execution_count": 12,
   "metadata": {},
   "outputs": [
    {
     "name": "stdout",
     "output_type": "stream",
     "text": [
      "The margin of error is 0.0135\n"
     ]
    }
   ],
   "source": [
    "# calculating margin of error for 95% interval.\n",
    "margin_of_error = 1.96 * se\n",
    "print(\"The margin of error is \" + str(round(margin_of_error,4)))"
   ]
  },
  {
   "cell_type": "markdown",
   "metadata": {},
   "source": [
    "<div class = 'exercise'>\n",
    "<h4>Exercise 7</h4>\n",
    "Calculate confidence intervals for the proportion of atheists in 2012 in two other countries of your choice, and report the associated margins of error. Be sure to note whether the conditions for inference are met. It may be helpful to create new data sets for each of the two countries first, and then use these data sets to construct the confidence intervals.\n",
    "</div>"
   ]
  },
  {
   "cell_type": "markdown",
   "metadata": {},
   "source": [
    "95% confidence interval for Argentina"
   ]
  },
  {
   "cell_type": "code",
   "execution_count": 13,
   "metadata": {},
   "outputs": [
    {
     "data": {
      "text/plain": [
       "(991, 3)"
      ]
     },
     "execution_count": 13,
     "metadata": {},
     "output_type": "execute_result"
    }
   ],
   "source": [
    "#Argentina\n",
    "arg12 = atheism[(atheism.nationality == 'Argentina') & (atheism.year == 2012)]\n",
    "arg12.shape"
   ]
  },
  {
   "cell_type": "code",
   "execution_count": 14,
   "metadata": {},
   "outputs": [
    {
     "name": "stdout",
     "output_type": "stream",
     "text": [
      "Number of successes (atheist) = 70.0\n",
      "Number of failures (non-atheist) = 921.0\n",
      "Standard error = 0.008138949491920336\n",
      "95% confidence interval = (0.054683673617286536, 0.08658776936959539)\n"
     ]
    }
   ],
   "source": [
    "import numpy as np\n",
    "from scipy.stats import norm\n",
    "\n",
    "conf_lvl = 0.95\n",
    "z_value = norm.ppf((1-(1-conf_lvl)/2))  # the Z value for the specified confidence level\n",
    "prbs = arg12.response.value_counts(normalize = True)  # the probabilities for the response of atheist and non-atheist\n",
    "se = np.sqrt(prbs.prod()/len(arg12))  # the standard error\n",
    "\n",
    "# construct a 95% confidence interval for the proportion of atheists in the United States in 2012\n",
    "ci1 = prbs['atheist'] - z_value * se\n",
    "ci2 = prbs['atheist'] + z_value * se\n",
    "\n",
    "# print the results\n",
    "print(f'Number of successes (atheist) = {len(arg12)*prbs[1]}')\n",
    "print(f'Number of failures (non-atheist) = {len(arg12)*prbs[0]}')\n",
    "print(f'Standard error = {se}')\n",
    "print(f'{int(conf_lvl*100)}% confidence interval = {ci1, ci2}')"
   ]
  },
  {
   "cell_type": "code",
   "execution_count": 15,
   "metadata": {},
   "outputs": [
    {
     "name": "stdout",
     "output_type": "stream",
     "text": [
      "The margin of error for Argentina is 0.016\n"
     ]
    }
   ],
   "source": [
    "# calculating margin of error for 95% interval.\n",
    "margin_of_error = 1.96 * se\n",
    "print(\"The margin of error for Argentina is \" + str(round(margin_of_error,4)))"
   ]
  },
  {
   "cell_type": "markdown",
   "metadata": {},
   "source": [
    "95% confidence interval for Germany"
   ]
  },
  {
   "cell_type": "code",
   "execution_count": 16,
   "metadata": {},
   "outputs": [
    {
     "data": {
      "text/plain": [
       "(502, 3)"
      ]
     },
     "execution_count": 16,
     "metadata": {},
     "output_type": "execute_result"
    }
   ],
   "source": [
    "#Germany\n",
    "ger12 = atheism[(atheism.nationality == 'Germany') & (atheism.year == 2012)]\n",
    "ger12.shape"
   ]
  },
  {
   "cell_type": "code",
   "execution_count": 17,
   "metadata": {},
   "outputs": [
    {
     "name": "stdout",
     "output_type": "stream",
     "text": [
      "Number of successes (atheist) = 75.0\n",
      "Number of failures (non-atheist) = 427.0\n",
      "Standard error = 0.015910689243723162\n",
      "95% confidence interval = (0.11821801255134079, 0.18058676832515325)\n"
     ]
    }
   ],
   "source": [
    "import numpy as np\n",
    "from scipy.stats import norm\n",
    "\n",
    "conf_lvl = 0.95\n",
    "z_value = norm.ppf((1-(1-conf_lvl)/2))  # the Z value for the specified confidence level\n",
    "prbs = ger12.response.value_counts(normalize = True)  # the probabilities for the response of atheist and non-atheist\n",
    "se = np.sqrt(prbs.prod()/len(ger12))  # the standard error\n",
    "\n",
    "# construct a 95% confidence interval for the proportion of atheists in the United States in 2012\n",
    "ci1 = prbs['atheist'] - z_value * se\n",
    "ci2 = prbs['atheist'] + z_value * se\n",
    "\n",
    "# print the results\n",
    "print(f'Number of successes (atheist) = {len(ger12)*prbs[1]}')\n",
    "print(f'Number of failures (non-atheist) = {len(ger12)*prbs[0]}')\n",
    "print(f'Standard error = {se}')\n",
    "print(f'{int(conf_lvl*100)}% confidence interval = {ci1, ci2}')"
   ]
  },
  {
   "cell_type": "code",
   "execution_count": 18,
   "metadata": {},
   "outputs": [
    {
     "name": "stdout",
     "output_type": "stream",
     "text": [
      "The margin of error for Germany is 0.0312\n"
     ]
    }
   ],
   "source": [
    "# calculating margin of error for 95% interval.\n",
    "margin_of_error = 1.96 * se\n",
    "print(\"The margin of error for Germany is \" + str(round(margin_of_error,4)))"
   ]
  },
  {
   "cell_type": "markdown",
   "metadata": {},
   "source": [
    "## How does the proportion affect the margin of error?"
   ]
  },
  {
   "cell_type": "markdown",
   "metadata": {},
   "source": [
    "Imagine you've set out to survey 1000 people on two questions: are you female? and are you left-handed? Since both of these sample proportions were calculated from the same sample size, they should have the same margin of error, right? Wrong! While the margin of error does change with sample size, it is also affected by the proportion.\n",
    "\n",
    "Think back to the formula for the standard error: ${SE}$ = $\\sqrt{p(1−p)/n}$. This is then used in the formula for the margin of error for a 95% confidence interval: ${ME}$ = ${1.96}$ x ${SE}$ = ${1.96}$ x $\\sqrt{p(1−p)/n}$. Since the population proportion ${p}$ is in this ME formula, it should make sense that the margin of error is in some way dependent on the population proportion. We can visualize this relationship by creating a plot of ${ME}$ vs. ${p}$.\n",
    "\n",
    "The first step is to define an array `p` that is a sequence from 0 to 1 with each number separated by 0.01. We can then create a array of the margin of error (`me`) associated with each of these values of `p` using the familiar approximate formula (${ME}$ = ${2}$×${SE}$). Lastly, we plot the two vectors against each other to reveal their relationship."
   ]
  },
  {
   "cell_type": "code",
   "execution_count": 19,
   "metadata": {},
   "outputs": [
    {
     "data": {
      "image/png": "[encoded data removed]",
      "text/plain": [
       "<Figure size 720x360 with 1 Axes>"
      ]
     },
     "metadata": {
      "image/png": {
       "height": 320,
       "width": 626
      }
     },
     "output_type": "display_data"
    }
   ],
   "source": [
    "import numpy as np\n",
    "n = 1000\n",
    "p = np.arange(0, 1, 0.01)\n",
    "me = 2 * np.sqrt(p * (1 - p)/n)\n",
    "\n",
    "import matplotlib.pyplot as plt\n",
    "%matplotlib inline \n",
    "%config InlineBackend.figure_format = 'retina'\n",
    "plt.style.use('ggplot')\n",
    "plt.rcParams['figure.figsize'] = (10,5)\n",
    "plt.plot(p, me)\n",
    "plt.xlabel('Population Proportion')\n",
    "plt.ylabel('Margin of Error')\n",
    "plt.show();"
   ]
  },
  {
   "cell_type": "markdown",
   "metadata": {},
   "source": [
    "## Success-failure condition"
   ]
  },
  {
   "cell_type": "markdown",
   "metadata": {},
   "source": [
    "The textbook emphasizes that you must always check conditions before making inference. For inference on proportions, the sample proportion can be assumed to be nearly normal if it is based upon a random sample of independent observations and if both ${np}$ ≥ ${10}$ and ${n}$(${1 - p}$) ≥ ${10}$. This rule of thumb is easy enough to follow, but it makes one wonder: what’s so special about the number 10?\n",
    "\n",
    "The short answer is: nothing. You could argue that we would be fine with 9 or that we really should be using 11. What is the \"best\" value for such a rule of thumb is, at least to some degree, arbitrary. However, when ${np}$ and ${n}$(${1 − np}$) reaches 10 the sampling distribution is sufficiently normal to use confidence intervals and hypothesis tests that are based on that approximation.\n",
    "\n",
    "We can investigate the interplay between ${n}$ and ${p}$ and the shape of the sampling distribution by using simulations. To start off, we simulate the process of drawing 5000 samples of size 1040 from a population with a true atheist proportion of 0.1. For each of the 5000 samples we compute ${\\hat{p}}$ and then plot a histogram to visualize their distribution."
   ]
  },
  {
   "cell_type": "code",
   "execution_count": 20,
   "metadata": {},
   "outputs": [
    {
     "data": {
      "image/png": "[encoded data removed]",
      "text/plain": [
       "<Figure size 432x288 with 1 Axes>"
      ]
     },
     "metadata": {
      "image/png": {
       "height": 281,
       "width": 399
      },
      "needs_background": "light"
     },
     "output_type": "display_data"
    }
   ],
   "source": [
    "p = 0.1\n",
    "n = 1040\n",
    "p_hats = np.zeros(5000)\n",
    "\n",
    "for i in range(5000):\n",
    "    samp = np.random.choice(['atheist', 'non_atheist'], size = n, replace = True, p = [p, 1-p])\n",
    "    p_hats[i] = sum(samp == 'atheist')/n\n",
    "\n",
    "plt.hist(p_hats)\n",
    "plt.xlabel('p_hats')\n",
    "plt.ylabel('Frequency')\n",
    "plt.title('p = 0.1, n = 1040')\n",
    "plt.show();"
   ]
  },
  {
   "cell_type": "markdown",
   "metadata": {},
   "source": [
    "These commands build up the sampling distribution of ${\\hat{p}}$ using the familiar `for` loop. You can read the sampling procedure for the first line of code inside the `for` loop as, \"take a sample of size ${n}$ with replacement from the choices of atheist and non-atheist with probabilities  ${p}$  and  ${1 - p}$ , respectively.\" The second line in the loop says, \"calculate the proportion of atheists in this sample and record this value.\" The loop allows us to repeat this process 5,000 times to build a good representation of the sampling distribution."
   ]
  },
  {
   "cell_type": "markdown",
   "metadata": {},
   "source": [
    "<div class = 'exercise'>\n",
    "<h4>Exercise 9</h4>\n",
    "Describe the sampling distribution of sample proportions at  ${n = 1040}$ and  ${p = 0.1}$. Be sure to note the center, spread, and shape.<br><i>Hint</i>: Remember that Python has functions such as <code>mean</code> to calculate summary statistics.\n",
    "</div>"
   ]
  },
  {
   "cell_type": "code",
   "execution_count": 21,
   "metadata": {},
   "outputs": [
    {
     "data": {
      "text/html": [
       "<div>\n",
       "<style scoped>\n",
       "    .dataframe tbody tr th:only-of-type {\n",
       "        vertical-align: middle;\n",
       "    }\n",
       "\n",
       "    .dataframe tbody tr th {\n",
       "        vertical-align: top;\n",
       "    }\n",
       "\n",
       "    .dataframe thead th {\n",
       "        text-align: right;\n",
       "    }\n",
       "</style>\n",
       "<table border=\"1\" class=\"dataframe\">\n",
       "  <thead>\n",
       "    <tr style=\"text-align: right;\">\n",
       "      <th></th>\n",
       "      <th>0</th>\n",
       "    </tr>\n",
       "  </thead>\n",
       "  <tbody>\n",
       "    <tr>\n",
       "      <th>count</th>\n",
       "      <td>5000.000000</td>\n",
       "    </tr>\n",
       "    <tr>\n",
       "      <th>mean</th>\n",
       "      <td>0.100175</td>\n",
       "    </tr>\n",
       "    <tr>\n",
       "      <th>std</th>\n",
       "      <td>0.009341</td>\n",
       "    </tr>\n",
       "    <tr>\n",
       "      <th>min</th>\n",
       "      <td>0.061538</td>\n",
       "    </tr>\n",
       "    <tr>\n",
       "      <th>25%</th>\n",
       "      <td>0.094231</td>\n",
       "    </tr>\n",
       "    <tr>\n",
       "      <th>50%</th>\n",
       "      <td>0.100000</td>\n",
       "    </tr>\n",
       "    <tr>\n",
       "      <th>75%</th>\n",
       "      <td>0.106731</td>\n",
       "    </tr>\n",
       "    <tr>\n",
       "      <th>max</th>\n",
       "      <td>0.133654</td>\n",
       "    </tr>\n",
       "  </tbody>\n",
       "</table>\n",
       "</div>"
      ],
      "text/plain": [
       "                 0\n",
       "count  5000.000000\n",
       "mean      0.100175\n",
       "std       0.009341\n",
       "min       0.061538\n",
       "25%       0.094231\n",
       "50%       0.100000\n",
       "75%       0.106731\n",
       "max       0.133654"
      ]
     },
     "execution_count": 21,
     "metadata": {},
     "output_type": "execute_result"
    }
   ],
   "source": [
    "#converting to dataframe to use describe() to get statistics\n",
    "pd.DataFrame(p_hats).describe()"
   ]
  },
  {
   "cell_type": "markdown",
   "metadata": {},
   "source": [
    "The distribution of sample proportions is close to symetric and unimodal, with a mean of 0.100175 and a standard deviation of 0.009341."
   ]
  },
  {
   "cell_type": "markdown",
   "metadata": {},
   "source": [
    "<div class = 'exercise'>\n",
    "<h4>Exercise 10</h4>\n",
    "Repeat the above simulation three more times but with modified sample sizes and proportions: for ${n = 400}$ and ${p = 0.1}$, ${n = 1040}$ and ${p = 0.02}$, and ${n = 400}$ and ${p = 0.02}$. Plot all four histograms together using <code>subplot</code>. Describe the three new sampling distributions. Based on these limited plots, how does ${n}$ appear to affect the distribution of ${\\hat{p}}$? How does ${p}$ affect the sampling distribution?\n",
    "</div>"
   ]
  },
  {
   "cell_type": "code",
   "execution_count": 22,
   "metadata": {},
   "outputs": [],
   "source": [
    "#simulation 2\n",
    "p = 0.1\n",
    "n = 400\n",
    "p_hats_2 = np.zeros(5000)\n",
    "\n",
    "for i in range(5000):\n",
    "    samp = np.random.choice(['atheist', 'non_atheist'], size = n, replace = True, p = [p, 1-p])\n",
    "    p_hats_2[i] = sum(samp == 'atheist')/n"
   ]
  },
  {
   "cell_type": "code",
   "execution_count": 23,
   "metadata": {},
   "outputs": [],
   "source": [
    "#simulation 3\n",
    "p = 0.02\n",
    "n = 1040\n",
    "p_hats_3 = np.zeros(5000)\n",
    "\n",
    "for i in range(5000):\n",
    "    samp = np.random.choice(['atheist', 'non_atheist'], size = n, replace = True, p = [p, 1-p])\n",
    "    p_hats_3[i] = sum(samp == 'atheist')/n"
   ]
  },
  {
   "cell_type": "code",
   "execution_count": 24,
   "metadata": {},
   "outputs": [],
   "source": [
    "#simulation 4\n",
    "p = 0.02\n",
    "n = 400\n",
    "p_hats_4 = np.zeros(5000)\n",
    "\n",
    "for i in range(5000):\n",
    "    samp = np.random.choice(['atheist', 'non_atheist'], size = n, replace = True, p = [p, 1-p])\n",
    "    p_hats_4[i] = sum(samp == 'atheist')/n"
   ]
  },
  {
   "cell_type": "markdown",
   "metadata": {},
   "source": [
    "Drawing the figures together."
   ]
  },
  {
   "cell_type": "code",
   "execution_count": 33,
   "metadata": {},
   "outputs": [
    {
     "data": {
      "image/png": "[encoded data removed]",
      "text/plain": [
       "<Figure size 1440x1440 with 4 Axes>"
      ]
     },
     "metadata": {
      "image/png": {
       "height": 1133,
       "width": 1177
      },
      "needs_background": "light"
     },
     "output_type": "display_data"
    }
   ],
   "source": [
    "# Set up the figure with 2 rows and 2 columns to store 4 graphs \n",
    "fig, axs = plt.subplots(nrows=2, ncols=2, figsize=(20,20))\n",
    "axs = axs.flatten()\n",
    "\n",
    "#sim 1\n",
    "axs[0].hist(p_hats)\n",
    "axs[0].set_title('Sim 1: p = 0.1, n = 1040', fontsize='large')\n",
    "\n",
    "#sim 2\n",
    "axs[1].hist(p_hats_2)\n",
    "axs[1].set_title('Sim 2: p = 0.1, n = 400', fontsize='large')\n",
    "\n",
    "#sim 3\n",
    "axs[2].hist(p_hats_3)\n",
    "axs[2].set_title('Sim 3: p = 0.02, n = 1040', fontsize='large')\n",
    "\n",
    "#sim 4\n",
    "axs[3].hist(p_hats_4)\n",
    "axs[3].set_title('Sim 4: p = 0.02, n = 400', fontsize='large')\n",
    "\n",
    "# Defining custom 'xlim' and 'ylim' values.\n",
    "custom_xlim = (0, 0.2)\n",
    "custom_ylim = (0, 2000)\n",
    "\n",
    "plt.setp(axs, xlim=custom_xlim, ylim=custom_ylim)\n",
    "\n",
    "plt.show();"
   ]
  },
  {
   "cell_type": "code",
   "execution_count": 30,
   "metadata": {},
   "outputs": [
    {
     "data": {
      "text/plain": [
       "0    0.100081\n",
       "dtype: float64"
      ]
     },
     "execution_count": 30,
     "metadata": {},
     "output_type": "execute_result"
    }
   ],
   "source": [
    "pd.DataFrame(p_hats_2).mean()"
   ]
  },
  {
   "cell_type": "code",
   "execution_count": 31,
   "metadata": {},
   "outputs": [
    {
     "data": {
      "text/plain": [
       "0    0.020062\n",
       "dtype: float64"
      ]
     },
     "execution_count": 31,
     "metadata": {},
     "output_type": "execute_result"
    }
   ],
   "source": [
    "pd.DataFrame(p_hats_3).mean()"
   ]
  },
  {
   "cell_type": "code",
   "execution_count": 32,
   "metadata": {},
   "outputs": [
    {
     "data": {
      "text/plain": [
       "0    0.020074\n",
       "dtype: float64"
      ]
     },
     "execution_count": 32,
     "metadata": {},
     "output_type": "execute_result"
    }
   ],
   "source": [
    "pd.DataFrame(p_hats_4).mean()"
   ]
  },
  {
   "cell_type": "markdown",
   "metadata": {},
   "source": [
    "Simulations 2 and 4 are in general close to symetric.\n",
    "We can see that both p and n affect the sample distribution. Comparing 1 and 3, we have the same n = 1040, but the margin of error is signifficantly lower, getting a narrower confidence interval as we can see sim 3 histogram showing values between 0.005 and 0.035 whereas sim 1 show higher values between 0.07 and 0.13. Similar situation appear when comparing graphs 2 and 4 (same sample size n but different proportion p). Smaller p moves the graph to the left.\n",
    "With a p fixed at 0.1, sim 1 and 2 show similarities but the range of values is narrower with greater sample size, which is sim 1.\n",
    "As a conclusion both affect the sampling distribution."
   ]
  },
  {
   "cell_type": "markdown",
   "metadata": {},
   "source": [
    "<div class = 'exercise'>\n",
    "<h4>Exercise11</h4>\n",
    "If you refer to Table 6, you'll find that Australia has a sample proportion of 0.1 on a sample size of 1040, and that Ecuador has a sample proportion of 0.02 on 400 subjects. Let's suppose for this exercise that these point estimates are actually the truth. Then given the shape of their respective sampling distributions, do you think it is sensible to proceed with inference and report margin of errors, as the reports does?\n",
    "</div>"
   ]
  },
  {
   "cell_type": "markdown",
   "metadata": {},
   "source": [
    "We will check if the success-failure condition is met, that is at least 10 successess and 10 failures in each sample."
   ]
  },
  {
   "cell_type": "code",
   "execution_count": 34,
   "metadata": {},
   "outputs": [
    {
     "name": "stdout",
     "output_type": "stream",
     "text": [
      "Number of successes (atheist) = 104.0\n",
      "Number of failures (non-atheist) = 935.0\n"
     ]
    }
   ],
   "source": [
    "#Australia\n",
    "australia=atheism[(atheism.nationality == 'Australia') & (atheism.year == 2012)]\n",
    "prbs_aus = australia.response.value_counts(normalize = True)  # the probabilities for the response of atheist and non-atheist\n",
    "\n",
    "# print the results\n",
    "print(f'Number of successes (atheist) = {len(australia)*prbs_aus[1]}')\n",
    "print(f'Number of failures (non-atheist) = {len(australia)*prbs_aus[0]}')"
   ]
  },
  {
   "cell_type": "markdown",
   "metadata": {},
   "source": [
    "Both number of successes and failures is greater than 10, we can proceed to perform inferences and report margin of errors for Australia."
   ]
  },
  {
   "cell_type": "code",
   "execution_count": 35,
   "metadata": {},
   "outputs": [
    {
     "name": "stdout",
     "output_type": "stream",
     "text": [
      "Number of successes (atheist) = 8.0\n",
      "Number of failures (non-atheist) = 396.0\n"
     ]
    }
   ],
   "source": [
    "#Ecuador\n",
    "ecuador=atheism[(atheism.nationality == 'Ecuador') & (atheism.year == 2012)]\n",
    "prbs_ecu = ecuador.response.value_counts(normalize = True)  # the probabilities for the response of atheist and non-atheist\n",
    "\n",
    "# print the results\n",
    "print(f'Number of successes (atheist) = {len(ecuador)*prbs_ecu[1]}')\n",
    "print(f'Number of failures (non-atheist) = {len(ecuador)*prbs_ecu[0]}')"
   ]
  },
  {
   "cell_type": "raw",
   "metadata": {},
   "source": [
    "For Ecuador, the number of successes is lower than 10, so we can't proceed with inferences or report margin of errors for it."
   ]
  },
  {
   "cell_type": "markdown",
   "metadata": {},
   "source": [
    "---\n",
    "## On Your Own\n",
    "\n",
    "<ol>\n",
    "<p>The question of atheism was asked by WIN-Gallup International in a similar survey that was conducted in 2005. (We assume here that sample sizes have remained the same.) Table 4 on page 12 of the report summarizes survey results from 2005 and 2012 for 39 countries.</p><br>\n",
    "    <li>Answer the following two questions. As always, write out the hypotheses for any tests you conduct and outline the status of the conditions for inference.</li><br>\n",
    "    <ol type = 'a'>\n",
    "    <li>Is there convincing evidence that Spain has seen a change in its atheism index between 2005 and 2012?<br>\n",
    "        <i>Hint</i>: Create a new data set for respondents from Spain. Form confidence intervals for the true proportion of athiests in both years, and determine whether they overlap.</li><br>\n",
    "    <li>Is there convincing evidence that the United States has seen a change in its atheism index between 2005 and 2012?</li>     </ol><br>\n",
    "</ol>"
   ]
  },
  {
   "cell_type": "code",
   "execution_count": 42,
   "metadata": {},
   "outputs": [],
   "source": [
    "#Spain 2005\n",
    "spain_05=atheism[(atheism.nationality == 'Spain') & (atheism.year == 2005)]\n",
    "prbs = spain_05.response.value_counts(normalize = True)  # the probabilities for the response of atheist and non-atheist"
   ]
  },
  {
   "cell_type": "code",
   "execution_count": 43,
   "metadata": {},
   "outputs": [
    {
     "name": "stdout",
     "output_type": "stream",
     "text": [
      "95% confidence interval = (0.08295303940265614, 0.11774504087657597)\n"
     ]
    }
   ],
   "source": [
    "conf_lvl = 0.95\n",
    "z_value = norm.ppf((1-(1-conf_lvl)/2))  # the Z value for the specified confidence level\n",
    "se = np.sqrt(prbs.prod()/len(spain_05))  # the standard error\n",
    "\n",
    "# construct a 95% confidence interval for the proportion of atheists in Spain in 2012\n",
    "ci1 = prbs['atheist'] - z_value * se\n",
    "ci2 = prbs['atheist'] + z_value * se\n",
    "\n",
    "# print the results\n",
    "print(f'{int(conf_lvl*100)}% confidence interval = {ci1, ci2}')"
   ]
  },
  {
   "cell_type": "code",
   "execution_count": 44,
   "metadata": {},
   "outputs": [],
   "source": [
    "#Spain 2012\n",
    "spain_12=atheism[(atheism.nationality == 'Spain') & (atheism.year == 2012)]\n",
    "prbs = spain_12.response.value_counts(normalize = True)  # the probabilities for the response of atheist and non-atheist"
   ]
  },
  {
   "cell_type": "code",
   "execution_count": 45,
   "metadata": {},
   "outputs": [
    {
     "name": "stdout",
     "output_type": "stream",
     "text": [
      "95% confidence interval = (0.07338366759410987, 0.10652899616134863)\n"
     ]
    }
   ],
   "source": [
    "conf_lvl = 0.95\n",
    "z_value = norm.ppf((1-(1-conf_lvl)/2))  # the Z value for the specified confidence level\n",
    "se = np.sqrt(prbs.prod()/len(spain_12))  # the standard error\n",
    "\n",
    "# construct a 95% confidence interval for the proportion of atheists in Spain in 2012\n",
    "ci1 = prbs['atheist'] - z_value * se\n",
    "ci2 = prbs['atheist'] + z_value * se\n",
    "\n",
    "# print the results\n",
    "print(f'{int(conf_lvl*100)}% confidence interval = {ci1, ci2}')"
   ]
  },
  {
   "cell_type": "markdown",
   "metadata": {},
   "source": [
    "The 2 confidence intervals for Spain overlap, which means there is not convincing evidence that Spain has seen a change in its atheism index between 2005 and 2012."
   ]
  },
  {
   "cell_type": "markdown",
   "metadata": {},
   "source": [
    "Similar analysis for USA 2005 and 2012 below"
   ]
  },
  {
   "cell_type": "code",
   "execution_count": 46,
   "metadata": {},
   "outputs": [
    {
     "name": "stdout",
     "output_type": "stream",
     "text": [
      "95% confidence interval = (0.0038254043170282874, 0.016134675523291075)\n"
     ]
    }
   ],
   "source": [
    "#USA 2005\n",
    "usa_05=atheism[(atheism.nationality == 'United States') & (atheism.year == 2005)]\n",
    "prbs = usa_05.response.value_counts(normalize = True)  # the probabilities for the response of atheist and non-atheist\n",
    "\n",
    "conf_lvl = 0.95\n",
    "z_value = norm.ppf((1-(1-conf_lvl)/2))  # the Z value for the specified confidence level\n",
    "se = np.sqrt(prbs.prod()/len(usa_05))  # the standard error\n",
    "\n",
    "# construct a 95% confidence interval for the proportion of atheists in Spain in 2012\n",
    "ci1 = prbs['atheist'] - z_value * se\n",
    "ci2 = prbs['atheist'] + z_value * se\n",
    "\n",
    "# print the results\n",
    "print(f'{int(conf_lvl*100)}% confidence interval = {ci1, ci2}')"
   ]
  },
  {
   "cell_type": "code",
   "execution_count": 47,
   "metadata": {},
   "outputs": [
    {
     "name": "stdout",
     "output_type": "stream",
     "text": [
      "95% confidence interval = (0.0364183342579056, 0.0633820649436912)\n"
     ]
    }
   ],
   "source": [
    "#USA 2012\n",
    "usa_12=atheism[(atheism.nationality == 'United States') & (atheism.year == 2012)]\n",
    "prbs = usa_12.response.value_counts(normalize = True)  # the probabilities for the response of atheist and non-atheist\n",
    "\n",
    "conf_lvl = 0.95\n",
    "z_value = norm.ppf((1-(1-conf_lvl)/2))  # the Z value for the specified confidence level\n",
    "se = np.sqrt(prbs.prod()/len(usa_12))  # the standard error\n",
    "\n",
    "# construct a 95% confidence interval for the proportion of atheists in Spain in 2012\n",
    "ci1 = prbs['atheist'] - z_value * se\n",
    "ci2 = prbs['atheist'] + z_value * se\n",
    "\n",
    "# print the results\n",
    "print(f'{int(conf_lvl*100)}% confidence interval = {ci1, ci2}')"
   ]
  },
  {
   "cell_type": "markdown",
   "metadata": {},
   "source": [
    "The 2 confidence intervals for United States don't overlap, which means there is convincing evidence that USA has seen a change in its atheism index between 2005 and 2012."
   ]
  },
  {
   "cell_type": "markdown",
   "metadata": {},
   "source": [
    "2. If in fact there has been no change in the atheism index in the countries listed in Table 4, in how many of those countries would you expect to detect a change (at a significance level of 0.05) simply by chance?<br>\n",
    "<i>Hint</i>: Look in the textbook index under Type 1 error."
   ]
  },
  {
   "cell_type": "markdown",
   "metadata": {},
   "source": [
    "Type 1 Error is rejecting the null hypothesis when Ho is actually true. For a significanse level of 0.05 that would mean to incorrectly reject Ho 5% of the times. Table 4 has 39 countries, so there could probably be around 2 cases with type 1 errors."
   ]
  },
  {
   "cell_type": "markdown",
   "metadata": {},
   "source": [
    "3. Suppose you’re hired by the local government to estimate the proportion of residents that attend a religious service on a weekly basis. According to the guidelines, the estimate must have a margin of error no greater than 1% with 95% confidence. You have no idea what to expect for ${p}$. How many people would you have to sample to ensure that you are within the guidelines?<br>\n",
    "<i>Hint</i>: Refer to your plot of the relationship between ${p}$ and margin of error. Do not use the data set to answer this question."
   ]
  },
  {
   "cell_type": "markdown",
   "metadata": {},
   "source": [
    "Considering the formula for margin of error with a 95% confidence: <br>\n",
    "ME = 1.96 * sqrt(p(1-p)/n)"
   ]
  },
  {
   "cell_type": "markdown",
   "metadata": {},
   "source": [
    "We do not know p, so we will take the worst case scenario, that is p=0.5"
   ]
  },
  {
   "cell_type": "markdown",
   "metadata": {},
   "source": [
    "ME = 1.96 * sqrt(0.5(1-0.5)/n) <br>\n",
    "\n",
    "the estimate must have a margin of error no greater than 1% so: <br>\n",
    "1.96 * sqrt(0.025/n) < 0.01 <br>\n",
    "\n",
    "(1.96 * sqrt(0.25)) / 0.01 < sqrt(n)"
   ]
  },
  {
   "cell_type": "code",
   "execution_count": 52,
   "metadata": {},
   "outputs": [],
   "source": [
    "#getting the left side of the equation\n",
    "import math\n",
    "left_equation = ((1.96 * math.sqrt(0.25)) / 0.01)"
   ]
  },
  {
   "cell_type": "code",
   "execution_count": 53,
   "metadata": {},
   "outputs": [
    {
     "data": {
      "text/plain": [
       "9604.0"
      ]
     },
     "execution_count": 53,
     "metadata": {},
     "output_type": "execute_result"
    }
   ],
   "source": [
    "# as sqrt(n) was on the right side we need to do the left side power to 2.\n",
    "left_equation ** 2"
   ]
  },
  {
   "cell_type": "markdown",
   "metadata": {},
   "source": [
    "To ensure that we are within the guidelines, that is, a margin of error no greater than 1% with 95% confidence, we will need to sample around 9604 people."
   ]
  },
  {
   "cell_type": "markdown",
   "metadata": {},
   "source": [
    "<div class = \"license\">\n",
    "This lab was adapted by Vural Aksakalli and Imran Ture from OpenIntro by Andrew Bray and Mine Çetinkaya-Rundel.\n",
    "</div>"
   ]
  },
  {
   "cell_type": "markdown",
   "metadata": {},
   "source": [
    "***\n",
    "www.featureranking.com"
   ]
  }
 ],
 "metadata": {
  "kernelspec": {
   "display_name": "Python 3",
   "language": "python",
   "name": "python3"
  },
  "language_info": {
   "codemirror_mode": {
    "name": "ipython",
    "version": 3
   },
   "file_extension": ".py",
   "mimetype": "text/x-python",
   "name": "python",
   "nbconvert_exporter": "python",
   "pygments_lexer": "ipython3",
   "version": "3.7.3"
  }
 },
 "nbformat": 4,
 "nbformat_minor": 2
}
