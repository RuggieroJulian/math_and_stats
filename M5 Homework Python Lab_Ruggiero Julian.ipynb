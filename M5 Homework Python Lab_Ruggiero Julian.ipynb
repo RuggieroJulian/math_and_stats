{
 "cells": [
  {
   "cell_type": "markdown",
   "metadata": {},
   "source": [
    "# Inference for numerical data"
   ]
  },
  {
   "cell_type": "markdown",
   "metadata": {},
   "source": [
    "## North Carolina births"
   ]
  },
  {
   "cell_type": "markdown",
   "metadata": {},
   "source": [
    "In 2004, the state of North Carolina released a large data set containing information on births recorded in this state. This data set is useful to researchers studying the relation between habits and practices of expectant mothers and the birth of their children. We will work with a random sample of observations from this data set."
   ]
  },
  {
   "cell_type": "markdown",
   "metadata": {},
   "source": [
    "## Exploratory analysis"
   ]
  },
  {
   "cell_type": "markdown",
   "metadata": {},
   "source": [
    "Load the `nc` data set into our notebook."
   ]
  },
  {
   "cell_type": "code",
   "execution_count": 174,
   "metadata": {},
   "outputs": [],
   "source": [
    "# for Mac OS users only!\n",
    "# if you run into any SSL certification issues, \n",
    "# you may need to run the following command for a Mac OS installation.\n",
    "# $/Applications/Python 3.x/Install Certificates.command\n",
    "# if this does not fix the issue, run this command instead.\n",
    "#import os, ssl\n",
    "#if (not os.environ.get('PYTHONHTTPSVERIFY', '') and\n",
    "#    getattr(ssl, '_create_unverified_context', None)): \n",
    "#    ssl._create_default_https_context = ssl._create_unverified_context\n",
    "\n",
    "import pandas as pd\n",
    "\n",
    "nc = pd.read_csv('https://www.openintro.org/stat/data/nc.csv')"
   ]
  },
  {
   "cell_type": "markdown",
   "metadata": {},
   "source": [
    "We have observations on 13 different variables, some categorical and some numerical. The meaning of each variable is as follows."
   ]
  },
  {
   "cell_type": "markdown",
   "metadata": {},
   "source": [
    "| variable         | description |\n",
    "| ---------------- | ------------|\n",
    "| `fage`           | father's age in years. |\n",
    "| `mage`           | mother's age in years. |\n",
    "| `mature`         | maturity status of mother. |\n",
    "| `weeks`          | length of pregnancy in weeks. |\n",
    "| `premie`         | whether the birth was classified as premature (premie) or full-term. |\n",
    "| `visits`         | number of hospital visits during pregnancy. |\n",
    "| `marital`        | whether mother is `married` or `not married` at birth. |\n",
    "| `gained`         | weight gained by mother during pregnancy in pounds. |\n",
    "| `weight`         | weight of the baby at birth in pounds. |\n",
    "| `lowbirthweight` | whether baby was classified as low birthweight (`low`) or not (`not low`). |\n",
    "| `gender`         | gender of the baby, `female` or `male`. |\n",
    "| `habit`          | status of the mother as a `nonsmoker` or a `smoker`. |\n",
    "| `whitemom`       | whether mom is `white` or `not white`. |"
   ]
  },
  {
   "cell_type": "markdown",
   "metadata": {},
   "source": [
    "<div class = 'exercise'>\n",
    "<h4>Exercise 1</h4>\n",
    "What are the cases in this data set? How many cases are there in our sample?\n",
    "</div>"
   ]
  },
  {
   "cell_type": "code",
   "execution_count": 175,
   "metadata": {},
   "outputs": [
    {
     "data": {
      "text/plain": [
       "(1000, 13)"
      ]
     },
     "execution_count": 175,
     "metadata": {},
     "output_type": "execute_result"
    }
   ],
   "source": [
    "#using shape function to see the number of records and columns\n",
    "nc.shape"
   ]
  },
  {
   "cell_type": "markdown",
   "metadata": {},
   "source": [
    "We have 1000 observations in the dataset, and each one represents a baby birth."
   ]
  },
  {
   "cell_type": "markdown",
   "metadata": {},
   "source": [
    "As a first step in the analysis, we should consider summaries of the data. This can be done using the `describe()` and `info()`:"
   ]
  },
  {
   "cell_type": "code",
   "execution_count": 176,
   "metadata": {},
   "outputs": [
    {
     "data": {
      "text/html": [
       "<div>\n",
       "<style scoped>\n",
       "    .dataframe tbody tr th:only-of-type {\n",
       "        vertical-align: middle;\n",
       "    }\n",
       "\n",
       "    .dataframe tbody tr th {\n",
       "        vertical-align: top;\n",
       "    }\n",
       "\n",
       "    .dataframe thead th {\n",
       "        text-align: right;\n",
       "    }\n",
       "</style>\n",
       "<table border=\"1\" class=\"dataframe\">\n",
       "  <thead>\n",
       "    <tr style=\"text-align: right;\">\n",
       "      <th></th>\n",
       "      <th>fage</th>\n",
       "      <th>mage</th>\n",
       "      <th>weeks</th>\n",
       "      <th>visits</th>\n",
       "      <th>gained</th>\n",
       "      <th>weight</th>\n",
       "    </tr>\n",
       "  </thead>\n",
       "  <tbody>\n",
       "    <tr>\n",
       "      <th>count</th>\n",
       "      <td>829.000000</td>\n",
       "      <td>1000.000000</td>\n",
       "      <td>998.000000</td>\n",
       "      <td>991.000000</td>\n",
       "      <td>973.000000</td>\n",
       "      <td>1000.00000</td>\n",
       "    </tr>\n",
       "    <tr>\n",
       "      <th>mean</th>\n",
       "      <td>30.255730</td>\n",
       "      <td>27.000000</td>\n",
       "      <td>38.334669</td>\n",
       "      <td>12.104945</td>\n",
       "      <td>30.325797</td>\n",
       "      <td>7.10100</td>\n",
       "    </tr>\n",
       "    <tr>\n",
       "      <th>std</th>\n",
       "      <td>6.763766</td>\n",
       "      <td>6.213583</td>\n",
       "      <td>2.931553</td>\n",
       "      <td>3.954934</td>\n",
       "      <td>14.241297</td>\n",
       "      <td>1.50886</td>\n",
       "    </tr>\n",
       "    <tr>\n",
       "      <th>min</th>\n",
       "      <td>14.000000</td>\n",
       "      <td>13.000000</td>\n",
       "      <td>20.000000</td>\n",
       "      <td>0.000000</td>\n",
       "      <td>0.000000</td>\n",
       "      <td>1.00000</td>\n",
       "    </tr>\n",
       "    <tr>\n",
       "      <th>25%</th>\n",
       "      <td>25.000000</td>\n",
       "      <td>22.000000</td>\n",
       "      <td>37.000000</td>\n",
       "      <td>10.000000</td>\n",
       "      <td>20.000000</td>\n",
       "      <td>6.38000</td>\n",
       "    </tr>\n",
       "    <tr>\n",
       "      <th>50%</th>\n",
       "      <td>30.000000</td>\n",
       "      <td>27.000000</td>\n",
       "      <td>39.000000</td>\n",
       "      <td>12.000000</td>\n",
       "      <td>30.000000</td>\n",
       "      <td>7.31000</td>\n",
       "    </tr>\n",
       "    <tr>\n",
       "      <th>75%</th>\n",
       "      <td>35.000000</td>\n",
       "      <td>32.000000</td>\n",
       "      <td>40.000000</td>\n",
       "      <td>15.000000</td>\n",
       "      <td>38.000000</td>\n",
       "      <td>8.06000</td>\n",
       "    </tr>\n",
       "    <tr>\n",
       "      <th>max</th>\n",
       "      <td>55.000000</td>\n",
       "      <td>50.000000</td>\n",
       "      <td>45.000000</td>\n",
       "      <td>30.000000</td>\n",
       "      <td>85.000000</td>\n",
       "      <td>11.75000</td>\n",
       "    </tr>\n",
       "  </tbody>\n",
       "</table>\n",
       "</div>"
      ],
      "text/plain": [
       "             fage         mage       weeks      visits      gained      weight\n",
       "count  829.000000  1000.000000  998.000000  991.000000  973.000000  1000.00000\n",
       "mean    30.255730    27.000000   38.334669   12.104945   30.325797     7.10100\n",
       "std      6.763766     6.213583    2.931553    3.954934   14.241297     1.50886\n",
       "min     14.000000    13.000000   20.000000    0.000000    0.000000     1.00000\n",
       "25%     25.000000    22.000000   37.000000   10.000000   20.000000     6.38000\n",
       "50%     30.000000    27.000000   39.000000   12.000000   30.000000     7.31000\n",
       "75%     35.000000    32.000000   40.000000   15.000000   38.000000     8.06000\n",
       "max     55.000000    50.000000   45.000000   30.000000   85.000000    11.75000"
      ]
     },
     "execution_count": 176,
     "metadata": {},
     "output_type": "execute_result"
    }
   ],
   "source": [
    "nc.describe()"
   ]
  },
  {
   "cell_type": "code",
   "execution_count": 177,
   "metadata": {},
   "outputs": [
    {
     "name": "stdout",
     "output_type": "stream",
     "text": [
      "<class 'pandas.core.frame.DataFrame'>\n",
      "RangeIndex: 1000 entries, 0 to 999\n",
      "Data columns (total 13 columns):\n",
      "fage              829 non-null float64\n",
      "mage              1000 non-null int64\n",
      "mature            1000 non-null object\n",
      "weeks             998 non-null float64\n",
      "premie            998 non-null object\n",
      "visits            991 non-null float64\n",
      "marital           999 non-null object\n",
      "gained            973 non-null float64\n",
      "weight            1000 non-null float64\n",
      "lowbirthweight    1000 non-null object\n",
      "gender            1000 non-null object\n",
      "habit             999 non-null object\n",
      "whitemom          998 non-null object\n",
      "dtypes: float64(5), int64(1), object(7)\n",
      "memory usage: 101.6+ KB\n"
     ]
    }
   ],
   "source": [
    "nc.info()"
   ]
  },
  {
   "cell_type": "markdown",
   "metadata": {},
   "source": [
    "As you review the variable summaries, consider which variables are categorical and which are numerical. For numerical variables, are there outliers? If you aren't sure or want to take a closer look at the data, make a graph.\n",
    "\n",
    "Consider the possible relationship between a mother's smoking habit and the weight of her baby. Plotting the data is a useful first step because it helps us quickly visualize trends, identify strong associations, and develop research questions."
   ]
  },
  {
   "cell_type": "code",
   "execution_count": 178,
   "metadata": {},
   "outputs": [
    {
     "data": {
      "text/html": [
       "<div>\n",
       "<style scoped>\n",
       "    .dataframe tbody tr th:only-of-type {\n",
       "        vertical-align: middle;\n",
       "    }\n",
       "\n",
       "    .dataframe tbody tr th {\n",
       "        vertical-align: top;\n",
       "    }\n",
       "\n",
       "    .dataframe thead th {\n",
       "        text-align: right;\n",
       "    }\n",
       "</style>\n",
       "<table border=\"1\" class=\"dataframe\">\n",
       "  <thead>\n",
       "    <tr style=\"text-align: right;\">\n",
       "      <th></th>\n",
       "      <th>fage</th>\n",
       "      <th>mage</th>\n",
       "      <th>mature</th>\n",
       "      <th>weeks</th>\n",
       "      <th>premie</th>\n",
       "      <th>visits</th>\n",
       "      <th>marital</th>\n",
       "      <th>gained</th>\n",
       "      <th>weight</th>\n",
       "      <th>lowbirthweight</th>\n",
       "      <th>gender</th>\n",
       "      <th>habit</th>\n",
       "      <th>whitemom</th>\n",
       "    </tr>\n",
       "  </thead>\n",
       "  <tbody>\n",
       "    <tr>\n",
       "      <th>0</th>\n",
       "      <td>NaN</td>\n",
       "      <td>13</td>\n",
       "      <td>younger mom</td>\n",
       "      <td>39.0</td>\n",
       "      <td>full term</td>\n",
       "      <td>10.0</td>\n",
       "      <td>married</td>\n",
       "      <td>38.0</td>\n",
       "      <td>7.63</td>\n",
       "      <td>not low</td>\n",
       "      <td>male</td>\n",
       "      <td>nonsmoker</td>\n",
       "      <td>not white</td>\n",
       "    </tr>\n",
       "    <tr>\n",
       "      <th>1</th>\n",
       "      <td>NaN</td>\n",
       "      <td>14</td>\n",
       "      <td>younger mom</td>\n",
       "      <td>42.0</td>\n",
       "      <td>full term</td>\n",
       "      <td>15.0</td>\n",
       "      <td>married</td>\n",
       "      <td>20.0</td>\n",
       "      <td>7.88</td>\n",
       "      <td>not low</td>\n",
       "      <td>male</td>\n",
       "      <td>nonsmoker</td>\n",
       "      <td>not white</td>\n",
       "    </tr>\n",
       "    <tr>\n",
       "      <th>2</th>\n",
       "      <td>19.0</td>\n",
       "      <td>15</td>\n",
       "      <td>younger mom</td>\n",
       "      <td>37.0</td>\n",
       "      <td>full term</td>\n",
       "      <td>11.0</td>\n",
       "      <td>married</td>\n",
       "      <td>38.0</td>\n",
       "      <td>6.63</td>\n",
       "      <td>not low</td>\n",
       "      <td>female</td>\n",
       "      <td>nonsmoker</td>\n",
       "      <td>white</td>\n",
       "    </tr>\n",
       "    <tr>\n",
       "      <th>3</th>\n",
       "      <td>21.0</td>\n",
       "      <td>15</td>\n",
       "      <td>younger mom</td>\n",
       "      <td>41.0</td>\n",
       "      <td>full term</td>\n",
       "      <td>6.0</td>\n",
       "      <td>married</td>\n",
       "      <td>34.0</td>\n",
       "      <td>8.00</td>\n",
       "      <td>not low</td>\n",
       "      <td>male</td>\n",
       "      <td>nonsmoker</td>\n",
       "      <td>white</td>\n",
       "    </tr>\n",
       "    <tr>\n",
       "      <th>4</th>\n",
       "      <td>NaN</td>\n",
       "      <td>15</td>\n",
       "      <td>younger mom</td>\n",
       "      <td>39.0</td>\n",
       "      <td>full term</td>\n",
       "      <td>9.0</td>\n",
       "      <td>married</td>\n",
       "      <td>27.0</td>\n",
       "      <td>6.38</td>\n",
       "      <td>not low</td>\n",
       "      <td>female</td>\n",
       "      <td>nonsmoker</td>\n",
       "      <td>not white</td>\n",
       "    </tr>\n",
       "  </tbody>\n",
       "</table>\n",
       "</div>"
      ],
      "text/plain": [
       "   fage  mage       mature  weeks     premie  visits  marital  gained  weight  \\\n",
       "0   NaN    13  younger mom   39.0  full term    10.0  married    38.0    7.63   \n",
       "1   NaN    14  younger mom   42.0  full term    15.0  married    20.0    7.88   \n",
       "2  19.0    15  younger mom   37.0  full term    11.0  married    38.0    6.63   \n",
       "3  21.0    15  younger mom   41.0  full term     6.0  married    34.0    8.00   \n",
       "4   NaN    15  younger mom   39.0  full term     9.0  married    27.0    6.38   \n",
       "\n",
       "  lowbirthweight  gender      habit   whitemom  \n",
       "0        not low    male  nonsmoker  not white  \n",
       "1        not low    male  nonsmoker  not white  \n",
       "2        not low  female  nonsmoker      white  \n",
       "3        not low    male  nonsmoker      white  \n",
       "4        not low  female  nonsmoker  not white  "
      ]
     },
     "execution_count": 178,
     "metadata": {},
     "output_type": "execute_result"
    }
   ],
   "source": [
    "#showing first 5 rows\n",
    "nc.head()"
   ]
  },
  {
   "cell_type": "markdown",
   "metadata": {},
   "source": [
    "Numerical variables are the ones displayed when using the describe function above, which are: fage, mage, weeks, visits, gained and weight. <br>\n",
    "Below there are boxplots for each one of them to see if there are outliers."
   ]
  },
  {
   "cell_type": "code",
   "execution_count": 180,
   "metadata": {},
   "outputs": [
    {
     "data": {
      "image/png": "[encoded data removed]",
      "text/plain": [
       "<Figure size 432x288 with 1 Axes>"
      ]
     },
     "metadata": {
      "needs_background": "light"
     },
     "output_type": "display_data"
    }
   ],
   "source": [
    "nc[\"fage\"].plot(kind='box');"
   ]
  },
  {
   "cell_type": "markdown",
   "metadata": {},
   "source": [
    "There are 2 outliers above the value 50 for fage."
   ]
  },
  {
   "cell_type": "code",
   "execution_count": 181,
   "metadata": {},
   "outputs": [
    {
     "data": {
      "image/png": "[encoded data removed]",
      "text/plain": [
       "<Figure size 432x288 with 1 Axes>"
      ]
     },
     "metadata": {
      "needs_background": "light"
     },
     "output_type": "display_data"
    }
   ],
   "source": [
    "nc[\"mage\"].plot(kind='box');"
   ]
  },
  {
   "cell_type": "markdown",
   "metadata": {},
   "source": [
    "There is one outlier around the value 50 for mage."
   ]
  },
  {
   "cell_type": "code",
   "execution_count": 182,
   "metadata": {},
   "outputs": [
    {
     "data": {
      "image/png": "[encoded data removed]",
      "text/plain": [
       "<Figure size 432x288 with 1 Axes>"
      ]
     },
     "metadata": {
      "needs_background": "light"
     },
     "output_type": "display_data"
    }
   ],
   "source": [
    "nc[\"weeks\"].plot(kind='box');"
   ]
  },
  {
   "cell_type": "markdown",
   "metadata": {},
   "source": [
    "There are several outliers for weeks between 20 and 30."
   ]
  },
  {
   "cell_type": "code",
   "execution_count": 183,
   "metadata": {},
   "outputs": [
    {
     "data": {
      "image/png": "[encoded data removed]",
      "text/plain": [
       "<Figure size 432x288 with 1 Axes>"
      ]
     },
     "metadata": {
      "needs_background": "light"
     },
     "output_type": "display_data"
    }
   ],
   "source": [
    "nc[\"visits\"].plot(kind='box');"
   ]
  },
  {
   "cell_type": "markdown",
   "metadata": {},
   "source": [
    "There are few outliers at both sides of the boxplot for visits."
   ]
  },
  {
   "cell_type": "code",
   "execution_count": 184,
   "metadata": {},
   "outputs": [
    {
     "data": {
      "image/png": "[encoded data removed]",
      "text/plain": [
       "<Figure size 432x288 with 1 Axes>"
      ]
     },
     "metadata": {
      "needs_background": "light"
     },
     "output_type": "display_data"
    }
   ],
   "source": [
    "nc[\"gained\"].plot(kind='box');"
   ]
  },
  {
   "cell_type": "markdown",
   "metadata": {},
   "source": [
    "Gained attribute has a fair anumber of outliers above the value 60."
   ]
  },
  {
   "cell_type": "code",
   "execution_count": 185,
   "metadata": {},
   "outputs": [
    {
     "data": {
      "image/png": "[encoded data removed]",
      "text/plain": [
       "<Figure size 432x288 with 1 Axes>"
      ]
     },
     "metadata": {
      "needs_background": "light"
     },
     "output_type": "display_data"
    }
   ],
   "source": [
    "nc[\"weight\"].plot(kind='box');"
   ]
  },
  {
   "cell_type": "markdown",
   "metadata": {},
   "source": [
    "There is a high number of outliers for weight below the value 4."
   ]
  },
  {
   "cell_type": "markdown",
   "metadata": {},
   "source": [
    "<div class = 'exercise'>\n",
    "<h4>Exercise 2</h4>\n",
    "    Make a side-by-side boxplot of <code>habit</code> and <code>weight</code>. What does the plot highlight about the relationship between these two variables?\n",
    "</div>"
   ]
  },
  {
   "cell_type": "code",
   "execution_count": 186,
   "metadata": {},
   "outputs": [
    {
     "data": {
      "image/png": "[encoded data removed]",
      "text/plain": [
       "<Figure size 432x360 with 1 Axes>"
      ]
     },
     "metadata": {
      "needs_background": "light"
     },
     "output_type": "display_data"
    }
   ],
   "source": [
    "nc.boxplot(column='weight', by='habit', widths = 0.6,patch_artist = True,figsize=(6,5));"
   ]
  },
  {
   "cell_type": "markdown",
   "metadata": {},
   "source": [
    "The boxplots show there is a big number of outliers for nonsmoker mothers, meaning that there is a higher number of baby with weight lower than 4 on nonsmoker mothers than in smoker's. Also there are outliers in the upper side of the boxplot for nonsmoker."
   ]
  },
  {
   "cell_type": "markdown",
   "metadata": {},
   "source": [
    "The box plots show how the medians of the two distributions compare, but we can also compare the means of the distributions using the following function to split the `weight` variable into the `habit` groups, then take the mean of each using `mean()`."
   ]
  },
  {
   "cell_type": "code",
   "execution_count": 187,
   "metadata": {},
   "outputs": [
    {
     "data": {
      "text/plain": [
       "habit\n",
       "nonsmoker    7.144273\n",
       "smoker       6.828730\n",
       "Name: weight, dtype: float64"
      ]
     },
     "execution_count": 187,
     "metadata": {},
     "output_type": "execute_result"
    }
   ],
   "source": [
    "nc.groupby(['habit'])['weight'].mean()"
   ]
  },
  {
   "cell_type": "markdown",
   "metadata": {},
   "source": [
    "There is an observed difference, but is this difference statistically significant? In order to answer this question we will conduct a hypothesis test ."
   ]
  },
  {
   "cell_type": "markdown",
   "metadata": {},
   "source": [
    "## Inference"
   ]
  },
  {
   "cell_type": "markdown",
   "metadata": {},
   "source": [
    "<div class = \"exercise\">\n",
    "<h4>Exercise 3</h4>\n",
    "Check if the conditions necessary for inference are satisfied. Note that you will need to obtain sample sizes to check the conditions. You can compute the group size using the same <code>groupby</code> command above but replacing <code>mean</code> with <code>size</code>.\n",
    "</div>"
   ]
  },
  {
   "cell_type": "code",
   "execution_count": 188,
   "metadata": {},
   "outputs": [
    {
     "data": {
      "text/plain": [
       "habit\n",
       "nonsmoker    873\n",
       "smoker       126\n",
       "Name: weight, dtype: int64"
      ]
     },
     "execution_count": 188,
     "metadata": {},
     "output_type": "execute_result"
    }
   ],
   "source": [
    "# getting sample sizes.\n",
    "nc.groupby(['habit'])['weight'].size()"
   ]
  },
  {
   "cell_type": "markdown",
   "metadata": {},
   "source": [
    "Chequing the conditions necessary for inference:\n",
    "- The sample size is greater than 30 for both groups and wwere randomly taken.\n",
    "- The number of samples is less than 10% of the entire population.\n",
    "- Both distributions are nearly normal, the big size of the sample allows to have a little skew in the data."
   ]
  },
  {
   "cell_type": "markdown",
   "metadata": {},
   "source": [
    "<div class = \"exercise\">\n",
    "<h4>Exercise 4</h4>\n",
    "Write the hypotheses for testing if the average weights of babies born to smoking and non-smoking mothers are different.\n",
    "</div>"
   ]
  },
  {
   "cell_type": "markdown",
   "metadata": {},
   "source": [
    "__Ho:__ There is no difference in the average weigths of babies born to smoking and non-smoking mothers. <br>\n",
    "__Ha:__ There is some difference in the average weigths of babies born to smoking and non-smoking mothers. "
   ]
  },
  {
   "cell_type": "markdown",
   "metadata": {},
   "source": [
    "We will now conduct hypothesis tests for testing if the average weights of babies born to smoking and non-smoking mothers are different. For this task, we can use [`statsmodels`](https://www.statsmodels.org/stable/index.html), a Python module that provides classes and functions for the estimation of many different statistical models, as well as for conducting statistical tests, and statistical data exploration."
   ]
  },
  {
   "cell_type": "code",
   "execution_count": 189,
   "metadata": {},
   "outputs": [
    {
     "name": "stdout",
     "output_type": "stream",
     "text": [
      "n_smoker = 126.0\n",
      "mean_smoker = 6.828730158730159\n",
      "sd_smoker = 1.380668106117173\n",
      "\n",
      "n_nonsmoker = 873.0\n",
      "mean_nonsmoker = 7.144272623138601\n",
      "sd_nonsmoker = 1.5178105512705897\n",
      "\n",
      "Standard error = 0.13376049190705977\n",
      "Test statistic: Z = -2.3590109449334946\n",
      "p-value = 0.018323715325166526\n",
      "reject null hypothesis\n"
     ]
    }
   ],
   "source": [
    "import statsmodels.stats.weightstats as st\n",
    "\n",
    "nc_weightANDsmoker = nc[nc['habit'] == 'smoker']['weight']\n",
    "nc_weightANDnonsmoker = nc[nc['habit'] == 'nonsmoker']['weight']\n",
    "\n",
    "dsw1 = st.DescrStatsW(nc_weightANDsmoker)\n",
    "dsw2 = st.DescrStatsW(nc_weightANDnonsmoker)\n",
    "cm = st.CompareMeans(dsw1, dsw2)\n",
    "\n",
    "# calculate number of observations, mean and standard deviation for each group\n",
    "n_smoker = dsw1.nobs\n",
    "n_nonsmoker = dsw2.nobs\n",
    "mean_smoker = dsw1.mean\n",
    "mean_nonsmoker = dsw2.mean\n",
    "sd_smoker = dsw1.std\n",
    "sd_nonsmoker = dsw2.std\n",
    "print(f'n_smoker = {n_smoker}')\n",
    "print(f'mean_smoker = {mean_smoker}')\n",
    "print(f'sd_smoker = {sd_smoker}')\n",
    "print()\n",
    "print(f'n_nonsmoker = {n_nonsmoker}')\n",
    "print(f'mean_nonsmoker = {mean_nonsmoker}')\n",
    "print(f'sd_nonsmoker = {sd_nonsmoker}')\n",
    "print()\n",
    "\n",
    "# conduct hypothesis test\n",
    "ht = cm.ztest_ind(alternative = 'two-sided', usevar = 'unequal', value = 0)\n",
    "\n",
    "# calculate and print the standard error, the Z-score, and p-value for the hypothesis test\n",
    "se = cm.std_meandiff_separatevar\n",
    "testZ = ht[0]\n",
    "p_value = ht[1]\n",
    "print(f'Standard error = {se}')\n",
    "print(f'Test statistic: Z = {testZ}')\n",
    "print(f'p-value = {p_value}')\n",
    "\n",
    "# reject or accept null hypothesis\n",
    "if(p_value) < 0.05:\n",
    "    print('reject null hypothesis')\n",
    "else:\n",
    "    print('accept null hypothesis')"
   ]
  },
  {
   "cell_type": "markdown",
   "metadata": {},
   "source": [
    "The p-value is lower than 0.05 so we reject the null hyphotesis."
   ]
  },
  {
   "cell_type": "markdown",
   "metadata": {},
   "source": [
    "<div class = 'exercise'>\n",
    "<h4>Exercise 5</h4>\n",
    "Construct a confidence interval for the difference between the weights of babies born to smoking and non-smoking mothers.</div>"
   ]
  },
  {
   "cell_type": "code",
   "execution_count": 190,
   "metadata": {},
   "outputs": [],
   "source": [
    "#get the difference between both means\n",
    "difference=mean_nonsmoker - mean_smoker"
   ]
  },
  {
   "cell_type": "code",
   "execution_count": 192,
   "metadata": {},
   "outputs": [],
   "source": [
    "#get the upper and lower side, using 1.96 for 95% confidence\n",
    "lower_side_interval=difference-(1.96*se)\n",
    "upper_side_interval=difference+(1.96*se)"
   ]
  },
  {
   "cell_type": "code",
   "execution_count": 193,
   "metadata": {},
   "outputs": [
    {
     "name": "stdout",
     "output_type": "stream",
     "text": [
      "confidence interval for the difference = (0.0534, 0.5777)\n"
     ]
    }
   ],
   "source": [
    "#print calculated interval, rounding to 4 decimals\n",
    "print(f'confidence interval for the difference = ({round(lower_side_interval,4)}, {round(upper_side_interval,4)})')"
   ]
  },
  {
   "cell_type": "markdown",
   "metadata": {},
   "source": [
    "---\n",
    "## On Your Own"
   ]
  },
  {
   "cell_type": "markdown",
   "metadata": {},
   "source": [
    "__1)__ Calculate a 95% confidence interval for the average length of pregnancies (<code>weeks</code>) and interpret it in context. Note that since you're doing inference on a single population parameter, there is no explanatory variable, so you can omit the <code>x</code> variable from the function."
   ]
  },
  {
   "cell_type": "code",
   "execution_count": 194,
   "metadata": {},
   "outputs": [
    {
     "data": {
      "text/plain": [
       "2"
      ]
     },
     "execution_count": 194,
     "metadata": {},
     "output_type": "execute_result"
    }
   ],
   "source": [
    "#chequing if there are NaN records\n",
    "nc['weeks'].isnull().sum()"
   ]
  },
  {
   "cell_type": "code",
   "execution_count": 195,
   "metadata": {},
   "outputs": [],
   "source": [
    "#getting weeks column in a variable\n",
    "weeks_column=nc['weeks'].copy()"
   ]
  },
  {
   "cell_type": "code",
   "execution_count": 196,
   "metadata": {},
   "outputs": [],
   "source": [
    "#droping NaN values\n",
    "weeks_column.dropna(inplace=True, how ='any')"
   ]
  },
  {
   "cell_type": "code",
   "execution_count": 197,
   "metadata": {},
   "outputs": [
    {
     "data": {
      "text/plain": [
       "998"
      ]
     },
     "execution_count": 197,
     "metadata": {},
     "output_type": "execute_result"
    }
   ],
   "source": [
    "#showing new size\n",
    "weeks_column.size"
   ]
  },
  {
   "cell_type": "code",
   "execution_count": 198,
   "metadata": {},
   "outputs": [
    {
     "data": {
      "text/plain": [
       "38.33466933867736"
      ]
     },
     "execution_count": 198,
     "metadata": {},
     "output_type": "execute_result"
    }
   ],
   "source": [
    "# excluding records with NaN values to calculate the mean\n",
    "mean_weeks = weeks_column.mean()\n",
    "mean_weeks"
   ]
  },
  {
   "cell_type": "code",
   "execution_count": 199,
   "metadata": {},
   "outputs": [
    {
     "data": {
      "text/plain": [
       "0.09279668581378588"
      ]
     },
     "execution_count": 199,
     "metadata": {},
     "output_type": "execute_result"
    }
   ],
   "source": [
    "from scipy.stats import sem\n",
    "#getting standard error\n",
    "se=sem(weeks_column)\n",
    "se"
   ]
  },
  {
   "cell_type": "code",
   "execution_count": 200,
   "metadata": {},
   "outputs": [
    {
     "name": "stdout",
     "output_type": "stream",
     "text": [
      "95% confidence interval for weeks = (38.1528, 38.5166)\n"
     ]
    }
   ],
   "source": [
    "#95% confidence interval\n",
    "lower_side_interval=mean_weeks-(1.96*se)\n",
    "upper_side_interval=mean_weeks+(1.96*se)\n",
    "\n",
    "#print calculated interval, rounding to 4 decimals\n",
    "print(f'95% confidence interval for weeks = ({round(lower_side_interval,4)}, {round(upper_side_interval,4)})')"
   ]
  },
  {
   "cell_type": "markdown",
   "metadata": {},
   "source": [
    "__2)__ Calculate a new confidence interval for the same parameter at the 90% confidence level."
   ]
  },
  {
   "cell_type": "code",
   "execution_count": 201,
   "metadata": {},
   "outputs": [
    {
     "name": "stdout",
     "output_type": "stream",
     "text": [
      "90% confidence interval for weeks = (38.1825, 38.4869)\n"
     ]
    }
   ],
   "source": [
    "#90% confidence interval\n",
    "lower_side_interval=mean_weeks-(1.64*se)\n",
    "upper_side_interval=mean_weeks+(1.64*se)\n",
    "\n",
    "#print calculated interval, rounding to 4 decimals\n",
    "print(f'90% confidence interval for weeks = ({round(lower_side_interval,4)}, {round(upper_side_interval,4)})')"
   ]
  },
  {
   "cell_type": "markdown",
   "metadata": {},
   "source": [
    "__3)__ Conduct a hypothesis test evaluating whether the average weight gained by younger mothers is different than the average weight gained by mature mothers."
   ]
  },
  {
   "cell_type": "code",
   "execution_count": 202,
   "metadata": {},
   "outputs": [
    {
     "data": {
      "text/plain": [
       "mature\n",
       "mature mom     133\n",
       "younger mom    867\n",
       "dtype: int64"
      ]
     },
     "execution_count": 202,
     "metadata": {},
     "output_type": "execute_result"
    }
   ],
   "source": [
    "# getting sample sizes.\n",
    "nc.groupby(['mature']).size()"
   ]
  },
  {
   "cell_type": "markdown",
   "metadata": {},
   "source": [
    "__Ho:__ There is no difference in the average weigths gained by younger mothers and mature mothers. <br>\n",
    "__Ha:__ There is some difference in the average weigths gained by younger mothers and mature mothers. "
   ]
  },
  {
   "cell_type": "code",
   "execution_count": 203,
   "metadata": {},
   "outputs": [
    {
     "name": "stdout",
     "output_type": "stream",
     "text": [
      "n_mature = 129.0\n",
      "mean_mature = 28.790697674418606\n",
      "sd_mature = 13.430079867583979\n",
      "\n",
      "n_nonmature = 844.0\n",
      "mean_nonmature = 30.56042654028436\n",
      "sd_nonmature = 14.33840822856442\n",
      "\n",
      "Standard error = 1.2856891093446254\n",
      "Test statistic: Z = -1.376482738325338\n",
      "p-value = 0.16867222789392544\n",
      "accept null hypothesis\n"
     ]
    }
   ],
   "source": [
    "#using same code as exercise 4\n",
    "nc_weightANDmature = nc[nc['mature'] == 'mature mom']['gained']\n",
    "nc_weightANDnonmature = nc[nc['mature'] == 'younger mom']['gained']\n",
    "\n",
    "#excluding NaN rows\n",
    "nc_weightANDmature.dropna(inplace=True, how ='any')\n",
    "nc_weightANDnonmature.dropna(inplace=True, how ='any')\n",
    "\n",
    "#rest of the code\n",
    "dsw1 = st.DescrStatsW(nc_weightANDmature)\n",
    "dsw2 = st.DescrStatsW(nc_weightANDnonmature)\n",
    "cm = st.CompareMeans(dsw1, dsw2)\n",
    "\n",
    "# calculate number of observations, mean and standard deviation for each group\n",
    "n_mature = dsw1.nobs\n",
    "n_nonmature = dsw2.nobs\n",
    "mean_mature = dsw1.mean\n",
    "mean_nonmature = dsw2.mean\n",
    "sd_mature = dsw1.std\n",
    "sd_nonmature = dsw2.std\n",
    "print(f'n_mature = {n_mature}')\n",
    "print(f'mean_mature = {mean_mature}')\n",
    "print(f'sd_mature = {sd_mature}')\n",
    "print()\n",
    "print(f'n_nonmature = {n_nonmature}')\n",
    "print(f'mean_nonmature = {mean_nonmature}')\n",
    "print(f'sd_nonmature = {sd_nonmature}')\n",
    "print()\n",
    "\n",
    "# conduct hypothesis test\n",
    "ht = cm.ztest_ind(alternative = 'two-sided', usevar = 'unequal', value = 0)\n",
    "\n",
    "# calculate and print the standard error, the Z-score, and p-value for the hypothesis test\n",
    "se = cm.std_meandiff_separatevar\n",
    "testZ = ht[0]\n",
    "p_value = ht[1]\n",
    "print(f'Standard error = {se}')\n",
    "print(f'Test statistic: Z = {testZ}')\n",
    "print(f'p-value = {p_value}')\n",
    "\n",
    "# reject or accept null hypothesis\n",
    "if(p_value) < 0.05:\n",
    "    print('reject null hypothesis')\n",
    "else:\n",
    "    print('accept null hypothesis')"
   ]
  },
  {
   "cell_type": "markdown",
   "metadata": {},
   "source": [
    "The p-value is higher than 0.05 showing that we should not reject the null hyphotesis. There is not enough evidence to say that there is a difference between the average weight gained by younger mothers and the average weight gained by mature mothers."
   ]
  },
  {
   "cell_type": "markdown",
   "metadata": {},
   "source": [
    "__4)__ Now, a non-inference task: Determine the age cutoff for younger and mature mothers. Use a method of your choice, and explain how your method works."
   ]
  },
  {
   "cell_type": "code",
   "execution_count": 204,
   "metadata": {},
   "outputs": [],
   "source": [
    "#getting the corresponding ages for mature and young mom\n",
    "nc_ageANDmature = nc[nc['mature'] == 'mature mom']['mage']\n",
    "nc_ageANDnonmature = nc[nc['mature'] == 'younger mom']['mage']\n",
    "\n",
    "#excluding NaN rows\n",
    "nc_ageANDmature.dropna(inplace=True, how ='any')\n",
    "nc_ageANDnonmature.dropna(inplace=True, how ='any')"
   ]
  },
  {
   "cell_type": "markdown",
   "metadata": {},
   "source": [
    "To understand the cuoff I will get the minimun value for the mature mom and the maximun value for the younger mom"
   ]
  },
  {
   "cell_type": "code",
   "execution_count": 205,
   "metadata": {},
   "outputs": [
    {
     "data": {
      "text/plain": [
       "35"
      ]
     },
     "execution_count": 205,
     "metadata": {},
     "output_type": "execute_result"
    }
   ],
   "source": [
    "min(nc_ageANDmature)"
   ]
  },
  {
   "cell_type": "code",
   "execution_count": 206,
   "metadata": {},
   "outputs": [
    {
     "data": {
      "text/plain": [
       "34"
      ]
     },
     "execution_count": 206,
     "metadata": {},
     "output_type": "execute_result"
    }
   ],
   "source": [
    "max(nc_ageANDnonmature)"
   ]
  },
  {
   "cell_type": "markdown",
   "metadata": {},
   "source": [
    "The results show that 35 years is the cutoff for a mother to start being considered mature in the dataset. So all mom that are 35 or older are considered mature."
   ]
  },
  {
   "cell_type": "markdown",
   "metadata": {},
   "source": [
    "__5)__ Pick a pair of numerical and categorical variables and come up with a research question evaluating the relationship between these variables. Formulate the question in a way that it can be answered using a hypothesis test and/or a confidence interval. Answer your question with Python, report the statistical results, and also provide an explanation in plain language."
   ]
  },
  {
   "cell_type": "markdown",
   "metadata": {},
   "source": [
    "- Conduct a hypothesis test evaluating whether the average father's age of premature babies is different than the average father's age of full-term babies."
   ]
  },
  {
   "cell_type": "markdown",
   "metadata": {},
   "source": [
    "__Ho:__ There is no difference in the average father's age by premature and full-term babies. <br>\n",
    "__Ha:__ There is some difference in the average father's age by premature and full-term babies. "
   ]
  },
  {
   "cell_type": "code",
   "execution_count": 207,
   "metadata": {},
   "outputs": [
    {
     "name": "stdout",
     "output_type": "stream",
     "text": [
      "n_premie = 114.0\n",
      "mean_premie = 30.31578947368421\n",
      "sd_premie = 7.55252460343581\n",
      "\n",
      "n_nonpremie = 714.0\n",
      "mean_nonpremie = 30.242296918767508\n",
      "sd_nonpremie = 6.628294607365859\n",
      "\n",
      "Standard error = 0.7525976593029412\n",
      "Test statistic: Z = 0.09765185156803438\n",
      "p-value = 0.9222087496252132\n",
      "accept null hypothesis\n"
     ]
    }
   ],
   "source": [
    "#using same code as exercise 4\n",
    "nc_fageANDpremie = nc[nc['premie'] == 'premie']['fage']\n",
    "nc_fageANDnonpremie = nc[nc['premie'] == 'full term']['fage']\n",
    "\n",
    "#excluding NaN rows\n",
    "nc_fageANDpremie.dropna(inplace=True, how ='any')\n",
    "nc_fageANDnonpremie.dropna(inplace=True, how ='any')\n",
    "\n",
    "#rest of the code\n",
    "dsw1 = st.DescrStatsW(nc_fageANDpremie)\n",
    "dsw2 = st.DescrStatsW(nc_fageANDnonpremie)\n",
    "cm = st.CompareMeans(dsw1, dsw2)\n",
    "\n",
    "# calculate number of observations, mean and standard deviation for each group\n",
    "n_premie = dsw1.nobs\n",
    "n_nonpremie = dsw2.nobs\n",
    "mean_premie = dsw1.mean\n",
    "mean_nonpremie = dsw2.mean\n",
    "sd_premie = dsw1.std\n",
    "sd_nonpremie = dsw2.std\n",
    "print(f'n_premie = {n_premie}')\n",
    "print(f'mean_premie = {mean_premie}')\n",
    "print(f'sd_premie = {sd_premie}')\n",
    "print()\n",
    "print(f'n_nonpremie = {n_nonpremie}')\n",
    "print(f'mean_nonpremie = {mean_nonpremie}')\n",
    "print(f'sd_nonpremie = {sd_nonpremie}')\n",
    "print()\n",
    "\n",
    "# conduct hypothesis test\n",
    "ht = cm.ztest_ind(alternative = 'two-sided', usevar = 'unequal', value = 0)\n",
    "\n",
    "# calculate and print the standard error, the Z-score, and p-value for the hypothesis test\n",
    "se = cm.std_meandiff_separatevar\n",
    "testZ = ht[0]\n",
    "p_value = ht[1]\n",
    "print(f'Standard error = {se}')\n",
    "print(f'Test statistic: Z = {testZ}')\n",
    "print(f'p-value = {p_value}')\n",
    "\n",
    "# reject or accept null hypothesis\n",
    "if(p_value) < 0.05:\n",
    "    print('reject null hypothesis')\n",
    "else:\n",
    "    print('accept null hypothesis')"
   ]
  },
  {
   "cell_type": "markdown",
   "metadata": {},
   "source": [
    "The p-value is higher than 0.05 showing that we should not reject the null hyphotesis. There is not enough evidence to say that there is a difference between the average father's age of premature babies and the average father's age of full-term borns."
   ]
  },
  {
   "cell_type": "markdown",
   "metadata": {},
   "source": [
    "<div class = \"license\">\n",
    "This lab was adapted by Vural Aksakalli and Imran Ture from OpenIntro by Andrew Bray and Mine Çetinkaya-Rundel.\n",
    "</div>"
   ]
  },
  {
   "cell_type": "markdown",
   "metadata": {},
   "source": [
    "***\n",
    "www.featureranking.com"
   ]
  }
 ],
 "metadata": {
  "kernelspec": {
   "display_name": "Python 3",
   "language": "python",
   "name": "python3"
  },
  "language_info": {
   "codemirror_mode": {
    "name": "ipython",
    "version": 3
   },
   "file_extension": ".py",
   "mimetype": "text/x-python",
   "name": "python",
   "nbconvert_exporter": "python",
   "pygments_lexer": "ipython3",
   "version": "3.7.3"
  }
 },
 "nbformat": 4,
 "nbformat_minor": 2
}
